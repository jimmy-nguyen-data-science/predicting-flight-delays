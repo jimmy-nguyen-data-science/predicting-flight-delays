{
 "cells": [
  {
   "cell_type": "markdown",
   "metadata": {},
   "source": [
    "# Packages "
   ]
  },
  {
   "cell_type": "code",
   "execution_count": 28,
   "metadata": {},
   "outputs": [],
   "source": [
    "#install pyathena if needed\n",
    "#!pip install pyathena\n",
    "from pyathena import connect"
   ]
  },
  {
   "cell_type": "code",
   "execution_count": 19,
   "metadata": {},
   "outputs": [],
   "source": [
    "import boto3\n",
    "import sagemaker\n",
    "\n",
    "import numpy as np\n",
    "import pandas as pd\n",
    "pd.set_option('display.max_columns', 500)\n",
    "pd.set_option('display.width', 1000)\n",
    "\n",
    "import seaborn as sns\n",
    "from pathlib import Path\n",
    "\n",
    "import matplotlib.pyplot as plt\n",
    "\n",
    "%matplotlib inline\n",
    "%config InlineBackend.figure_format='retina'\n",
    "\n",
    "sns.set_style = \"seaborn-whitegrid\"\n",
    "\n",
    "sns.set(\n",
    "    rc={\n",
    "        \"font.style\": \"normal\",\n",
    "        \"axes.facecolor\": \"white\",\n",
    "        \"grid.color\": \".8\",\n",
    "        \"grid.linestyle\": \"-\",\n",
    "        \"figure.facecolor\": \"white\",\n",
    "        \"figure.titlesize\": 20,\n",
    "        \"text.color\": \"black\",\n",
    "        \"xtick.color\": \"black\",\n",
    "        \"ytick.color\": \"black\",\n",
    "        \"axes.labelcolor\": \"black\",\n",
    "        \"axes.grid\": True,\n",
    "        \"axes.labelsize\": 10,\n",
    "        \"xtick.labelsize\": 10,\n",
    "        \"font.size\": 10,\n",
    "        \"ytick.labelsize\": 10,\n",
    "    }\n",
    ")"
   ]
  },
  {
   "cell_type": "markdown",
   "metadata": {},
   "source": [
    "# Set-up"
   ]
  },
  {
   "cell_type": "code",
   "execution_count": 10,
   "metadata": {},
   "outputs": [],
   "source": [
    "sess = sagemaker.Session()\n",
    "bucket = sess.default_bucket()\n",
    "role = sagemaker.get_execution_role()\n",
    "region = boto3.Session().region_name"
   ]
  },
  {
   "cell_type": "markdown",
   "metadata": {},
   "source": [
    "# Load Athena Database for Merged Data"
   ]
  },
  {
   "cell_type": "code",
   "execution_count": 12,
   "metadata": {},
   "outputs": [],
   "source": [
    "# Set Athena database & table\n",
    "database_name = \"ads508\"\n",
    "table_name = \"merged_data\""
   ]
  },
  {
   "cell_type": "code",
   "execution_count": 13,
   "metadata": {},
   "outputs": [],
   "source": [
    "# Set S3 staging directory -- this is a temporary directory used for Athena queries\n",
    "s3_staging_dir = \"s3://{0}/ads508/athena/staging\".format(bucket)"
   ]
  },
  {
   "cell_type": "code",
   "execution_count": 14,
   "metadata": {},
   "outputs": [],
   "source": [
    "conn = connect(region_name=region, s3_staging_dir=s3_staging_dir)"
   ]
  },
  {
   "cell_type": "code",
   "execution_count": 15,
   "metadata": {},
   "outputs": [
    {
     "data": {
      "text/html": [
       "<div>\n",
       "<style scoped>\n",
       "    .dataframe tbody tr th:only-of-type {\n",
       "        vertical-align: middle;\n",
       "    }\n",
       "\n",
       "    .dataframe tbody tr th {\n",
       "        vertical-align: top;\n",
       "    }\n",
       "\n",
       "    .dataframe thead th {\n",
       "        text-align: right;\n",
       "    }\n",
       "</style>\n",
       "<table border=\"1\" class=\"dataframe\">\n",
       "  <thead>\n",
       "    <tr style=\"text-align: right;\">\n",
       "      <th></th>\n",
       "      <th>database_name</th>\n",
       "    </tr>\n",
       "  </thead>\n",
       "  <tbody>\n",
       "    <tr>\n",
       "      <th>0</th>\n",
       "      <td>ads508</td>\n",
       "    </tr>\n",
       "    <tr>\n",
       "      <th>1</th>\n",
       "      <td>default</td>\n",
       "    </tr>\n",
       "    <tr>\n",
       "      <th>2</th>\n",
       "      <td>dsoaws</td>\n",
       "    </tr>\n",
       "  </tbody>\n",
       "</table>\n",
       "</div>"
      ],
      "text/plain": [
       "  database_name\n",
       "0        ads508\n",
       "1       default\n",
       "2        dsoaws"
      ]
     },
     "execution_count": 15,
     "metadata": {},
     "output_type": "execute_result"
    }
   ],
   "source": [
    "statement = \"SHOW DATABASES\"\n",
    "\n",
    "df_show = pd.read_sql(statement, conn)\n",
    "df_show.head(5)"
   ]
  },
  {
   "cell_type": "markdown",
   "metadata": {},
   "source": [
    "# Download Merged Data from Public S3 Bucket"
   ]
  },
  {
   "cell_type": "code",
   "execution_count": 21,
   "metadata": {},
   "outputs": [
    {
     "data": {
      "text/html": [
       "<div>\n",
       "<style scoped>\n",
       "    .dataframe tbody tr th:only-of-type {\n",
       "        vertical-align: middle;\n",
       "    }\n",
       "\n",
       "    .dataframe tbody tr th {\n",
       "        vertical-align: top;\n",
       "    }\n",
       "\n",
       "    .dataframe thead th {\n",
       "        text-align: right;\n",
       "    }\n",
       "</style>\n",
       "<table border=\"1\" class=\"dataframe\">\n",
       "  <thead>\n",
       "    <tr style=\"text-align: right;\">\n",
       "      <th></th>\n",
       "      <th>DAY_OF_MONTH</th>\n",
       "      <th>DAY_OF_WEEK</th>\n",
       "      <th>OP_UNIQUE_CARRIER</th>\n",
       "      <th>TAIL_NUM</th>\n",
       "      <th>ORIGIN_AIRPORT_ID</th>\n",
       "      <th>ORIGIN</th>\n",
       "      <th>DEST</th>\n",
       "      <th>DEP_DEL15</th>\n",
       "      <th>DEP_TIME_BLK</th>\n",
       "      <th>ARR_TIME_BLK</th>\n",
       "      <th>CANCELLED</th>\n",
       "      <th>CRS_ELAPSED_TIME</th>\n",
       "      <th>DISTANCE</th>\n",
       "      <th>DISTANCE_GROUP</th>\n",
       "      <th>CARRIER_DELAY</th>\n",
       "      <th>WEATHER_DELAY</th>\n",
       "      <th>NAS_DELAY</th>\n",
       "      <th>SECURITY_DELAY</th>\n",
       "      <th>LATE_AIRCRAFT_DELAY</th>\n",
       "      <th>MANUFACTURE_YEAR</th>\n",
       "      <th>NUMBER_OF_SEATS</th>\n",
       "      <th>AIRLINE_ID</th>\n",
       "      <th>CARRIER_NAME</th>\n",
       "      <th>PILOTS_COPILOTS</th>\n",
       "      <th>PASSENGER_HANDLING</th>\n",
       "      <th>PASS_GEN_SVC_ADMIN</th>\n",
       "      <th>MAINTENANCE</th>\n",
       "      <th>PRCP</th>\n",
       "      <th>SNOW</th>\n",
       "      <th>SNWD</th>\n",
       "      <th>TMAX</th>\n",
       "      <th>AWND</th>\n",
       "    </tr>\n",
       "  </thead>\n",
       "  <tbody>\n",
       "    <tr>\n",
       "      <th>0</th>\n",
       "      <td>8</td>\n",
       "      <td>7</td>\n",
       "      <td>WN</td>\n",
       "      <td>N8651A</td>\n",
       "      <td>15016</td>\n",
       "      <td>STL</td>\n",
       "      <td>SAN</td>\n",
       "      <td>0.0</td>\n",
       "      <td>1100-1159</td>\n",
       "      <td>1300-1359</td>\n",
       "      <td>0.0</td>\n",
       "      <td>245.0</td>\n",
       "      <td>1557.0</td>\n",
       "      <td>7</td>\n",
       "      <td>0.0</td>\n",
       "      <td>0.0</td>\n",
       "      <td>18.0</td>\n",
       "      <td>0.0</td>\n",
       "      <td>0.0</td>\n",
       "      <td>2014.0</td>\n",
       "      <td>175.0</td>\n",
       "      <td>19393</td>\n",
       "      <td>Southwest Airlines Co.</td>\n",
       "      <td>8989.0</td>\n",
       "      <td>9668.0</td>\n",
       "      <td>15475.0</td>\n",
       "      <td>2482.0</td>\n",
       "      <td>0.02</td>\n",
       "      <td>0.0</td>\n",
       "      <td>0.0</td>\n",
       "      <td>58.0</td>\n",
       "      <td>9.84</td>\n",
       "    </tr>\n",
       "    <tr>\n",
       "      <th>1</th>\n",
       "      <td>8</td>\n",
       "      <td>7</td>\n",
       "      <td>WN</td>\n",
       "      <td>N939WN</td>\n",
       "      <td>15016</td>\n",
       "      <td>STL</td>\n",
       "      <td>SAT</td>\n",
       "      <td>0.0</td>\n",
       "      <td>1200-1259</td>\n",
       "      <td>1400-1459</td>\n",
       "      <td>0.0</td>\n",
       "      <td>145.0</td>\n",
       "      <td>786.0</td>\n",
       "      <td>4</td>\n",
       "      <td>NaN</td>\n",
       "      <td>NaN</td>\n",
       "      <td>NaN</td>\n",
       "      <td>NaN</td>\n",
       "      <td>NaN</td>\n",
       "      <td>2009.0</td>\n",
       "      <td>143.0</td>\n",
       "      <td>19393</td>\n",
       "      <td>Southwest Airlines Co.</td>\n",
       "      <td>8989.0</td>\n",
       "      <td>9668.0</td>\n",
       "      <td>15475.0</td>\n",
       "      <td>2482.0</td>\n",
       "      <td>0.02</td>\n",
       "      <td>0.0</td>\n",
       "      <td>0.0</td>\n",
       "      <td>58.0</td>\n",
       "      <td>9.84</td>\n",
       "    </tr>\n",
       "    <tr>\n",
       "      <th>2</th>\n",
       "      <td>8</td>\n",
       "      <td>7</td>\n",
       "      <td>WN</td>\n",
       "      <td>N7741C</td>\n",
       "      <td>15016</td>\n",
       "      <td>STL</td>\n",
       "      <td>SAT</td>\n",
       "      <td>0.0</td>\n",
       "      <td>2100-2159</td>\n",
       "      <td>0001-0559</td>\n",
       "      <td>0.0</td>\n",
       "      <td>140.0</td>\n",
       "      <td>786.0</td>\n",
       "      <td>4</td>\n",
       "      <td>NaN</td>\n",
       "      <td>NaN</td>\n",
       "      <td>NaN</td>\n",
       "      <td>NaN</td>\n",
       "      <td>NaN</td>\n",
       "      <td>2007.0</td>\n",
       "      <td>143.0</td>\n",
       "      <td>19393</td>\n",
       "      <td>Southwest Airlines Co.</td>\n",
       "      <td>8989.0</td>\n",
       "      <td>9668.0</td>\n",
       "      <td>15475.0</td>\n",
       "      <td>2482.0</td>\n",
       "      <td>0.02</td>\n",
       "      <td>0.0</td>\n",
       "      <td>0.0</td>\n",
       "      <td>58.0</td>\n",
       "      <td>9.84</td>\n",
       "    </tr>\n",
       "    <tr>\n",
       "      <th>3</th>\n",
       "      <td>8</td>\n",
       "      <td>7</td>\n",
       "      <td>WN</td>\n",
       "      <td>N550WN</td>\n",
       "      <td>15016</td>\n",
       "      <td>STL</td>\n",
       "      <td>SEA</td>\n",
       "      <td>0.0</td>\n",
       "      <td>0900-0959</td>\n",
       "      <td>1200-1259</td>\n",
       "      <td>0.0</td>\n",
       "      <td>275.0</td>\n",
       "      <td>1709.0</td>\n",
       "      <td>7</td>\n",
       "      <td>NaN</td>\n",
       "      <td>NaN</td>\n",
       "      <td>NaN</td>\n",
       "      <td>NaN</td>\n",
       "      <td>NaN</td>\n",
       "      <td>2001.0</td>\n",
       "      <td>143.0</td>\n",
       "      <td>19393</td>\n",
       "      <td>Southwest Airlines Co.</td>\n",
       "      <td>8989.0</td>\n",
       "      <td>9668.0</td>\n",
       "      <td>15475.0</td>\n",
       "      <td>2482.0</td>\n",
       "      <td>0.02</td>\n",
       "      <td>0.0</td>\n",
       "      <td>0.0</td>\n",
       "      <td>58.0</td>\n",
       "      <td>9.84</td>\n",
       "    </tr>\n",
       "    <tr>\n",
       "      <th>4</th>\n",
       "      <td>8</td>\n",
       "      <td>7</td>\n",
       "      <td>WN</td>\n",
       "      <td>N8319F</td>\n",
       "      <td>15016</td>\n",
       "      <td>STL</td>\n",
       "      <td>SFO</td>\n",
       "      <td>1.0</td>\n",
       "      <td>1800-1859</td>\n",
       "      <td>2000-2059</td>\n",
       "      <td>0.0</td>\n",
       "      <td>270.0</td>\n",
       "      <td>1735.0</td>\n",
       "      <td>7</td>\n",
       "      <td>NaN</td>\n",
       "      <td>NaN</td>\n",
       "      <td>NaN</td>\n",
       "      <td>NaN</td>\n",
       "      <td>NaN</td>\n",
       "      <td>2012.0</td>\n",
       "      <td>175.0</td>\n",
       "      <td>19393</td>\n",
       "      <td>Southwest Airlines Co.</td>\n",
       "      <td>8989.0</td>\n",
       "      <td>9668.0</td>\n",
       "      <td>15475.0</td>\n",
       "      <td>2482.0</td>\n",
       "      <td>0.02</td>\n",
       "      <td>0.0</td>\n",
       "      <td>0.0</td>\n",
       "      <td>58.0</td>\n",
       "      <td>9.84</td>\n",
       "    </tr>\n",
       "  </tbody>\n",
       "</table>\n",
       "</div>"
      ],
      "text/plain": [
       "   DAY_OF_MONTH  DAY_OF_WEEK OP_UNIQUE_CARRIER TAIL_NUM  ORIGIN_AIRPORT_ID ORIGIN DEST  DEP_DEL15 DEP_TIME_BLK ARR_TIME_BLK  CANCELLED  CRS_ELAPSED_TIME  DISTANCE  DISTANCE_GROUP  CARRIER_DELAY  WEATHER_DELAY  NAS_DELAY  SECURITY_DELAY  LATE_AIRCRAFT_DELAY  MANUFACTURE_YEAR  NUMBER_OF_SEATS  AIRLINE_ID            CARRIER_NAME  PILOTS_COPILOTS  PASSENGER_HANDLING  PASS_GEN_SVC_ADMIN  MAINTENANCE  PRCP  SNOW  SNWD  TMAX  AWND\n",
       "0  8             7            WN                N8651A   15016              STL    SAN  0.0        1100-1159    1300-1359    0.0        245.0             1557.0    7               0.0            0.0            18.0       0.0             0.0                  2014.0            175.0            19393       Southwest Airlines Co.  8989.0           9668.0              15475.0             2482.0       0.02  0.0   0.0   58.0  9.84\n",
       "1  8             7            WN                N939WN   15016              STL    SAT  0.0        1200-1259    1400-1459    0.0        145.0             786.0     4              NaN            NaN            NaN        NaN             NaN                   2009.0            143.0            19393       Southwest Airlines Co.  8989.0           9668.0              15475.0             2482.0       0.02  0.0   0.0   58.0  9.84\n",
       "2  8             7            WN                N7741C   15016              STL    SAT  0.0        2100-2159    0001-0559    0.0        140.0             786.0     4              NaN            NaN            NaN        NaN             NaN                   2007.0            143.0            19393       Southwest Airlines Co.  8989.0           9668.0              15475.0             2482.0       0.02  0.0   0.0   58.0  9.84\n",
       "3  8             7            WN                N550WN   15016              STL    SEA  0.0        0900-0959    1200-1259    0.0        275.0             1709.0    7              NaN            NaN            NaN        NaN             NaN                   2001.0            143.0            19393       Southwest Airlines Co.  8989.0           9668.0              15475.0             2482.0       0.02  0.0   0.0   58.0  9.84\n",
       "4  8             7            WN                N8319F   15016              STL    SFO  1.0        1800-1859    2000-2059    0.0        270.0             1735.0    7              NaN            NaN            NaN        NaN             NaN                   2012.0            175.0            19393       Southwest Airlines Co.  8989.0           9668.0              15475.0             2482.0       0.02  0.0   0.0   58.0  9.84"
      ]
     },
     "execution_count": 21,
     "metadata": {},
     "output_type": "execute_result"
    }
   ],
   "source": [
    "# Public Flight Data\n",
    "s3_client = boto3.client(\"s3\")\n",
    "\n",
    "BUCKET='ads-508-airline'\n",
    "KEY='merged/Dec_merged.csv'\n",
    "\n",
    "response = s3_client.get_object(Bucket=BUCKET, Key=KEY)\n",
    "\n",
    "pd.set_option('display.expand_frame_repr', False)\n",
    "dec_merged = pd.read_csv(response.get(\"Body\"))\n",
    "dec_merged.head()"
   ]
  },
  {
   "cell_type": "code",
   "execution_count": 30,
   "metadata": {},
   "outputs": [
    {
     "name": "stdout",
     "output_type": "stream",
     "text": [
      "<class 'pandas.core.frame.DataFrame'>\n",
      "RangeIndex: 619970 entries, 0 to 619969\n",
      "Data columns (total 32 columns):\n",
      " #   Column               Non-Null Count   Dtype  \n",
      "---  ------               --------------   -----  \n",
      " 0   DAY_OF_MONTH         619970 non-null  int64  \n",
      " 1   DAY_OF_WEEK          619970 non-null  int64  \n",
      " 2   OP_UNIQUE_CARRIER    619970 non-null  object \n",
      " 3   TAIL_NUM             619970 non-null  object \n",
      " 4   ORIGIN_AIRPORT_ID    619970 non-null  int64  \n",
      " 5   ORIGIN               619970 non-null  object \n",
      " 6   DEST                 619970 non-null  object \n",
      " 7   DEP_DEL15            619970 non-null  float64\n",
      " 8   DEP_TIME_BLK         619970 non-null  object \n",
      " 9   ARR_TIME_BLK         619970 non-null  object \n",
      " 10  CANCELLED            619970 non-null  float64\n",
      " 11  CRS_ELAPSED_TIME     619970 non-null  float64\n",
      " 12  DISTANCE             619970 non-null  float64\n",
      " 13  DISTANCE_GROUP       619970 non-null  int64  \n",
      " 14  CARRIER_DELAY        126945 non-null  float64\n",
      " 15  WEATHER_DELAY        126945 non-null  float64\n",
      " 16  NAS_DELAY            126945 non-null  float64\n",
      " 17  SECURITY_DELAY       126945 non-null  float64\n",
      " 18  LATE_AIRCRAFT_DELAY  126945 non-null  float64\n",
      " 19  MANUFACTURE_YEAR     596472 non-null  float64\n",
      " 20  NUMBER_OF_SEATS      596472 non-null  float64\n",
      " 21  AIRLINE_ID           619970 non-null  int64  \n",
      " 22  CARRIER_NAME         619970 non-null  object \n",
      " 23  PILOTS_COPILOTS      543333 non-null  float64\n",
      " 24  PASSENGER_HANDLING   543333 non-null  float64\n",
      " 25  PASS_GEN_SVC_ADMIN   543333 non-null  float64\n",
      " 26  MAINTENANCE          543333 non-null  float64\n",
      " 27  PRCP                 558162 non-null  float64\n",
      " 28  SNOW                 558162 non-null  float64\n",
      " 29  SNWD                 558162 non-null  float64\n",
      " 30  TMAX                 558026 non-null  float64\n",
      " 31  AWND                 558162 non-null  float64\n",
      "dtypes: float64(20), int64(5), object(7)\n",
      "memory usage: 151.4+ MB\n"
     ]
    }
   ],
   "source": [
    "dec_merged.info()"
   ]
  },
  {
   "cell_type": "code",
   "execution_count": 23,
   "metadata": {},
   "outputs": [],
   "source": [
    "file_path = Path('../src/data/transformed_data/Dec_merged.csv')\n",
    "\n",
    "if file_path.is_file():\n",
    "    None\n",
    "else:\n",
    "    dec_merged.to_csv('../src/data/transformed_data/Dec_merged.csv', index=False)"
   ]
  },
  {
   "cell_type": "markdown",
   "metadata": {},
   "source": [
    "# Set S3 Destination Location(Our S3 Private Bucket)"
   ]
  },
  {
   "cell_type": "code",
   "execution_count": 24,
   "metadata": {},
   "outputs": [
    {
     "name": "stdout",
     "output_type": "stream",
     "text": [
      "s3://sagemaker-us-east-1-229768475194/ads508/data/merged\n"
     ]
    }
   ],
   "source": [
    "s3_private_path_csv = \"s3://{}/ads508/data/merged\".format(bucket)\n",
    "print(s3_private_path_csv)"
   ]
  },
  {
   "cell_type": "code",
   "execution_count": 25,
   "metadata": {},
   "outputs": [
    {
     "name": "stdout",
     "output_type": "stream",
     "text": [
      "Stored 's3_private_path_csv' (str)\n"
     ]
    }
   ],
   "source": [
    "%store s3_private_path_csv"
   ]
  },
  {
   "cell_type": "markdown",
   "metadata": {},
   "source": [
    "# Copy Downloaded Local Data to our Private S3 Bucket in this Account"
   ]
  },
  {
   "cell_type": "code",
   "execution_count": 26,
   "metadata": {},
   "outputs": [
    {
     "name": "stdout",
     "output_type": "stream",
     "text": [
      "upload: ../src/data/transformed_data/Dec_merged.csv to s3://sagemaker-us-east-1-229768475194/ads508/data/merged/Dec_merged.csv\n"
     ]
    }
   ],
   "source": [
    "!aws s3 cp $file_path $s3_private_path_csv/ "
   ]
  },
  {
   "cell_type": "code",
   "execution_count": 27,
   "metadata": {},
   "outputs": [
    {
     "name": "stdout",
     "output_type": "stream",
     "text": [
      "2022-03-25 00:01:51  102283704 Dec_merged.csv\n"
     ]
    }
   ],
   "source": [
    "!aws s3 ls $s3_private_path_csv/"
   ]
  },
  {
   "cell_type": "markdown",
   "metadata": {},
   "source": [
    "# Create Table in Database"
   ]
  },
  {
   "cell_type": "code",
   "execution_count": 31,
   "metadata": {},
   "outputs": [
    {
     "name": "stdout",
     "output_type": "stream",
     "text": [
      "CREATE EXTERNAL TABLE IF NOT EXISTS ads508.merged_data(\n",
      "         DAY_OF_MONTH int,\n",
      "         DAY_OF_WEEK int,\n",
      "         OP_UNIQUE_CARRIER string,\n",
      "         TAIL_NUM string,\n",
      "         ORIGIN string,\n",
      "         DEST string,\n",
      "         DEP_DEL15 float,\n",
      "         DEP_TIME_BLK string,\n",
      "         ARR_TIME_BLK string,\n",
      "         CANCELLED float,\n",
      "         CRS_ELAPSED_TIME float,\n",
      "         DISTANCE float,\n",
      "         DISTANCE_GROUP int,\n",
      "         CARRIER_DELAY float,\n",
      "         WEATHER_DELAY float,\n",
      "         NAS_DELAY float,\n",
      "         SECURITY_DELAY float,\n",
      "         LATE_AIRCRAFT_DELAY float,\n",
      "         MANUFACTURE_YEAR float,\n",
      "         NUMBER_OF_SEATS float, \n",
      "         AIRLINE_ID int, \n",
      "         CARRIER_NAME string,\n",
      "         PILOTS_COPILOTS float,\n",
      "         PASSENGER_HANDLING float,\n",
      "         PASS_GEN_SVC_ADMIN float,\n",
      "         MAINTENANCE float, \n",
      "         PRCP float,\n",
      "         SNOW float,\n",
      "         SNWD float,\n",
      "         TMAX float,\n",
      "         AWND float\n",
      "         \n",
      "     \n",
      "         \n",
      "        \n",
      ") \n",
      "ROW FORMAT DELIMITED \n",
      "FIELDS TERMINATED BY ','\n",
      "LINES TERMINATED BY '\n",
      "'\n",
      "LOCATION 's3://sagemaker-us-east-1-229768475194/ads508/data/merged'\n",
      "TBLPROPERTIES ('skip.header.line.count'='1')\n"
     ]
    }
   ],
   "source": [
    "# SQL statement to execute\n",
    "statement = \"\"\"CREATE EXTERNAL TABLE IF NOT EXISTS {}.{}(\n",
    "         DAY_OF_MONTH int,\n",
    "         DAY_OF_WEEK int,\n",
    "         OP_UNIQUE_CARRIER string,\n",
    "         TAIL_NUM string,\n",
    "         ORIGIN string,\n",
    "         DEST string,\n",
    "         DEP_DEL15 float,\n",
    "         DEP_TIME_BLK string,\n",
    "         ARR_TIME_BLK string,\n",
    "         CANCELLED float,\n",
    "         CRS_ELAPSED_TIME float,\n",
    "         DISTANCE float,\n",
    "         DISTANCE_GROUP int,\n",
    "         CARRIER_DELAY float,\n",
    "         WEATHER_DELAY float,\n",
    "         NAS_DELAY float,\n",
    "         SECURITY_DELAY float,\n",
    "         LATE_AIRCRAFT_DELAY float,\n",
    "         MANUFACTURE_YEAR float,\n",
    "         NUMBER_OF_SEATS float, \n",
    "         AIRLINE_ID int, \n",
    "         CARRIER_NAME string,\n",
    "         PILOTS_COPILOTS float,\n",
    "         PASSENGER_HANDLING float,\n",
    "         PASS_GEN_SVC_ADMIN float,\n",
    "         MAINTENANCE float, \n",
    "         PRCP float,\n",
    "         SNOW float,\n",
    "         SNWD float,\n",
    "         TMAX float,\n",
    "         AWND float\n",
    "         \n",
    "     \n",
    "         \n",
    "        \n",
    ") \n",
    "ROW FORMAT DELIMITED \n",
    "FIELDS TERMINATED BY ','\n",
    "LINES TERMINATED BY '\\n'\n",
    "LOCATION '{}'\n",
    "TBLPROPERTIES ('skip.header.line.count'='1')\"\"\".format(\n",
    "    database_name, table_name, s3_private_path_csv\n",
    ")\n",
    "\n",
    "print(statement)"
   ]
  },
  {
   "cell_type": "code",
   "execution_count": 19,
   "metadata": {},
   "outputs": [],
   "source": [
    "# Droping table if needed\n",
    "#statement2 = \"DROP TABLE {}.{}\".format(database_name, table_name)\n",
    "#pd.read_sql(statement2, conn)"
   ]
  },
  {
   "cell_type": "code",
   "execution_count": 32,
   "metadata": {},
   "outputs": [
    {
     "data": {
      "text/html": [
       "<div>\n",
       "<style scoped>\n",
       "    .dataframe tbody tr th:only-of-type {\n",
       "        vertical-align: middle;\n",
       "    }\n",
       "\n",
       "    .dataframe tbody tr th {\n",
       "        vertical-align: top;\n",
       "    }\n",
       "\n",
       "    .dataframe thead th {\n",
       "        text-align: right;\n",
       "    }\n",
       "</style>\n",
       "<table border=\"1\" class=\"dataframe\">\n",
       "  <thead>\n",
       "    <tr style=\"text-align: right;\">\n",
       "      <th></th>\n",
       "    </tr>\n",
       "  </thead>\n",
       "  <tbody>\n",
       "  </tbody>\n",
       "</table>\n",
       "</div>"
      ],
      "text/plain": [
       "Empty DataFrame\n",
       "Columns: []\n",
       "Index: []"
      ]
     },
     "execution_count": 32,
     "metadata": {},
     "output_type": "execute_result"
    }
   ],
   "source": [
    "pd.read_sql(statement, conn)"
   ]
  },
  {
   "cell_type": "markdown",
   "metadata": {},
   "source": [
    "# Verify the table has been created successfully"
   ]
  },
  {
   "cell_type": "code",
   "execution_count": 33,
   "metadata": {},
   "outputs": [
    {
     "data": {
      "text/html": [
       "<div>\n",
       "<style scoped>\n",
       "    .dataframe tbody tr th:only-of-type {\n",
       "        vertical-align: middle;\n",
       "    }\n",
       "\n",
       "    .dataframe tbody tr th {\n",
       "        vertical-align: top;\n",
       "    }\n",
       "\n",
       "    .dataframe thead th {\n",
       "        text-align: right;\n",
       "    }\n",
       "</style>\n",
       "<table border=\"1\" class=\"dataframe\">\n",
       "  <thead>\n",
       "    <tr style=\"text-align: right;\">\n",
       "      <th></th>\n",
       "      <th>tab_name</th>\n",
       "    </tr>\n",
       "  </thead>\n",
       "  <tbody>\n",
       "    <tr>\n",
       "      <th>0</th>\n",
       "      <td>flight_departure_delays</td>\n",
       "    </tr>\n",
       "    <tr>\n",
       "      <th>1</th>\n",
       "      <td>merged_data</td>\n",
       "    </tr>\n",
       "  </tbody>\n",
       "</table>\n",
       "</div>"
      ],
      "text/plain": [
       "                  tab_name\n",
       "0  flight_departure_delays\n",
       "1  merged_data            "
      ]
     },
     "execution_count": 33,
     "metadata": {},
     "output_type": "execute_result"
    }
   ],
   "source": [
    "statement = \"SHOW TABLES in {}\".format(database_name)\n",
    "\n",
    "df_show = pd.read_sql(statement, conn)\n",
    "df_show.head(5)"
   ]
  },
  {
   "cell_type": "markdown",
   "metadata": {},
   "source": [
    "# Run a sample query "
   ]
  },
  {
   "cell_type": "code",
   "execution_count": 34,
   "metadata": {},
   "outputs": [
    {
     "name": "stdout",
     "output_type": "stream",
     "text": [
      "SELECT * FROM ads508.merged_data\n",
      "                LIMIT 10\n"
     ]
    }
   ],
   "source": [
    "statement = \"\"\"SELECT * FROM {}.{}\n",
    "                LIMIT 10\"\"\".format(\n",
    "    database_name, table_name\n",
    ")\n",
    "\n",
    "print(statement)"
   ]
  },
  {
   "cell_type": "code",
   "execution_count": 35,
   "metadata": {},
   "outputs": [
    {
     "data": {
      "text/html": [
       "<div>\n",
       "<style scoped>\n",
       "    .dataframe tbody tr th:only-of-type {\n",
       "        vertical-align: middle;\n",
       "    }\n",
       "\n",
       "    .dataframe tbody tr th {\n",
       "        vertical-align: top;\n",
       "    }\n",
       "\n",
       "    .dataframe thead th {\n",
       "        text-align: right;\n",
       "    }\n",
       "</style>\n",
       "<table border=\"1\" class=\"dataframe\">\n",
       "  <thead>\n",
       "    <tr style=\"text-align: right;\">\n",
       "      <th></th>\n",
       "      <th>day_of_month</th>\n",
       "      <th>day_of_week</th>\n",
       "      <th>op_unique_carrier</th>\n",
       "      <th>tail_num</th>\n",
       "      <th>origin</th>\n",
       "      <th>dest</th>\n",
       "      <th>dep_del15</th>\n",
       "      <th>dep_time_blk</th>\n",
       "      <th>arr_time_blk</th>\n",
       "      <th>cancelled</th>\n",
       "      <th>crs_elapsed_time</th>\n",
       "      <th>distance</th>\n",
       "      <th>distance_group</th>\n",
       "      <th>carrier_delay</th>\n",
       "      <th>weather_delay</th>\n",
       "      <th>nas_delay</th>\n",
       "      <th>security_delay</th>\n",
       "      <th>late_aircraft_delay</th>\n",
       "      <th>manufacture_year</th>\n",
       "      <th>number_of_seats</th>\n",
       "      <th>airline_id</th>\n",
       "      <th>carrier_name</th>\n",
       "      <th>pilots_copilots</th>\n",
       "      <th>passenger_handling</th>\n",
       "      <th>pass_gen_svc_admin</th>\n",
       "      <th>maintenance</th>\n",
       "      <th>prcp</th>\n",
       "      <th>snow</th>\n",
       "      <th>snwd</th>\n",
       "      <th>tmax</th>\n",
       "      <th>awnd</th>\n",
       "    </tr>\n",
       "  </thead>\n",
       "  <tbody>\n",
       "    <tr>\n",
       "      <th>0</th>\n",
       "      <td>5</td>\n",
       "      <td>4</td>\n",
       "      <td>AA</td>\n",
       "      <td>N159AN</td>\n",
       "      <td>13303</td>\n",
       "      <td>MIA</td>\n",
       "      <td>None</td>\n",
       "      <td>0.0</td>\n",
       "      <td>2000-2059</td>\n",
       "      <td>None</td>\n",
       "      <td>0.0</td>\n",
       "      <td>338.0</td>\n",
       "      <td>2267</td>\n",
       "      <td>10.0</td>\n",
       "      <td>NaN</td>\n",
       "      <td>NaN</td>\n",
       "      <td>NaN</td>\n",
       "      <td>NaN</td>\n",
       "      <td>NaN</td>\n",
       "      <td>2016.0</td>\n",
       "      <td>181</td>\n",
       "      <td>19805</td>\n",
       "      <td>None</td>\n",
       "      <td>8586.0</td>\n",
       "      <td>8586.0</td>\n",
       "      <td>15502.0</td>\n",
       "      <td>9677.0</td>\n",
       "      <td>0.00</td>\n",
       "      <td>0.0</td>\n",
       "      <td>0.0</td>\n",
       "      <td>73.0</td>\n",
       "    </tr>\n",
       "    <tr>\n",
       "      <th>1</th>\n",
       "      <td>6</td>\n",
       "      <td>5</td>\n",
       "      <td>AA</td>\n",
       "      <td>N902AA</td>\n",
       "      <td>13303</td>\n",
       "      <td>MIA</td>\n",
       "      <td>None</td>\n",
       "      <td>0.0</td>\n",
       "      <td>2000-2059</td>\n",
       "      <td>None</td>\n",
       "      <td>0.0</td>\n",
       "      <td>338.0</td>\n",
       "      <td>2267</td>\n",
       "      <td>10.0</td>\n",
       "      <td>NaN</td>\n",
       "      <td>NaN</td>\n",
       "      <td>NaN</td>\n",
       "      <td>NaN</td>\n",
       "      <td>NaN</td>\n",
       "      <td>2017.0</td>\n",
       "      <td>181</td>\n",
       "      <td>19805</td>\n",
       "      <td>None</td>\n",
       "      <td>8586.0</td>\n",
       "      <td>8586.0</td>\n",
       "      <td>15502.0</td>\n",
       "      <td>9677.0</td>\n",
       "      <td>0.00</td>\n",
       "      <td>0.0</td>\n",
       "      <td>0.0</td>\n",
       "      <td>79.0</td>\n",
       "    </tr>\n",
       "    <tr>\n",
       "      <th>2</th>\n",
       "      <td>7</td>\n",
       "      <td>6</td>\n",
       "      <td>AA</td>\n",
       "      <td>N149AN</td>\n",
       "      <td>13303</td>\n",
       "      <td>MIA</td>\n",
       "      <td>None</td>\n",
       "      <td>0.0</td>\n",
       "      <td>2000-2059</td>\n",
       "      <td>None</td>\n",
       "      <td>0.0</td>\n",
       "      <td>338.0</td>\n",
       "      <td>2267</td>\n",
       "      <td>10.0</td>\n",
       "      <td>NaN</td>\n",
       "      <td>NaN</td>\n",
       "      <td>NaN</td>\n",
       "      <td>NaN</td>\n",
       "      <td>NaN</td>\n",
       "      <td>2015.0</td>\n",
       "      <td>181</td>\n",
       "      <td>19805</td>\n",
       "      <td>None</td>\n",
       "      <td>8586.0</td>\n",
       "      <td>8586.0</td>\n",
       "      <td>15502.0</td>\n",
       "      <td>9677.0</td>\n",
       "      <td>0.00</td>\n",
       "      <td>0.0</td>\n",
       "      <td>0.0</td>\n",
       "      <td>82.0</td>\n",
       "    </tr>\n",
       "    <tr>\n",
       "      <th>3</th>\n",
       "      <td>8</td>\n",
       "      <td>7</td>\n",
       "      <td>AA</td>\n",
       "      <td>N996AN</td>\n",
       "      <td>13303</td>\n",
       "      <td>MIA</td>\n",
       "      <td>None</td>\n",
       "      <td>0.0</td>\n",
       "      <td>2000-2059</td>\n",
       "      <td>None</td>\n",
       "      <td>0.0</td>\n",
       "      <td>338.0</td>\n",
       "      <td>2267</td>\n",
       "      <td>10.0</td>\n",
       "      <td>NaN</td>\n",
       "      <td>NaN</td>\n",
       "      <td>NaN</td>\n",
       "      <td>NaN</td>\n",
       "      <td>NaN</td>\n",
       "      <td>2016.0</td>\n",
       "      <td>181</td>\n",
       "      <td>19805</td>\n",
       "      <td>None</td>\n",
       "      <td>8586.0</td>\n",
       "      <td>8586.0</td>\n",
       "      <td>15502.0</td>\n",
       "      <td>9677.0</td>\n",
       "      <td>0.00</td>\n",
       "      <td>0.0</td>\n",
       "      <td>0.0</td>\n",
       "      <td>82.0</td>\n",
       "    </tr>\n",
       "    <tr>\n",
       "      <th>4</th>\n",
       "      <td>9</td>\n",
       "      <td>1</td>\n",
       "      <td>AA</td>\n",
       "      <td>N150NN</td>\n",
       "      <td>13303</td>\n",
       "      <td>MIA</td>\n",
       "      <td>None</td>\n",
       "      <td>0.0</td>\n",
       "      <td>2000-2059</td>\n",
       "      <td>None</td>\n",
       "      <td>0.0</td>\n",
       "      <td>338.0</td>\n",
       "      <td>2267</td>\n",
       "      <td>10.0</td>\n",
       "      <td>NaN</td>\n",
       "      <td>NaN</td>\n",
       "      <td>NaN</td>\n",
       "      <td>NaN</td>\n",
       "      <td>NaN</td>\n",
       "      <td>2015.0</td>\n",
       "      <td>181</td>\n",
       "      <td>19805</td>\n",
       "      <td>None</td>\n",
       "      <td>8586.0</td>\n",
       "      <td>8586.0</td>\n",
       "      <td>15502.0</td>\n",
       "      <td>9677.0</td>\n",
       "      <td>0.01</td>\n",
       "      <td>0.0</td>\n",
       "      <td>0.0</td>\n",
       "      <td>83.0</td>\n",
       "    </tr>\n",
       "    <tr>\n",
       "      <th>5</th>\n",
       "      <td>10</td>\n",
       "      <td>2</td>\n",
       "      <td>AA</td>\n",
       "      <td>N143AN</td>\n",
       "      <td>13303</td>\n",
       "      <td>MIA</td>\n",
       "      <td>None</td>\n",
       "      <td>1.0</td>\n",
       "      <td>2000-2059</td>\n",
       "      <td>None</td>\n",
       "      <td>0.0</td>\n",
       "      <td>338.0</td>\n",
       "      <td>2267</td>\n",
       "      <td>10.0</td>\n",
       "      <td>NaN</td>\n",
       "      <td>NaN</td>\n",
       "      <td>NaN</td>\n",
       "      <td>NaN</td>\n",
       "      <td>NaN</td>\n",
       "      <td>2015.0</td>\n",
       "      <td>181</td>\n",
       "      <td>19805</td>\n",
       "      <td>None</td>\n",
       "      <td>8586.0</td>\n",
       "      <td>8586.0</td>\n",
       "      <td>15502.0</td>\n",
       "      <td>9677.0</td>\n",
       "      <td>0.00</td>\n",
       "      <td>0.0</td>\n",
       "      <td>0.0</td>\n",
       "      <td>84.0</td>\n",
       "    </tr>\n",
       "    <tr>\n",
       "      <th>6</th>\n",
       "      <td>11</td>\n",
       "      <td>3</td>\n",
       "      <td>AA</td>\n",
       "      <td>N160AN</td>\n",
       "      <td>13303</td>\n",
       "      <td>MIA</td>\n",
       "      <td>None</td>\n",
       "      <td>0.0</td>\n",
       "      <td>2000-2059</td>\n",
       "      <td>None</td>\n",
       "      <td>0.0</td>\n",
       "      <td>338.0</td>\n",
       "      <td>2267</td>\n",
       "      <td>10.0</td>\n",
       "      <td>NaN</td>\n",
       "      <td>NaN</td>\n",
       "      <td>NaN</td>\n",
       "      <td>NaN</td>\n",
       "      <td>NaN</td>\n",
       "      <td>2016.0</td>\n",
       "      <td>181</td>\n",
       "      <td>19805</td>\n",
       "      <td>None</td>\n",
       "      <td>8586.0</td>\n",
       "      <td>8586.0</td>\n",
       "      <td>15502.0</td>\n",
       "      <td>9677.0</td>\n",
       "      <td>0.47</td>\n",
       "      <td>0.0</td>\n",
       "      <td>0.0</td>\n",
       "      <td>85.0</td>\n",
       "    </tr>\n",
       "    <tr>\n",
       "      <th>7</th>\n",
       "      <td>12</td>\n",
       "      <td>4</td>\n",
       "      <td>AA</td>\n",
       "      <td>N998AN</td>\n",
       "      <td>13303</td>\n",
       "      <td>MIA</td>\n",
       "      <td>None</td>\n",
       "      <td>0.0</td>\n",
       "      <td>2000-2059</td>\n",
       "      <td>None</td>\n",
       "      <td>0.0</td>\n",
       "      <td>338.0</td>\n",
       "      <td>2267</td>\n",
       "      <td>10.0</td>\n",
       "      <td>NaN</td>\n",
       "      <td>NaN</td>\n",
       "      <td>NaN</td>\n",
       "      <td>NaN</td>\n",
       "      <td>NaN</td>\n",
       "      <td>2017.0</td>\n",
       "      <td>181</td>\n",
       "      <td>19805</td>\n",
       "      <td>None</td>\n",
       "      <td>8586.0</td>\n",
       "      <td>8586.0</td>\n",
       "      <td>15502.0</td>\n",
       "      <td>9677.0</td>\n",
       "      <td>0.46</td>\n",
       "      <td>0.0</td>\n",
       "      <td>0.0</td>\n",
       "      <td>82.0</td>\n",
       "    </tr>\n",
       "    <tr>\n",
       "      <th>8</th>\n",
       "      <td>13</td>\n",
       "      <td>5</td>\n",
       "      <td>AA</td>\n",
       "      <td>N149AN</td>\n",
       "      <td>13303</td>\n",
       "      <td>MIA</td>\n",
       "      <td>None</td>\n",
       "      <td>1.0</td>\n",
       "      <td>2000-2059</td>\n",
       "      <td>None</td>\n",
       "      <td>0.0</td>\n",
       "      <td>338.0</td>\n",
       "      <td>2267</td>\n",
       "      <td>10.0</td>\n",
       "      <td>17.0</td>\n",
       "      <td>0.0</td>\n",
       "      <td>0.0</td>\n",
       "      <td>0.0</td>\n",
       "      <td>0.0</td>\n",
       "      <td>2015.0</td>\n",
       "      <td>181</td>\n",
       "      <td>19805</td>\n",
       "      <td>None</td>\n",
       "      <td>8586.0</td>\n",
       "      <td>8586.0</td>\n",
       "      <td>15502.0</td>\n",
       "      <td>9677.0</td>\n",
       "      <td>0.01</td>\n",
       "      <td>0.0</td>\n",
       "      <td>0.0</td>\n",
       "      <td>82.0</td>\n",
       "    </tr>\n",
       "    <tr>\n",
       "      <th>9</th>\n",
       "      <td>14</td>\n",
       "      <td>6</td>\n",
       "      <td>AA</td>\n",
       "      <td>N905AU</td>\n",
       "      <td>13303</td>\n",
       "      <td>MIA</td>\n",
       "      <td>None</td>\n",
       "      <td>0.0</td>\n",
       "      <td>2000-2059</td>\n",
       "      <td>None</td>\n",
       "      <td>0.0</td>\n",
       "      <td>338.0</td>\n",
       "      <td>2267</td>\n",
       "      <td>10.0</td>\n",
       "      <td>NaN</td>\n",
       "      <td>NaN</td>\n",
       "      <td>NaN</td>\n",
       "      <td>NaN</td>\n",
       "      <td>NaN</td>\n",
       "      <td>2017.0</td>\n",
       "      <td>181</td>\n",
       "      <td>19805</td>\n",
       "      <td>None</td>\n",
       "      <td>8586.0</td>\n",
       "      <td>8586.0</td>\n",
       "      <td>15502.0</td>\n",
       "      <td>9677.0</td>\n",
       "      <td>0.00</td>\n",
       "      <td>0.0</td>\n",
       "      <td>0.0</td>\n",
       "      <td>87.0</td>\n",
       "    </tr>\n",
       "  </tbody>\n",
       "</table>\n",
       "</div>"
      ],
      "text/plain": [
       "   day_of_month  day_of_week op_unique_carrier tail_num origin dest dep_del15 dep_time_blk arr_time_blk cancelled  crs_elapsed_time  distance  distance_group  carrier_delay  weather_delay  nas_delay  security_delay  late_aircraft_delay  manufacture_year  number_of_seats  airline_id carrier_name pilots_copilots  passenger_handling  pass_gen_svc_admin  maintenance    prcp  snow  snwd  tmax  awnd\n",
       "0  5             4            AA                N159AN   13303  MIA  None      0.0          2000-2059    None      0.0               338.0     2267            10.0          NaN            NaN        NaN             NaN                  NaN                2016.0           181         19805        None            8586.0              8586.0              15502.0      9677.0  0.00  0.0   0.0   73.0\n",
       "1  6             5            AA                N902AA   13303  MIA  None      0.0          2000-2059    None      0.0               338.0     2267            10.0          NaN            NaN        NaN             NaN                  NaN                2017.0           181         19805        None            8586.0              8586.0              15502.0      9677.0  0.00  0.0   0.0   79.0\n",
       "2  7             6            AA                N149AN   13303  MIA  None      0.0          2000-2059    None      0.0               338.0     2267            10.0          NaN            NaN        NaN             NaN                  NaN                2015.0           181         19805        None            8586.0              8586.0              15502.0      9677.0  0.00  0.0   0.0   82.0\n",
       "3  8             7            AA                N996AN   13303  MIA  None      0.0          2000-2059    None      0.0               338.0     2267            10.0          NaN            NaN        NaN             NaN                  NaN                2016.0           181         19805        None            8586.0              8586.0              15502.0      9677.0  0.00  0.0   0.0   82.0\n",
       "4  9             1            AA                N150NN   13303  MIA  None      0.0          2000-2059    None      0.0               338.0     2267            10.0          NaN            NaN        NaN             NaN                  NaN                2015.0           181         19805        None            8586.0              8586.0              15502.0      9677.0  0.01  0.0   0.0   83.0\n",
       "5  10            2            AA                N143AN   13303  MIA  None      1.0          2000-2059    None      0.0               338.0     2267            10.0          NaN            NaN        NaN             NaN                  NaN                2015.0           181         19805        None            8586.0              8586.0              15502.0      9677.0  0.00  0.0   0.0   84.0\n",
       "6  11            3            AA                N160AN   13303  MIA  None      0.0          2000-2059    None      0.0               338.0     2267            10.0          NaN            NaN        NaN             NaN                  NaN                2016.0           181         19805        None            8586.0              8586.0              15502.0      9677.0  0.47  0.0   0.0   85.0\n",
       "7  12            4            AA                N998AN   13303  MIA  None      0.0          2000-2059    None      0.0               338.0     2267            10.0          NaN            NaN        NaN             NaN                  NaN                2017.0           181         19805        None            8586.0              8586.0              15502.0      9677.0  0.46  0.0   0.0   82.0\n",
       "8  13            5            AA                N149AN   13303  MIA  None      1.0          2000-2059    None      0.0               338.0     2267            10.0           17.0           0.0        0.0             0.0                  0.0               2015.0           181         19805        None            8586.0              8586.0              15502.0      9677.0  0.01  0.0   0.0   82.0\n",
       "9  14            6            AA                N905AU   13303  MIA  None      0.0          2000-2059    None      0.0               338.0     2267            10.0          NaN            NaN        NaN             NaN                  NaN                2017.0           181         19805        None            8586.0              8586.0              15502.0      9677.0  0.00  0.0   0.0   87.0"
      ]
     },
     "execution_count": 35,
     "metadata": {},
     "output_type": "execute_result"
    }
   ],
   "source": [
    "pd.read_sql(statement, conn)"
   ]
  },
  {
   "cell_type": "markdown",
   "metadata": {},
   "source": [
    "# Review the New Athena Table in the Glue Catalog"
   ]
  },
  {
   "cell_type": "code",
   "execution_count": 24,
   "metadata": {},
   "outputs": [
    {
     "data": {
      "text/html": [
       "<b>Review <a target=\"top\" href=\"https://console.aws.amazon.com/glue/home?region=us-east-1#\">AWS Glue Catalog</a></b>"
      ],
      "text/plain": [
       "<IPython.core.display.HTML object>"
      ]
     },
     "metadata": {},
     "output_type": "display_data"
    }
   ],
   "source": [
    "from IPython.core.display import display, HTML\n",
    "\n",
    "display(\n",
    "    HTML(\n",
    "        '<b>Review <a target=\"top\" href=\"https://console.aws.amazon.com/glue/home?region={}#\">AWS Glue Catalog</a></b>'.format(\n",
    "            region\n",
    "        )\n",
    "    )\n",
    ")"
   ]
  },
  {
   "cell_type": "markdown",
   "metadata": {},
   "source": [
    "# Explore Class Labels "
   ]
  },
  {
   "cell_type": "code",
   "execution_count": 62,
   "metadata": {},
   "outputs": [
    {
     "data": {
      "text/plain": [
       "(619970, 32)"
      ]
     },
     "execution_count": 62,
     "metadata": {},
     "output_type": "execute_result"
    }
   ],
   "source": [
    "dec_merged.shape"
   ]
  },
  {
   "cell_type": "code",
   "execution_count": 60,
   "metadata": {},
   "outputs": [
    {
     "data": {
      "image/png": "[encoded data removed]",
      "text/plain": [
       "<Figure size 432x288 with 1 Axes>"
      ]
     },
     "metadata": {
      "image/png": {
       "height": 279,
       "width": 410
      }
     },
     "output_type": "display_data"
    }
   ],
   "source": [
    "fig = sns.countplot(data=dec_merged, x=\"DEP_DEL15\")\n",
    "fig.set_xlabel(\"Labels\")\n",
    "fig.set_ylabel(\"Number of Delays\")\n",
    "fig.set_title(\"Departure Delayed (After 15 minutes)\")\n",
    "plt.show()"
   ]
  },
  {
   "cell_type": "markdown",
   "metadata": {},
   "source": [
    "# Balance the Dataset by Departures "
   ]
  },
  {
   "cell_type": "code",
   "execution_count": 68,
   "metadata": {},
   "outputs": [
    {
     "data": {
      "text/plain": [
       "(256012, 32)"
      ]
     },
     "execution_count": 68,
     "metadata": {},
     "output_type": "execute_result"
    }
   ],
   "source": [
    "df_grouped_by = dec_merged.groupby([\"DEP_DEL15\"])\n",
    "df_balanced = df_grouped_by.apply(lambda x: x.sample(df_grouped_by.size().min()).reset_index(drop=True))\n",
    "df_balanced.shape"
   ]
  },
  {
   "cell_type": "code",
   "execution_count": 69,
   "metadata": {},
   "outputs": [
    {
     "data": {
      "image/png": "[encoded data removed]",
      "text/plain": [
       "<Figure size 432x288 with 1 Axes>"
      ]
     },
     "metadata": {
      "image/png": {
       "height": 279,
       "width": 410
      }
     },
     "output_type": "display_data"
    }
   ],
   "source": [
    "fig = sns.countplot(data=df_balanced, x=\"DEP_DEL15\")\n",
    "fig.set_xlabel(\"Labels\")\n",
    "fig.set_ylabel(\"Number of Delays\")\n",
    "fig.set_title(\"Departure Delayed (After 15 minutes)\")\n",
    "plt.show()"
   ]
  },
  {
   "cell_type": "code",
   "execution_count": null,
   "metadata": {},
   "outputs": [],
   "source": []
  },
  {
   "cell_type": "code",
   "execution_count": null,
   "metadata": {},
   "outputs": [],
   "source": []
  },
  {
   "cell_type": "code",
   "execution_count": null,
   "metadata": {},
   "outputs": [],
   "source": []
  },
  {
   "cell_type": "markdown",
   "metadata": {},
   "source": [
    "# Store Variables for the Next Notebooks"
   ]
  },
  {
   "cell_type": "code",
   "execution_count": 37,
   "metadata": {},
   "outputs": [
    {
     "name": "stdout",
     "output_type": "stream",
     "text": [
      "Stored variables and their in-db values:\n",
      "auto_ml_job_name                                      -> 'automl-dm-10-22-14-04'\n",
      "autopilot_endpoint_arn                                -> 'arn:aws:sagemaker:us-east-1:229768475194:endpoint\n",
      "autopilot_endpoint_name                               -> 'automl-dm-ep-10-22-58-33'\n",
      "autopilot_model_arn                                   -> 'arn:aws:sagemaker:us-east-1:229768475194:model/au\n",
      "autopilot_model_name                                  -> 'automl-dm-model-10-22-58-32'\n",
      "autopilot_train_s3_uri                                -> 's3://sagemaker-us-east-1-229768475194/data/amazon\n",
      "comprehend_train_s3_uri                               -> 's3://sagemaker-us-east-1-229768475194/data/amazon\n",
      "ingest_create_athena_db_passed                        -> True\n",
      "ingest_create_athena_table_parquet_passed             -> True\n",
      "ingest_create_athena_table_tsv_passed                 -> True\n",
      "s3_private_path_csv                                   -> 's3://sagemaker-us-east-1-229768475194/ads508/data\n",
      "s3_private_path_tsv                                   -> 's3://sagemaker-us-east-1-229768475194/ads508/data\n",
      "s3_public_path_csv                                    -> 's3://ads-508-airline/transformed'\n",
      "s3_public_path_tsv                                    -> 's3://amazon-reviews-pds/tsv'\n",
      "setup_dependencies_passed                             -> True\n",
      "setup_iam_roles_passed                                -> True\n",
      "setup_s3_bucket_passed                                -> False\n"
     ]
    }
   ],
   "source": [
    "%store"
   ]
  },
  {
   "cell_type": "markdown",
   "metadata": {},
   "source": [
    "# Release Resources"
   ]
  },
  {
   "cell_type": "code",
   "execution_count": 38,
   "metadata": {},
   "outputs": [
    {
     "data": {
      "text/html": [
       "\n",
       "<p><b>Shutting down your kernel for this notebook to release resources.</b></p>\n",
       "<button class=\"sm-command-button\" data-commandlinker-command=\"kernelmenu:shutdown\" style=\"display:none;\">Shutdown Kernel</button>\n",
       "        \n",
       "<script>\n",
       "try {\n",
       "    els = document.getElementsByClassName(\"sm-command-button\");\n",
       "    els[0].click();\n",
       "}\n",
       "catch(err) {\n",
       "    // NoOp\n",
       "}    \n",
       "</script>\n"
      ],
      "text/plain": [
       "<IPython.core.display.HTML object>"
      ]
     },
     "metadata": {},
     "output_type": "display_data"
    }
   ],
   "source": [
    "%%html\n",
    "\n",
    "<p><b>Shutting down your kernel for this notebook to release resources.</b></p>\n",
    "<button class=\"sm-command-button\" data-commandlinker-command=\"kernelmenu:shutdown\" style=\"display:none;\">Shutdown Kernel</button>\n",
    "        \n",
    "<script>\n",
    "try {\n",
    "    els = document.getElementsByClassName(\"sm-command-button\");\n",
    "    els[0].click();\n",
    "}\n",
    "catch(err) {\n",
    "    // NoOp\n",
    "}    \n",
    "</script>"
   ]
  },
  {
   "cell_type": "code",
   "execution_count": 39,
   "metadata": {},
   "outputs": [
    {
     "data": {
      "application/javascript": [
       "\n",
       "try {\n",
       "    Jupyter.notebook.save_checkpoint();\n",
       "    Jupyter.notebook.session.delete();\n",
       "}\n",
       "catch(err) {\n",
       "    // NoOp\n",
       "}\n"
      ],
      "text/plain": [
       "<IPython.core.display.Javascript object>"
      ]
     },
     "metadata": {},
     "output_type": "display_data"
    }
   ],
   "source": [
    "%%javascript\n",
    "\n",
    "try {\n",
    "    Jupyter.notebook.save_checkpoint();\n",
    "    Jupyter.notebook.session.delete();\n",
    "}\n",
    "catch(err) {\n",
    "    // NoOp\n",
    "}"
   ]
  }
 ],
 "metadata": {
  "instance_type": "ml.t3.medium",
  "kernelspec": {
   "display_name": "Python 3 (Data Science)",
   "language": "python",
   "name": "python3__SAGEMAKER_INTERNAL__arn:aws:sagemaker:us-east-1:081325390199:image/datascience-1.0"
  },
  "language_info": {
   "codemirror_mode": {
    "name": "ipython",
    "version": 3
   },
   "file_extension": ".py",
   "mimetype": "text/x-python",
   "name": "python",
   "nbconvert_exporter": "python",
   "pygments_lexer": "ipython3",
   "version": "3.7.10"
  }
 },
 "nbformat": 4,
 "nbformat_minor": 4
}
