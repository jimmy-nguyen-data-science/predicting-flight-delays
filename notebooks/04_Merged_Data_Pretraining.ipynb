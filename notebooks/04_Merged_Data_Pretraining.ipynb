{
 "cells": [
  {
   "cell_type": "markdown",
   "metadata": {},
   "source": [
    "# Packages "
   ]
  },
  {
   "cell_type": "code",
   "execution_count": 1,
   "metadata": {},
   "outputs": [],
   "source": [
    "#install pyathena if needed\n",
    "#!pip install pyathena\n",
    "from pyathena import connect\n",
    "\n",
    "#!pip install -q smclarify==0.1\n",
    "from smclarify.bias import report\n"
   ]
  },
  {
   "cell_type": "code",
   "execution_count": 2,
   "metadata": {},
   "outputs": [],
   "source": [
    "import boto3\n",
    "import sagemaker\n",
    "\n",
    "import numpy as np\n",
    "import pandas as pd\n",
    "pd.set_option('display.max_columns', 500)\n",
    "pd.set_option('display.width', 1000)\n",
    "\n",
    "import seaborn as sns\n",
    "from pathlib import Path\n",
    "from typing import Dict\n",
    "from collections import defaultdict\n",
    "\n",
    "import matplotlib.pyplot as plt\n",
    "\n",
    "%matplotlib inline\n",
    "%config InlineBackend.figure_format='retina'\n",
    "\n",
    "sns.set_style = \"seaborn-whitegrid\"\n",
    "\n",
    "sns.set(\n",
    "    rc={\n",
    "        \"font.style\": \"normal\",\n",
    "        \"axes.facecolor\": \"white\",\n",
    "        \"grid.color\": \".8\",\n",
    "        \"grid.linestyle\": \"-\",\n",
    "        \"figure.facecolor\": \"white\",\n",
    "        \"figure.titlesize\": 20,\n",
    "        \"text.color\": \"black\",\n",
    "        \"xtick.color\": \"black\",\n",
    "        \"ytick.color\": \"black\",\n",
    "        \"axes.labelcolor\": \"black\",\n",
    "        \"axes.grid\": True,\n",
    "        \"axes.labelsize\": 10,\n",
    "        \"xtick.labelsize\": 10,\n",
    "        \"font.size\": 10,\n",
    "        \"ytick.labelsize\": 10,\n",
    "    }\n",
    ")"
   ]
  },
  {
   "cell_type": "markdown",
   "metadata": {},
   "source": [
    "# Set-up"
   ]
  },
  {
   "cell_type": "code",
   "execution_count": 3,
   "metadata": {},
   "outputs": [],
   "source": [
    "sess = sagemaker.Session()\n",
    "bucket = sess.default_bucket()\n",
    "role = sagemaker.get_execution_role()\n",
    "region = boto3.Session().region_name"
   ]
  },
  {
   "cell_type": "markdown",
   "metadata": {},
   "source": [
    "# Download Merged Data from Public S3 Bucket"
   ]
  },
  {
   "cell_type": "code",
   "execution_count": 4,
   "metadata": {},
   "outputs": [
    {
     "data": {
      "text/html": [
       "<div>\n",
       "<style scoped>\n",
       "    .dataframe tbody tr th:only-of-type {\n",
       "        vertical-align: middle;\n",
       "    }\n",
       "\n",
       "    .dataframe tbody tr th {\n",
       "        vertical-align: top;\n",
       "    }\n",
       "\n",
       "    .dataframe thead th {\n",
       "        text-align: right;\n",
       "    }\n",
       "</style>\n",
       "<table border=\"1\" class=\"dataframe\">\n",
       "  <thead>\n",
       "    <tr style=\"text-align: right;\">\n",
       "      <th></th>\n",
       "      <th>DAY_OF_MONTH</th>\n",
       "      <th>DAY_OF_WEEK</th>\n",
       "      <th>OP_UNIQUE_CARRIER</th>\n",
       "      <th>TAIL_NUM</th>\n",
       "      <th>ORIGIN_AIRPORT_ID</th>\n",
       "      <th>ORIGIN</th>\n",
       "      <th>DEST</th>\n",
       "      <th>DEP_DEL15</th>\n",
       "      <th>DEP_TIME_BLK</th>\n",
       "      <th>ARR_TIME_BLK</th>\n",
       "      <th>CANCELLED</th>\n",
       "      <th>CRS_ELAPSED_TIME</th>\n",
       "      <th>DISTANCE</th>\n",
       "      <th>DISTANCE_GROUP</th>\n",
       "      <th>AIRLINE_ID</th>\n",
       "      <th>CARRIER_NAME</th>\n",
       "      <th>PILOTS_COPILOTS</th>\n",
       "      <th>PASSENGER_HANDLING</th>\n",
       "      <th>PASS_GEN_SVC_ADMIN</th>\n",
       "      <th>MAINTENANCE</th>\n",
       "      <th>PRCP</th>\n",
       "      <th>SNOW</th>\n",
       "      <th>SNWD</th>\n",
       "      <th>TMAX</th>\n",
       "      <th>AWND</th>\n",
       "    </tr>\n",
       "  </thead>\n",
       "  <tbody>\n",
       "    <tr>\n",
       "      <th>0</th>\n",
       "      <td>8</td>\n",
       "      <td>7</td>\n",
       "      <td>WN</td>\n",
       "      <td>N8651A</td>\n",
       "      <td>15016</td>\n",
       "      <td>STL</td>\n",
       "      <td>SAN</td>\n",
       "      <td>0.0</td>\n",
       "      <td>1100-1159</td>\n",
       "      <td>1300-1359</td>\n",
       "      <td>0.0</td>\n",
       "      <td>245.0</td>\n",
       "      <td>1557.0</td>\n",
       "      <td>7</td>\n",
       "      <td>19393</td>\n",
       "      <td>Southwest Airlines Co.</td>\n",
       "      <td>8989</td>\n",
       "      <td>9668</td>\n",
       "      <td>15475</td>\n",
       "      <td>2482</td>\n",
       "      <td>0.02</td>\n",
       "      <td>0.0</td>\n",
       "      <td>0.0</td>\n",
       "      <td>58.0</td>\n",
       "      <td>9.84</td>\n",
       "    </tr>\n",
       "    <tr>\n",
       "      <th>1</th>\n",
       "      <td>8</td>\n",
       "      <td>7</td>\n",
       "      <td>WN</td>\n",
       "      <td>N939WN</td>\n",
       "      <td>15016</td>\n",
       "      <td>STL</td>\n",
       "      <td>SAT</td>\n",
       "      <td>0.0</td>\n",
       "      <td>1200-1259</td>\n",
       "      <td>1400-1459</td>\n",
       "      <td>0.0</td>\n",
       "      <td>145.0</td>\n",
       "      <td>786.0</td>\n",
       "      <td>4</td>\n",
       "      <td>19393</td>\n",
       "      <td>Southwest Airlines Co.</td>\n",
       "      <td>8989</td>\n",
       "      <td>9668</td>\n",
       "      <td>15475</td>\n",
       "      <td>2482</td>\n",
       "      <td>0.02</td>\n",
       "      <td>0.0</td>\n",
       "      <td>0.0</td>\n",
       "      <td>58.0</td>\n",
       "      <td>9.84</td>\n",
       "    </tr>\n",
       "    <tr>\n",
       "      <th>2</th>\n",
       "      <td>8</td>\n",
       "      <td>7</td>\n",
       "      <td>WN</td>\n",
       "      <td>N7741C</td>\n",
       "      <td>15016</td>\n",
       "      <td>STL</td>\n",
       "      <td>SAT</td>\n",
       "      <td>0.0</td>\n",
       "      <td>2100-2159</td>\n",
       "      <td>0001-0559</td>\n",
       "      <td>0.0</td>\n",
       "      <td>140.0</td>\n",
       "      <td>786.0</td>\n",
       "      <td>4</td>\n",
       "      <td>19393</td>\n",
       "      <td>Southwest Airlines Co.</td>\n",
       "      <td>8989</td>\n",
       "      <td>9668</td>\n",
       "      <td>15475</td>\n",
       "      <td>2482</td>\n",
       "      <td>0.02</td>\n",
       "      <td>0.0</td>\n",
       "      <td>0.0</td>\n",
       "      <td>58.0</td>\n",
       "      <td>9.84</td>\n",
       "    </tr>\n",
       "    <tr>\n",
       "      <th>3</th>\n",
       "      <td>8</td>\n",
       "      <td>7</td>\n",
       "      <td>WN</td>\n",
       "      <td>N550WN</td>\n",
       "      <td>15016</td>\n",
       "      <td>STL</td>\n",
       "      <td>SEA</td>\n",
       "      <td>0.0</td>\n",
       "      <td>0900-0959</td>\n",
       "      <td>1200-1259</td>\n",
       "      <td>0.0</td>\n",
       "      <td>275.0</td>\n",
       "      <td>1709.0</td>\n",
       "      <td>7</td>\n",
       "      <td>19393</td>\n",
       "      <td>Southwest Airlines Co.</td>\n",
       "      <td>8989</td>\n",
       "      <td>9668</td>\n",
       "      <td>15475</td>\n",
       "      <td>2482</td>\n",
       "      <td>0.02</td>\n",
       "      <td>0.0</td>\n",
       "      <td>0.0</td>\n",
       "      <td>58.0</td>\n",
       "      <td>9.84</td>\n",
       "    </tr>\n",
       "    <tr>\n",
       "      <th>4</th>\n",
       "      <td>8</td>\n",
       "      <td>7</td>\n",
       "      <td>WN</td>\n",
       "      <td>N8319F</td>\n",
       "      <td>15016</td>\n",
       "      <td>STL</td>\n",
       "      <td>SFO</td>\n",
       "      <td>1.0</td>\n",
       "      <td>1800-1859</td>\n",
       "      <td>2000-2059</td>\n",
       "      <td>0.0</td>\n",
       "      <td>270.0</td>\n",
       "      <td>1735.0</td>\n",
       "      <td>7</td>\n",
       "      <td>19393</td>\n",
       "      <td>Southwest Airlines Co.</td>\n",
       "      <td>8989</td>\n",
       "      <td>9668</td>\n",
       "      <td>15475</td>\n",
       "      <td>2482</td>\n",
       "      <td>0.02</td>\n",
       "      <td>0.0</td>\n",
       "      <td>0.0</td>\n",
       "      <td>58.0</td>\n",
       "      <td>9.84</td>\n",
       "    </tr>\n",
       "  </tbody>\n",
       "</table>\n",
       "</div>"
      ],
      "text/plain": [
       "   DAY_OF_MONTH  DAY_OF_WEEK OP_UNIQUE_CARRIER TAIL_NUM  ORIGIN_AIRPORT_ID ORIGIN DEST  DEP_DEL15 DEP_TIME_BLK ARR_TIME_BLK  CANCELLED  CRS_ELAPSED_TIME  DISTANCE  DISTANCE_GROUP  AIRLINE_ID            CARRIER_NAME  PILOTS_COPILOTS  PASSENGER_HANDLING  PASS_GEN_SVC_ADMIN  MAINTENANCE  PRCP  SNOW  SNWD  TMAX  AWND\n",
       "0             8            7                WN   N8651A              15016    STL  SAN        0.0    1100-1159    1300-1359        0.0             245.0    1557.0               7       19393  Southwest Airlines Co.             8989                9668               15475         2482  0.02   0.0   0.0  58.0  9.84\n",
       "1             8            7                WN   N939WN              15016    STL  SAT        0.0    1200-1259    1400-1459        0.0             145.0     786.0               4       19393  Southwest Airlines Co.             8989                9668               15475         2482  0.02   0.0   0.0  58.0  9.84\n",
       "2             8            7                WN   N7741C              15016    STL  SAT        0.0    2100-2159    0001-0559        0.0             140.0     786.0               4       19393  Southwest Airlines Co.             8989                9668               15475         2482  0.02   0.0   0.0  58.0  9.84\n",
       "3             8            7                WN   N550WN              15016    STL  SEA        0.0    0900-0959    1200-1259        0.0             275.0    1709.0               7       19393  Southwest Airlines Co.             8989                9668               15475         2482  0.02   0.0   0.0  58.0  9.84\n",
       "4             8            7                WN   N8319F              15016    STL  SFO        1.0    1800-1859    2000-2059        0.0             270.0    1735.0               7       19393  Southwest Airlines Co.             8989                9668               15475         2482  0.02   0.0   0.0  58.0  9.84"
      ]
     },
     "execution_count": 4,
     "metadata": {},
     "output_type": "execute_result"
    }
   ],
   "source": [
    "# Public Flight Data\n",
    "s3_client = boto3.client(\"s3\")\n",
    "\n",
    "BUCKET='ads-508-airline'\n",
    "KEY='merged/Dec_modeling.csv'\n",
    "\n",
    "response = s3_client.get_object(Bucket=BUCKET, Key=KEY)\n",
    "\n",
    "pd.set_option('display.expand_frame_repr', False)\n",
    "dec_merged = pd.read_csv(response.get(\"Body\"))\n",
    "dec_merged.head()"
   ]
  },
  {
   "cell_type": "code",
   "execution_count": 5,
   "metadata": {},
   "outputs": [
    {
     "name": "stdout",
     "output_type": "stream",
     "text": [
      "<class 'pandas.core.frame.DataFrame'>\n",
      "RangeIndex: 558026 entries, 0 to 558025\n",
      "Data columns (total 25 columns):\n",
      " #   Column              Non-Null Count   Dtype  \n",
      "---  ------              --------------   -----  \n",
      " 0   DAY_OF_MONTH        558026 non-null  int64  \n",
      " 1   DAY_OF_WEEK         558026 non-null  int64  \n",
      " 2   OP_UNIQUE_CARRIER   558026 non-null  object \n",
      " 3   TAIL_NUM            558026 non-null  object \n",
      " 4   ORIGIN_AIRPORT_ID   558026 non-null  int64  \n",
      " 5   ORIGIN              558026 non-null  object \n",
      " 6   DEST                558026 non-null  object \n",
      " 7   DEP_DEL15           558026 non-null  float64\n",
      " 8   DEP_TIME_BLK        558026 non-null  object \n",
      " 9   ARR_TIME_BLK        558026 non-null  object \n",
      " 10  CANCELLED           558026 non-null  float64\n",
      " 11  CRS_ELAPSED_TIME    558026 non-null  float64\n",
      " 12  DISTANCE            558026 non-null  float64\n",
      " 13  DISTANCE_GROUP      558026 non-null  int64  \n",
      " 14  AIRLINE_ID          558026 non-null  int64  \n",
      " 15  CARRIER_NAME        558026 non-null  object \n",
      " 16  PILOTS_COPILOTS     558026 non-null  int64  \n",
      " 17  PASSENGER_HANDLING  558026 non-null  int64  \n",
      " 18  PASS_GEN_SVC_ADMIN  558026 non-null  int64  \n",
      " 19  MAINTENANCE         558026 non-null  int64  \n",
      " 20  PRCP                558026 non-null  float64\n",
      " 21  SNOW                558026 non-null  float64\n",
      " 22  SNWD                558026 non-null  float64\n",
      " 23  TMAX                558026 non-null  float64\n",
      " 24  AWND                558026 non-null  float64\n",
      "dtypes: float64(9), int64(9), object(7)\n",
      "memory usage: 106.4+ MB\n"
     ]
    }
   ],
   "source": [
    "dec_merged.info()"
   ]
  },
  {
   "cell_type": "code",
   "execution_count": 6,
   "metadata": {},
   "outputs": [],
   "source": [
    "file_path = Path('../src/data/transformed_data/Dec_merged.csv')\n",
    "\n",
    "if file_path.is_file():\n",
    "    None\n",
    "else:\n",
    "    dec_merged.to_csv('../src/data/transformed_data/Dec_merged.csv', index=False)"
   ]
  },
  {
   "cell_type": "markdown",
   "metadata": {},
   "source": [
    "# Set S3 Destination Location(Our S3 Private Bucket)"
   ]
  },
  {
   "cell_type": "code",
   "execution_count": 7,
   "metadata": {},
   "outputs": [
    {
     "name": "stdout",
     "output_type": "stream",
     "text": [
      "s3://sagemaker-us-east-1-229768475194/ads508/data/merged\n"
     ]
    }
   ],
   "source": [
    "s3_private_path_csv = \"s3://{}/ads508/data/merged\".format(bucket)\n",
    "print(s3_private_path_csv)"
   ]
  },
  {
   "cell_type": "code",
   "execution_count": 8,
   "metadata": {},
   "outputs": [
    {
     "name": "stdout",
     "output_type": "stream",
     "text": [
      "Stored 's3_private_path_csv' (str)\n"
     ]
    }
   ],
   "source": [
    "%store s3_private_path_csv"
   ]
  },
  {
   "cell_type": "markdown",
   "metadata": {},
   "source": [
    "# Copy Downloaded Local Data to our Private S3 Bucket in this Account"
   ]
  },
  {
   "cell_type": "code",
   "execution_count": 9,
   "metadata": {},
   "outputs": [
    {
     "name": "stdout",
     "output_type": "stream",
     "text": [
      "upload: ../src/data/transformed_data/Dec_merged.csv to s3://sagemaker-us-east-1-229768475194/ads508/data/merged/Dec_merged.csv\n"
     ]
    }
   ],
   "source": [
    "!aws s3 cp $file_path $s3_private_path_csv/ "
   ]
  },
  {
   "cell_type": "code",
   "execution_count": 10,
   "metadata": {},
   "outputs": [
    {
     "name": "stdout",
     "output_type": "stream",
     "text": [
      "2022-03-26 19:16:05  102283704 Dec_merged.csv\n"
     ]
    }
   ],
   "source": [
    "!aws s3 ls $s3_private_path_csv/"
   ]
  },
  {
   "cell_type": "markdown",
   "metadata": {},
   "source": [
    "# Explore Class Labels "
   ]
  },
  {
   "cell_type": "code",
   "execution_count": 11,
   "metadata": {},
   "outputs": [
    {
     "data": {
      "image/png": "[encoded data removed]",
      "text/plain": [
       "<Figure size 432x288 with 1 Axes>"
      ]
     },
     "metadata": {
      "image/png": {
       "height": 279,
       "width": 410
      }
     },
     "output_type": "display_data"
    }
   ],
   "source": [
    "fig = sns.countplot(data=dec_merged, x=\"DEP_DEL15\")\n",
    "fig.set_xlabel(\"Labels\")\n",
    "fig.set_ylabel(\"Number of Delays\")\n",
    "fig.set_title(\"Departure Delayed (After 15 minutes)\")\n",
    "plt.show()"
   ]
  },
  {
   "cell_type": "markdown",
   "metadata": {},
   "source": [
    "Summary:\n",
    "\n",
    "- We are seeing a class imbalanced problem where there are more on-time departures than delays"
   ]
  },
  {
   "cell_type": "markdown",
   "metadata": {},
   "source": [
    "# Balance the Data"
   ]
  },
  {
   "cell_type": "code",
   "execution_count": 12,
   "metadata": {},
   "outputs": [],
   "source": [
    "df_grouped_by = dec_merged.groupby([\"DEP_DEL15\"])\n",
    "df_balanced = df_grouped_by.apply(lambda x: x.sample(df_grouped_by.size().min()))\n",
    "df_balanced = df_balanced.reset_index(drop=True)\n"
   ]
  },
  {
   "cell_type": "code",
   "execution_count": 13,
   "metadata": {},
   "outputs": [
    {
     "data": {
      "image/png": "[encoded data removed]",
      "text/plain": [
       "<Figure size 432x288 with 1 Axes>"
      ]
     },
     "metadata": {
      "image/png": {
       "height": 279,
       "width": 410
      }
     },
     "output_type": "display_data"
    }
   ],
   "source": [
    "fig = sns.countplot(data=df_balanced, x=\"DEP_DEL15\")\n",
    "fig.set_xlabel(\"Labels\")\n",
    "fig.set_ylabel(\"Number of Delays\")\n",
    "fig.set_title(\"Departure Delayed (After 15 minutes)\")\n",
    "plt.show()"
   ]
  },
  {
   "cell_type": "markdown",
   "metadata": {},
   "source": [
    "# Feature Engineering \n",
    "\n",
    "1. Feature Selection\n",
    "2. Feature Creation \n",
    "3. Feature Transformation"
   ]
  },
  {
   "cell_type": "markdown",
   "metadata": {},
   "source": [
    "## Feature Selection \n",
    "\n",
    "- We will disregard columns with IDs\n",
    "- Also drop any redundant columns such as having only 1 distinct value \n",
    "- Since we have both the distance and distance group column, it is redundant "
   ]
  },
  {
   "cell_type": "code",
   "execution_count": 14,
   "metadata": {},
   "outputs": [
    {
     "name": "stdout",
     "output_type": "stream",
     "text": [
      "<class 'pandas.core.frame.DataFrame'>\n",
      "RangeIndex: 232584 entries, 0 to 232583\n",
      "Data columns (total 25 columns):\n",
      " #   Column              Non-Null Count   Dtype  \n",
      "---  ------              --------------   -----  \n",
      " 0   DAY_OF_MONTH        232584 non-null  int64  \n",
      " 1   DAY_OF_WEEK         232584 non-null  int64  \n",
      " 2   OP_UNIQUE_CARRIER   232584 non-null  object \n",
      " 3   TAIL_NUM            232584 non-null  object \n",
      " 4   ORIGIN_AIRPORT_ID   232584 non-null  int64  \n",
      " 5   ORIGIN              232584 non-null  object \n",
      " 6   DEST                232584 non-null  object \n",
      " 7   DEP_DEL15           232584 non-null  float64\n",
      " 8   DEP_TIME_BLK        232584 non-null  object \n",
      " 9   ARR_TIME_BLK        232584 non-null  object \n",
      " 10  CANCELLED           232584 non-null  float64\n",
      " 11  CRS_ELAPSED_TIME    232584 non-null  float64\n",
      " 12  DISTANCE            232584 non-null  float64\n",
      " 13  DISTANCE_GROUP      232584 non-null  int64  \n",
      " 14  AIRLINE_ID          232584 non-null  int64  \n",
      " 15  CARRIER_NAME        232584 non-null  object \n",
      " 16  PILOTS_COPILOTS     232584 non-null  int64  \n",
      " 17  PASSENGER_HANDLING  232584 non-null  int64  \n",
      " 18  PASS_GEN_SVC_ADMIN  232584 non-null  int64  \n",
      " 19  MAINTENANCE         232584 non-null  int64  \n",
      " 20  PRCP                232584 non-null  float64\n",
      " 21  SNOW                232584 non-null  float64\n",
      " 22  SNWD                232584 non-null  float64\n",
      " 23  TMAX                232584 non-null  float64\n",
      " 24  AWND                232584 non-null  float64\n",
      "dtypes: float64(9), int64(9), object(7)\n",
      "memory usage: 44.4+ MB\n"
     ]
    }
   ],
   "source": [
    "df_balanced.info()"
   ]
  },
  {
   "cell_type": "code",
   "execution_count": 15,
   "metadata": {},
   "outputs": [],
   "source": [
    "dropped = ['TAIL_NUM','ORIGIN_AIRPORT_ID','CANCELLED','AIRLINE_ID','DISTANCE']\n",
    "df_balanced.drop(dropped, inplace=True, axis=1)"
   ]
  },
  {
   "cell_type": "code",
   "execution_count": 20,
   "metadata": {},
   "outputs": [
    {
     "data": {
      "text/html": [
       "<div>\n",
       "<style scoped>\n",
       "    .dataframe tbody tr th:only-of-type {\n",
       "        vertical-align: middle;\n",
       "    }\n",
       "\n",
       "    .dataframe tbody tr th {\n",
       "        vertical-align: top;\n",
       "    }\n",
       "\n",
       "    .dataframe thead th {\n",
       "        text-align: right;\n",
       "    }\n",
       "</style>\n",
       "<table border=\"1\" class=\"dataframe\">\n",
       "  <thead>\n",
       "    <tr style=\"text-align: right;\">\n",
       "      <th></th>\n",
       "      <th>DAY_OF_MONTH</th>\n",
       "      <th>DAY_OF_WEEK</th>\n",
       "      <th>OP_UNIQUE_CARRIER</th>\n",
       "      <th>ORIGIN</th>\n",
       "      <th>DEST</th>\n",
       "      <th>DEP_DEL15</th>\n",
       "      <th>DEP_TIME_BLK</th>\n",
       "      <th>ARR_TIME_BLK</th>\n",
       "      <th>CRS_ELAPSED_TIME</th>\n",
       "      <th>DISTANCE_GROUP</th>\n",
       "      <th>CARRIER_NAME</th>\n",
       "      <th>PILOTS_COPILOTS</th>\n",
       "      <th>PASSENGER_HANDLING</th>\n",
       "      <th>PASS_GEN_SVC_ADMIN</th>\n",
       "      <th>MAINTENANCE</th>\n",
       "      <th>PRCP</th>\n",
       "      <th>SNOW</th>\n",
       "      <th>SNWD</th>\n",
       "      <th>TMAX</th>\n",
       "      <th>AWND</th>\n",
       "    </tr>\n",
       "  </thead>\n",
       "  <tbody>\n",
       "    <tr>\n",
       "      <th>0</th>\n",
       "      <td>12</td>\n",
       "      <td>4</td>\n",
       "      <td>AA</td>\n",
       "      <td>CLT</td>\n",
       "      <td>ALB</td>\n",
       "      <td>0.0</td>\n",
       "      <td>2200-2259</td>\n",
       "      <td>0001-0559</td>\n",
       "      <td>113.0</td>\n",
       "      <td>3</td>\n",
       "      <td>American Airlines Inc.</td>\n",
       "      <td>8586</td>\n",
       "      <td>8586</td>\n",
       "      <td>15502</td>\n",
       "      <td>9677</td>\n",
       "      <td>0.00</td>\n",
       "      <td>0.0</td>\n",
       "      <td>0.0</td>\n",
       "      <td>49.0</td>\n",
       "      <td>8.95</td>\n",
       "    </tr>\n",
       "    <tr>\n",
       "      <th>1</th>\n",
       "      <td>13</td>\n",
       "      <td>5</td>\n",
       "      <td>YV</td>\n",
       "      <td>MSP</td>\n",
       "      <td>IAH</td>\n",
       "      <td>0.0</td>\n",
       "      <td>1500-1559</td>\n",
       "      <td>1800-1859</td>\n",
       "      <td>180.0</td>\n",
       "      <td>5</td>\n",
       "      <td>Mesa Airlines Inc.</td>\n",
       "      <td>1312</td>\n",
       "      <td>0</td>\n",
       "      <td>1205</td>\n",
       "      <td>34</td>\n",
       "      <td>0.00</td>\n",
       "      <td>0.0</td>\n",
       "      <td>0.0</td>\n",
       "      <td>74.0</td>\n",
       "      <td>4.03</td>\n",
       "    </tr>\n",
       "    <tr>\n",
       "      <th>2</th>\n",
       "      <td>13</td>\n",
       "      <td>5</td>\n",
       "      <td>WN</td>\n",
       "      <td>BWI</td>\n",
       "      <td>MDW</td>\n",
       "      <td>0.0</td>\n",
       "      <td>0600-0659</td>\n",
       "      <td>0700-0759</td>\n",
       "      <td>135.0</td>\n",
       "      <td>3</td>\n",
       "      <td>Southwest Airlines Co.</td>\n",
       "      <td>8989</td>\n",
       "      <td>9668</td>\n",
       "      <td>15475</td>\n",
       "      <td>2482</td>\n",
       "      <td>0.35</td>\n",
       "      <td>0.0</td>\n",
       "      <td>0.0</td>\n",
       "      <td>49.0</td>\n",
       "      <td>3.80</td>\n",
       "    </tr>\n",
       "    <tr>\n",
       "      <th>3</th>\n",
       "      <td>15</td>\n",
       "      <td>7</td>\n",
       "      <td>F9</td>\n",
       "      <td>DEN</td>\n",
       "      <td>MEM</td>\n",
       "      <td>0.0</td>\n",
       "      <td>0600-0659</td>\n",
       "      <td>0900-0959</td>\n",
       "      <td>142.0</td>\n",
       "      <td>4</td>\n",
       "      <td>Frontier Airlines Inc.</td>\n",
       "      <td>1473</td>\n",
       "      <td>2496</td>\n",
       "      <td>154</td>\n",
       "      <td>237</td>\n",
       "      <td>0.00</td>\n",
       "      <td>0.0</td>\n",
       "      <td>0.0</td>\n",
       "      <td>31.0</td>\n",
       "      <td>4.25</td>\n",
       "    </tr>\n",
       "    <tr>\n",
       "      <th>4</th>\n",
       "      <td>13</td>\n",
       "      <td>5</td>\n",
       "      <td>B6</td>\n",
       "      <td>FLL</td>\n",
       "      <td>RIC</td>\n",
       "      <td>0.0</td>\n",
       "      <td>1300-1359</td>\n",
       "      <td>1600-1659</td>\n",
       "      <td>132.0</td>\n",
       "      <td>4</td>\n",
       "      <td>JetBlue Airways</td>\n",
       "      <td>2840</td>\n",
       "      <td>4905</td>\n",
       "      <td>3888</td>\n",
       "      <td>726</td>\n",
       "      <td>0.08</td>\n",
       "      <td>0.0</td>\n",
       "      <td>0.0</td>\n",
       "      <td>80.0</td>\n",
       "      <td>9.17</td>\n",
       "    </tr>\n",
       "  </tbody>\n",
       "</table>\n",
       "</div>"
      ],
      "text/plain": [
       "   DAY_OF_MONTH  DAY_OF_WEEK OP_UNIQUE_CARRIER ORIGIN DEST  DEP_DEL15 DEP_TIME_BLK ARR_TIME_BLK  CRS_ELAPSED_TIME  DISTANCE_GROUP            CARRIER_NAME  PILOTS_COPILOTS  PASSENGER_HANDLING  PASS_GEN_SVC_ADMIN  MAINTENANCE  PRCP  SNOW  SNWD  TMAX  AWND\n",
       "0            12            4                AA    CLT  ALB        0.0    2200-2259    0001-0559             113.0               3  American Airlines Inc.             8586                8586               15502         9677  0.00   0.0   0.0  49.0  8.95\n",
       "1            13            5                YV    MSP  IAH        0.0    1500-1559    1800-1859             180.0               5      Mesa Airlines Inc.             1312                   0                1205           34  0.00   0.0   0.0  74.0  4.03\n",
       "2            13            5                WN    BWI  MDW        0.0    0600-0659    0700-0759             135.0               3  Southwest Airlines Co.             8989                9668               15475         2482  0.35   0.0   0.0  49.0  3.80\n",
       "3            15            7                F9    DEN  MEM        0.0    0600-0659    0900-0959             142.0               4  Frontier Airlines Inc.             1473                2496                 154          237  0.00   0.0   0.0  31.0  4.25\n",
       "4            13            5                B6    FLL  RIC        0.0    1300-1359    1600-1659             132.0               4         JetBlue Airways             2840                4905                3888          726  0.08   0.0   0.0  80.0  9.17"
      ]
     },
     "execution_count": 20,
     "metadata": {},
     "output_type": "execute_result"
    }
   ],
   "source": [
    "df_balanced.head()"
   ]
  },
  {
   "cell_type": "markdown",
   "metadata": {},
   "source": [
    "# Quick upload for Data Wrangler Job"
   ]
  },
  {
   "cell_type": "code",
   "execution_count": 18,
   "metadata": {},
   "outputs": [
    {
     "name": "stdout",
     "output_type": "stream",
     "text": [
      "upload: ../src/data/transformed_data/df_balanced.csv to s3://sagemaker-us-east-1-229768475194/ads508/data/merged/balanced/df_balanced.csv\n",
      "                           PRE /\n",
      "2022-03-26 19:24:54   25926576 df_balanced.csv\n"
     ]
    }
   ],
   "source": [
    "file_path = Path('../src/data/transformed_data/df_balanced.csv')\n",
    "\n",
    "if file_path.is_file():\n",
    "    None\n",
    "else:\n",
    "    df_balanced.to_csv('../src/data/transformed_data/df_balanced.csv', index=False)\n",
    "    \n",
    "s3_private_path_csv = \"s3://{}/ads508/data/merged/balanced\".format(bucket)\n",
    "\n",
    "!aws s3 cp $file_path $s3_private_path_csv/ \n",
    "!aws s3 ls $s3_private_path_csv/"
   ]
  },
  {
   "cell_type": "markdown",
   "metadata": {},
   "source": [
    "# Store Variables for the Next Notebooks"
   ]
  },
  {
   "cell_type": "code",
   "execution_count": null,
   "metadata": {},
   "outputs": [],
   "source": [
    "%store"
   ]
  },
  {
   "cell_type": "markdown",
   "metadata": {},
   "source": [
    "# Release Resources"
   ]
  },
  {
   "cell_type": "code",
   "execution_count": null,
   "metadata": {},
   "outputs": [],
   "source": [
    "%%html\n",
    "\n",
    "<p><b>Shutting down your kernel for this notebook to release resources.</b></p>\n",
    "<button class=\"sm-command-button\" data-commandlinker-command=\"kernelmenu:shutdown\" style=\"display:none;\">Shutdown Kernel</button>\n",
    "        \n",
    "<script>\n",
    "try {\n",
    "    els = document.getElementsByClassName(\"sm-command-button\");\n",
    "    els[0].click();\n",
    "}\n",
    "catch(err) {\n",
    "    // NoOp\n",
    "}    \n",
    "</script>"
   ]
  },
  {
   "cell_type": "code",
   "execution_count": null,
   "metadata": {},
   "outputs": [],
   "source": [
    "%%javascript\n",
    "\n",
    "try {\n",
    "    Jupyter.notebook.save_checkpoint();\n",
    "    Jupyter.notebook.session.delete();\n",
    "}\n",
    "catch(err) {\n",
    "    // NoOp\n",
    "}"
   ]
  }
 ],
 "metadata": {
  "instance_type": "ml.t3.medium",
  "kernelspec": {
   "display_name": "Python 3 (Data Science)",
   "language": "python",
   "name": "python3__SAGEMAKER_INTERNAL__arn:aws:sagemaker:us-east-1:081325390199:image/datascience-1.0"
  },
  "language_info": {
   "codemirror_mode": {
    "name": "ipython",
    "version": 3
   },
   "file_extension": ".py",
   "mimetype": "text/x-python",
   "name": "python",
   "nbconvert_exporter": "python",
   "pygments_lexer": "ipython3",
   "version": "3.7.10"
  }
 },
 "nbformat": 4,
 "nbformat_minor": 4
}
