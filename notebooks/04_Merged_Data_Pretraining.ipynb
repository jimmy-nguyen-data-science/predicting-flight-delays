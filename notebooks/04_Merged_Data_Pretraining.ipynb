{
 "cells": [
  {
   "cell_type": "markdown",
   "metadata": {},
   "source": [
    "# Packages "
   ]
  },
  {
   "cell_type": "code",
   "execution_count": 1,
   "metadata": {},
   "outputs": [],
   "source": [
    "#install pyathena if needed\n",
    "#!pip install pyathena\n",
    "from pyathena import connect"
   ]
  },
  {
   "cell_type": "code",
   "execution_count": 2,
   "metadata": {},
   "outputs": [],
   "source": [
    "import boto3\n",
    "import sagemaker\n",
    "\n",
    "import numpy as np\n",
    "import pandas as pd\n",
    "pd.set_option('display.max_columns', 500)\n",
    "pd.set_option('display.width', 1000)\n",
    "\n",
    "import seaborn as sns\n",
    "from pathlib import Path\n",
    "\n",
    "import matplotlib.pyplot as plt\n",
    "\n",
    "%matplotlib inline\n",
    "%config InlineBackend.figure_format='retina'\n",
    "\n",
    "sns.set_style = \"seaborn-whitegrid\"\n",
    "\n",
    "sns.set(\n",
    "    rc={\n",
    "        \"font.style\": \"normal\",\n",
    "        \"axes.facecolor\": \"white\",\n",
    "        \"grid.color\": \".8\",\n",
    "        \"grid.linestyle\": \"-\",\n",
    "        \"figure.facecolor\": \"white\",\n",
    "        \"figure.titlesize\": 20,\n",
    "        \"text.color\": \"black\",\n",
    "        \"xtick.color\": \"black\",\n",
    "        \"ytick.color\": \"black\",\n",
    "        \"axes.labelcolor\": \"black\",\n",
    "        \"axes.grid\": True,\n",
    "        \"axes.labelsize\": 10,\n",
    "        \"xtick.labelsize\": 10,\n",
    "        \"font.size\": 10,\n",
    "        \"ytick.labelsize\": 10,\n",
    "    }\n",
    ")"
   ]
  },
  {
   "cell_type": "markdown",
   "metadata": {},
   "source": [
    "# Set-up"
   ]
  },
  {
   "cell_type": "code",
   "execution_count": 3,
   "metadata": {},
   "outputs": [],
   "source": [
    "sess = sagemaker.Session()\n",
    "bucket = sess.default_bucket()\n",
    "role = sagemaker.get_execution_role()\n",
    "region = boto3.Session().region_name"
   ]
  },
  {
   "cell_type": "markdown",
   "metadata": {},
   "source": [
    "# Read Merged Data from Public S3 Bucket"
   ]
  },
  {
   "cell_type": "code",
   "execution_count": 4,
   "metadata": {},
   "outputs": [
    {
     "data": {
      "text/html": [
       "<div>\n",
       "<style scoped>\n",
       "    .dataframe tbody tr th:only-of-type {\n",
       "        vertical-align: middle;\n",
       "    }\n",
       "\n",
       "    .dataframe tbody tr th {\n",
       "        vertical-align: top;\n",
       "    }\n",
       "\n",
       "    .dataframe thead th {\n",
       "        text-align: right;\n",
       "    }\n",
       "</style>\n",
       "<table border=\"1\" class=\"dataframe\">\n",
       "  <thead>\n",
       "    <tr style=\"text-align: right;\">\n",
       "      <th></th>\n",
       "      <th>DAY_OF_MONTH</th>\n",
       "      <th>DAY_OF_WEEK</th>\n",
       "      <th>OP_UNIQUE_CARRIER</th>\n",
       "      <th>TAIL_NUM</th>\n",
       "      <th>ORIGIN_AIRPORT_ID</th>\n",
       "      <th>ORIGIN</th>\n",
       "      <th>DEST</th>\n",
       "      <th>DEP_DEL15</th>\n",
       "      <th>DEP_TIME_BLK</th>\n",
       "      <th>ARR_TIME_BLK</th>\n",
       "      <th>CANCELLED</th>\n",
       "      <th>CRS_ELAPSED_TIME</th>\n",
       "      <th>DISTANCE</th>\n",
       "      <th>DISTANCE_GROUP</th>\n",
       "      <th>AIRLINE_ID</th>\n",
       "      <th>CARRIER_NAME</th>\n",
       "      <th>PILOTS_COPILOTS</th>\n",
       "      <th>PASSENGER_HANDLING</th>\n",
       "      <th>PASS_GEN_SVC_ADMIN</th>\n",
       "      <th>MAINTENANCE</th>\n",
       "      <th>PRCP</th>\n",
       "      <th>SNOW</th>\n",
       "      <th>SNWD</th>\n",
       "      <th>TMAX</th>\n",
       "      <th>AWND</th>\n",
       "    </tr>\n",
       "  </thead>\n",
       "  <tbody>\n",
       "    <tr>\n",
       "      <th>0</th>\n",
       "      <td>8</td>\n",
       "      <td>7</td>\n",
       "      <td>WN</td>\n",
       "      <td>N8651A</td>\n",
       "      <td>15016</td>\n",
       "      <td>STL</td>\n",
       "      <td>SAN</td>\n",
       "      <td>0.0</td>\n",
       "      <td>1100-1159</td>\n",
       "      <td>1300-1359</td>\n",
       "      <td>0.0</td>\n",
       "      <td>245.0</td>\n",
       "      <td>1557.0</td>\n",
       "      <td>7</td>\n",
       "      <td>19393</td>\n",
       "      <td>Southwest Airlines Co.</td>\n",
       "      <td>8989</td>\n",
       "      <td>9668</td>\n",
       "      <td>15475</td>\n",
       "      <td>2482</td>\n",
       "      <td>0.02</td>\n",
       "      <td>0.0</td>\n",
       "      <td>0.0</td>\n",
       "      <td>58.0</td>\n",
       "      <td>9.84</td>\n",
       "    </tr>\n",
       "    <tr>\n",
       "      <th>1</th>\n",
       "      <td>8</td>\n",
       "      <td>7</td>\n",
       "      <td>WN</td>\n",
       "      <td>N939WN</td>\n",
       "      <td>15016</td>\n",
       "      <td>STL</td>\n",
       "      <td>SAT</td>\n",
       "      <td>0.0</td>\n",
       "      <td>1200-1259</td>\n",
       "      <td>1400-1459</td>\n",
       "      <td>0.0</td>\n",
       "      <td>145.0</td>\n",
       "      <td>786.0</td>\n",
       "      <td>4</td>\n",
       "      <td>19393</td>\n",
       "      <td>Southwest Airlines Co.</td>\n",
       "      <td>8989</td>\n",
       "      <td>9668</td>\n",
       "      <td>15475</td>\n",
       "      <td>2482</td>\n",
       "      <td>0.02</td>\n",
       "      <td>0.0</td>\n",
       "      <td>0.0</td>\n",
       "      <td>58.0</td>\n",
       "      <td>9.84</td>\n",
       "    </tr>\n",
       "    <tr>\n",
       "      <th>2</th>\n",
       "      <td>8</td>\n",
       "      <td>7</td>\n",
       "      <td>WN</td>\n",
       "      <td>N7741C</td>\n",
       "      <td>15016</td>\n",
       "      <td>STL</td>\n",
       "      <td>SAT</td>\n",
       "      <td>0.0</td>\n",
       "      <td>2100-2159</td>\n",
       "      <td>0001-0559</td>\n",
       "      <td>0.0</td>\n",
       "      <td>140.0</td>\n",
       "      <td>786.0</td>\n",
       "      <td>4</td>\n",
       "      <td>19393</td>\n",
       "      <td>Southwest Airlines Co.</td>\n",
       "      <td>8989</td>\n",
       "      <td>9668</td>\n",
       "      <td>15475</td>\n",
       "      <td>2482</td>\n",
       "      <td>0.02</td>\n",
       "      <td>0.0</td>\n",
       "      <td>0.0</td>\n",
       "      <td>58.0</td>\n",
       "      <td>9.84</td>\n",
       "    </tr>\n",
       "    <tr>\n",
       "      <th>3</th>\n",
       "      <td>8</td>\n",
       "      <td>7</td>\n",
       "      <td>WN</td>\n",
       "      <td>N550WN</td>\n",
       "      <td>15016</td>\n",
       "      <td>STL</td>\n",
       "      <td>SEA</td>\n",
       "      <td>0.0</td>\n",
       "      <td>0900-0959</td>\n",
       "      <td>1200-1259</td>\n",
       "      <td>0.0</td>\n",
       "      <td>275.0</td>\n",
       "      <td>1709.0</td>\n",
       "      <td>7</td>\n",
       "      <td>19393</td>\n",
       "      <td>Southwest Airlines Co.</td>\n",
       "      <td>8989</td>\n",
       "      <td>9668</td>\n",
       "      <td>15475</td>\n",
       "      <td>2482</td>\n",
       "      <td>0.02</td>\n",
       "      <td>0.0</td>\n",
       "      <td>0.0</td>\n",
       "      <td>58.0</td>\n",
       "      <td>9.84</td>\n",
       "    </tr>\n",
       "    <tr>\n",
       "      <th>4</th>\n",
       "      <td>8</td>\n",
       "      <td>7</td>\n",
       "      <td>WN</td>\n",
       "      <td>N8319F</td>\n",
       "      <td>15016</td>\n",
       "      <td>STL</td>\n",
       "      <td>SFO</td>\n",
       "      <td>1.0</td>\n",
       "      <td>1800-1859</td>\n",
       "      <td>2000-2059</td>\n",
       "      <td>0.0</td>\n",
       "      <td>270.0</td>\n",
       "      <td>1735.0</td>\n",
       "      <td>7</td>\n",
       "      <td>19393</td>\n",
       "      <td>Southwest Airlines Co.</td>\n",
       "      <td>8989</td>\n",
       "      <td>9668</td>\n",
       "      <td>15475</td>\n",
       "      <td>2482</td>\n",
       "      <td>0.02</td>\n",
       "      <td>0.0</td>\n",
       "      <td>0.0</td>\n",
       "      <td>58.0</td>\n",
       "      <td>9.84</td>\n",
       "    </tr>\n",
       "  </tbody>\n",
       "</table>\n",
       "</div>"
      ],
      "text/plain": [
       "   DAY_OF_MONTH  DAY_OF_WEEK OP_UNIQUE_CARRIER TAIL_NUM  ORIGIN_AIRPORT_ID ORIGIN DEST  DEP_DEL15 DEP_TIME_BLK ARR_TIME_BLK  CANCELLED  CRS_ELAPSED_TIME  DISTANCE  DISTANCE_GROUP  AIRLINE_ID            CARRIER_NAME  PILOTS_COPILOTS  PASSENGER_HANDLING  PASS_GEN_SVC_ADMIN  MAINTENANCE  PRCP  SNOW  SNWD  TMAX  AWND\n",
       "0             8            7                WN   N8651A              15016    STL  SAN        0.0    1100-1159    1300-1359        0.0             245.0    1557.0               7       19393  Southwest Airlines Co.             8989                9668               15475         2482  0.02   0.0   0.0  58.0  9.84\n",
       "1             8            7                WN   N939WN              15016    STL  SAT        0.0    1200-1259    1400-1459        0.0             145.0     786.0               4       19393  Southwest Airlines Co.             8989                9668               15475         2482  0.02   0.0   0.0  58.0  9.84\n",
       "2             8            7                WN   N7741C              15016    STL  SAT        0.0    2100-2159    0001-0559        0.0             140.0     786.0               4       19393  Southwest Airlines Co.             8989                9668               15475         2482  0.02   0.0   0.0  58.0  9.84\n",
       "3             8            7                WN   N550WN              15016    STL  SEA        0.0    0900-0959    1200-1259        0.0             275.0    1709.0               7       19393  Southwest Airlines Co.             8989                9668               15475         2482  0.02   0.0   0.0  58.0  9.84\n",
       "4             8            7                WN   N8319F              15016    STL  SFO        1.0    1800-1859    2000-2059        0.0             270.0    1735.0               7       19393  Southwest Airlines Co.             8989                9668               15475         2482  0.02   0.0   0.0  58.0  9.84"
      ]
     },
     "execution_count": 4,
     "metadata": {},
     "output_type": "execute_result"
    }
   ],
   "source": [
    "# Public Flight Data\n",
    "s3_client = boto3.client(\"s3\")\n",
    "\n",
    "BUCKET='ads-508-airline'\n",
    "KEY='merged/Dec_modeling.csv'\n",
    "\n",
    "response = s3_client.get_object(Bucket=BUCKET, Key=KEY)\n",
    "\n",
    "pd.set_option('display.expand_frame_repr', False)\n",
    "dec_merged = pd.read_csv(response.get(\"Body\"))\n",
    "dec_merged.head()"
   ]
  },
  {
   "cell_type": "code",
   "execution_count": 5,
   "metadata": {},
   "outputs": [
    {
     "name": "stdout",
     "output_type": "stream",
     "text": [
      "<class 'pandas.core.frame.DataFrame'>\n",
      "RangeIndex: 558026 entries, 0 to 558025\n",
      "Data columns (total 25 columns):\n",
      " #   Column              Non-Null Count   Dtype  \n",
      "---  ------              --------------   -----  \n",
      " 0   DAY_OF_MONTH        558026 non-null  int64  \n",
      " 1   DAY_OF_WEEK         558026 non-null  int64  \n",
      " 2   OP_UNIQUE_CARRIER   558026 non-null  object \n",
      " 3   TAIL_NUM            558026 non-null  object \n",
      " 4   ORIGIN_AIRPORT_ID   558026 non-null  int64  \n",
      " 5   ORIGIN              558026 non-null  object \n",
      " 6   DEST                558026 non-null  object \n",
      " 7   DEP_DEL15           558026 non-null  float64\n",
      " 8   DEP_TIME_BLK        558026 non-null  object \n",
      " 9   ARR_TIME_BLK        558026 non-null  object \n",
      " 10  CANCELLED           558026 non-null  float64\n",
      " 11  CRS_ELAPSED_TIME    558026 non-null  float64\n",
      " 12  DISTANCE            558026 non-null  float64\n",
      " 13  DISTANCE_GROUP      558026 non-null  int64  \n",
      " 14  AIRLINE_ID          558026 non-null  int64  \n",
      " 15  CARRIER_NAME        558026 non-null  object \n",
      " 16  PILOTS_COPILOTS     558026 non-null  int64  \n",
      " 17  PASSENGER_HANDLING  558026 non-null  int64  \n",
      " 18  PASS_GEN_SVC_ADMIN  558026 non-null  int64  \n",
      " 19  MAINTENANCE         558026 non-null  int64  \n",
      " 20  PRCP                558026 non-null  float64\n",
      " 21  SNOW                558026 non-null  float64\n",
      " 22  SNWD                558026 non-null  float64\n",
      " 23  TMAX                558026 non-null  float64\n",
      " 24  AWND                558026 non-null  float64\n",
      "dtypes: float64(9), int64(9), object(7)\n",
      "memory usage: 106.4+ MB\n"
     ]
    }
   ],
   "source": [
    "dec_merged.info()"
   ]
  },
  {
   "cell_type": "markdown",
   "metadata": {},
   "source": [
    "# Explore Class Labels "
   ]
  },
  {
   "cell_type": "code",
   "execution_count": 6,
   "metadata": {},
   "outputs": [
    {
     "data": {
      "text/plain": [
       "(558026, 25)"
      ]
     },
     "execution_count": 6,
     "metadata": {},
     "output_type": "execute_result"
    }
   ],
   "source": [
    "dec_merged.shape"
   ]
  },
  {
   "cell_type": "code",
   "execution_count": 7,
   "metadata": {},
   "outputs": [
    {
     "data": {
      "image/png": "[encoded data removed]",
      "text/plain": [
       "<Figure size 432x288 with 1 Axes>"
      ]
     },
     "metadata": {
      "image/png": {
       "height": 279,
       "width": 410
      }
     },
     "output_type": "display_data"
    }
   ],
   "source": [
    "fig = sns.countplot(data=dec_merged, x=\"DEP_DEL15\")\n",
    "fig.set_xlabel(\"Labels\")\n",
    "fig.set_ylabel(\"Number of Delays\")\n",
    "fig.set_title(\"Departure Delayed (After 15 minutes)\")\n",
    "plt.show()"
   ]
  },
  {
   "cell_type": "markdown",
   "metadata": {},
   "source": [
    "# Balance the Dataset by Departures "
   ]
  },
  {
   "cell_type": "code",
   "execution_count": 8,
   "metadata": {},
   "outputs": [
    {
     "data": {
      "text/html": [
       "<div>\n",
       "<style scoped>\n",
       "    .dataframe tbody tr th:only-of-type {\n",
       "        vertical-align: middle;\n",
       "    }\n",
       "\n",
       "    .dataframe tbody tr th {\n",
       "        vertical-align: top;\n",
       "    }\n",
       "\n",
       "    .dataframe thead th {\n",
       "        text-align: right;\n",
       "    }\n",
       "</style>\n",
       "<table border=\"1\" class=\"dataframe\">\n",
       "  <thead>\n",
       "    <tr style=\"text-align: right;\">\n",
       "      <th></th>\n",
       "      <th>DAY_OF_MONTH</th>\n",
       "      <th>DAY_OF_WEEK</th>\n",
       "      <th>OP_UNIQUE_CARRIER</th>\n",
       "      <th>TAIL_NUM</th>\n",
       "      <th>ORIGIN_AIRPORT_ID</th>\n",
       "      <th>ORIGIN</th>\n",
       "      <th>DEST</th>\n",
       "      <th>DEP_DEL15</th>\n",
       "      <th>DEP_TIME_BLK</th>\n",
       "      <th>ARR_TIME_BLK</th>\n",
       "      <th>CANCELLED</th>\n",
       "      <th>CRS_ELAPSED_TIME</th>\n",
       "      <th>DISTANCE</th>\n",
       "      <th>DISTANCE_GROUP</th>\n",
       "      <th>AIRLINE_ID</th>\n",
       "      <th>CARRIER_NAME</th>\n",
       "      <th>PILOTS_COPILOTS</th>\n",
       "      <th>PASSENGER_HANDLING</th>\n",
       "      <th>PASS_GEN_SVC_ADMIN</th>\n",
       "      <th>MAINTENANCE</th>\n",
       "      <th>PRCP</th>\n",
       "      <th>SNOW</th>\n",
       "      <th>SNWD</th>\n",
       "      <th>TMAX</th>\n",
       "      <th>AWND</th>\n",
       "    </tr>\n",
       "  </thead>\n",
       "  <tbody>\n",
       "    <tr>\n",
       "      <th>0</th>\n",
       "      <td>6</td>\n",
       "      <td>5</td>\n",
       "      <td>WN</td>\n",
       "      <td>N924WN</td>\n",
       "      <td>12191</td>\n",
       "      <td>HOU</td>\n",
       "      <td>DAL</td>\n",
       "      <td>0.0</td>\n",
       "      <td>0600-0659</td>\n",
       "      <td>0700-0759</td>\n",
       "      <td>0.0</td>\n",
       "      <td>60.0</td>\n",
       "      <td>239.0</td>\n",
       "      <td>1</td>\n",
       "      <td>19393</td>\n",
       "      <td>Southwest Airlines Co.</td>\n",
       "      <td>8989</td>\n",
       "      <td>9668</td>\n",
       "      <td>15475</td>\n",
       "      <td>2482</td>\n",
       "      <td>0.00</td>\n",
       "      <td>0.0</td>\n",
       "      <td>0.0</td>\n",
       "      <td>75.0</td>\n",
       "      <td>9.62</td>\n",
       "    </tr>\n",
       "    <tr>\n",
       "      <th>1</th>\n",
       "      <td>26</td>\n",
       "      <td>4</td>\n",
       "      <td>OH</td>\n",
       "      <td>N524AE</td>\n",
       "      <td>11057</td>\n",
       "      <td>CLT</td>\n",
       "      <td>AVL</td>\n",
       "      <td>0.0</td>\n",
       "      <td>0900-0959</td>\n",
       "      <td>1000-1059</td>\n",
       "      <td>0.0</td>\n",
       "      <td>56.0</td>\n",
       "      <td>91.0</td>\n",
       "      <td>1</td>\n",
       "      <td>20417</td>\n",
       "      <td>Comair Inc.</td>\n",
       "      <td>1729</td>\n",
       "      <td>0</td>\n",
       "      <td>1345</td>\n",
       "      <td>471</td>\n",
       "      <td>0.00</td>\n",
       "      <td>0.0</td>\n",
       "      <td>0.0</td>\n",
       "      <td>63.0</td>\n",
       "      <td>1.12</td>\n",
       "    </tr>\n",
       "    <tr>\n",
       "      <th>2</th>\n",
       "      <td>21</td>\n",
       "      <td>6</td>\n",
       "      <td>OH</td>\n",
       "      <td>N556NN</td>\n",
       "      <td>13931</td>\n",
       "      <td>ORF</td>\n",
       "      <td>PHL</td>\n",
       "      <td>0.0</td>\n",
       "      <td>1700-1759</td>\n",
       "      <td>1800-1859</td>\n",
       "      <td>0.0</td>\n",
       "      <td>68.0</td>\n",
       "      <td>212.0</td>\n",
       "      <td>1</td>\n",
       "      <td>20417</td>\n",
       "      <td>Comair Inc.</td>\n",
       "      <td>1729</td>\n",
       "      <td>0</td>\n",
       "      <td>1345</td>\n",
       "      <td>471</td>\n",
       "      <td>0.00</td>\n",
       "      <td>0.0</td>\n",
       "      <td>0.0</td>\n",
       "      <td>46.0</td>\n",
       "      <td>5.14</td>\n",
       "    </tr>\n",
       "    <tr>\n",
       "      <th>3</th>\n",
       "      <td>8</td>\n",
       "      <td>7</td>\n",
       "      <td>NK</td>\n",
       "      <td>N523NK</td>\n",
       "      <td>14492</td>\n",
       "      <td>RDU</td>\n",
       "      <td>MCO</td>\n",
       "      <td>0.0</td>\n",
       "      <td>1100-1159</td>\n",
       "      <td>1300-1359</td>\n",
       "      <td>0.0</td>\n",
       "      <td>116.0</td>\n",
       "      <td>534.0</td>\n",
       "      <td>3</td>\n",
       "      <td>20416</td>\n",
       "      <td>Spirit Air Lines</td>\n",
       "      <td>2126</td>\n",
       "      <td>264</td>\n",
       "      <td>3592</td>\n",
       "      <td>395</td>\n",
       "      <td>0.11</td>\n",
       "      <td>0.0</td>\n",
       "      <td>0.0</td>\n",
       "      <td>52.0</td>\n",
       "      <td>3.58</td>\n",
       "    </tr>\n",
       "    <tr>\n",
       "      <th>4</th>\n",
       "      <td>8</td>\n",
       "      <td>7</td>\n",
       "      <td>DL</td>\n",
       "      <td>N542US</td>\n",
       "      <td>14747</td>\n",
       "      <td>SEA</td>\n",
       "      <td>MSP</td>\n",
       "      <td>0.0</td>\n",
       "      <td>0800-0859</td>\n",
       "      <td>1300-1359</td>\n",
       "      <td>0.0</td>\n",
       "      <td>200.0</td>\n",
       "      <td>1399.0</td>\n",
       "      <td>6</td>\n",
       "      <td>19790</td>\n",
       "      <td>Delta Air Lines Inc.</td>\n",
       "      <td>9293</td>\n",
       "      <td>15331</td>\n",
       "      <td>15809</td>\n",
       "      <td>6122</td>\n",
       "      <td>0.03</td>\n",
       "      <td>0.0</td>\n",
       "      <td>0.0</td>\n",
       "      <td>52.0</td>\n",
       "      <td>3.80</td>\n",
       "    </tr>\n",
       "  </tbody>\n",
       "</table>\n",
       "</div>"
      ],
      "text/plain": [
       "   DAY_OF_MONTH  DAY_OF_WEEK OP_UNIQUE_CARRIER TAIL_NUM  ORIGIN_AIRPORT_ID ORIGIN DEST  DEP_DEL15 DEP_TIME_BLK ARR_TIME_BLK  CANCELLED  CRS_ELAPSED_TIME  DISTANCE  DISTANCE_GROUP  AIRLINE_ID            CARRIER_NAME  PILOTS_COPILOTS  PASSENGER_HANDLING  PASS_GEN_SVC_ADMIN  MAINTENANCE  PRCP  SNOW  SNWD  TMAX  AWND\n",
       "0             6            5                WN   N924WN              12191    HOU  DAL        0.0    0600-0659    0700-0759        0.0              60.0     239.0               1       19393  Southwest Airlines Co.             8989                9668               15475         2482  0.00   0.0   0.0  75.0  9.62\n",
       "1            26            4                OH   N524AE              11057    CLT  AVL        0.0    0900-0959    1000-1059        0.0              56.0      91.0               1       20417             Comair Inc.             1729                   0                1345          471  0.00   0.0   0.0  63.0  1.12\n",
       "2            21            6                OH   N556NN              13931    ORF  PHL        0.0    1700-1759    1800-1859        0.0              68.0     212.0               1       20417             Comair Inc.             1729                   0                1345          471  0.00   0.0   0.0  46.0  5.14\n",
       "3             8            7                NK   N523NK              14492    RDU  MCO        0.0    1100-1159    1300-1359        0.0             116.0     534.0               3       20416        Spirit Air Lines             2126                 264                3592          395  0.11   0.0   0.0  52.0  3.58\n",
       "4             8            7                DL   N542US              14747    SEA  MSP        0.0    0800-0859    1300-1359        0.0             200.0    1399.0               6       19790    Delta Air Lines Inc.             9293               15331               15809         6122  0.03   0.0   0.0  52.0  3.80"
      ]
     },
     "execution_count": 8,
     "metadata": {},
     "output_type": "execute_result"
    }
   ],
   "source": [
    "df_grouped_by = dec_merged.groupby([\"DEP_DEL15\"])\n",
    "df_balanced = df_grouped_by.apply(lambda x: x.sample(df_grouped_by.size().min()))\n",
    "df_balanced.reset_index(drop=True, inplace =True)\n",
    "df_balanced.head()"
   ]
  },
  {
   "cell_type": "code",
   "execution_count": 9,
   "metadata": {},
   "outputs": [
    {
     "data": {
      "image/png": "[encoded data removed]",
      "text/plain": [
       "<Figure size 432x288 with 1 Axes>"
      ]
     },
     "metadata": {
      "image/png": {
       "height": 279,
       "width": 410
      }
     },
     "output_type": "display_data"
    }
   ],
   "source": [
    "fig = sns.countplot(data=df_balanced, x=\"DEP_DEL15\")\n",
    "fig.set_xlabel(\"Labels\")\n",
    "fig.set_ylabel(\"Number of Delays\")\n",
    "fig.set_title(\"Departure Delayed (After 15 minutes)\")\n",
    "plt.show()"
   ]
  },
  {
   "cell_type": "markdown",
   "metadata": {},
   "source": [
    "# Feature Engineering \n",
    "\n",
    "1. Feature Selection\n",
    "2. Feature Creation \n",
    "3. Feature Transformation\n",
    "\n",
    "----"
   ]
  },
  {
   "cell_type": "markdown",
   "metadata": {},
   "source": [
    "## 1. Feature Selection \n",
    "\n",
    "- We will disregard columns with IDs\n",
    "- Also drop any redundant columns such as having only 1 distinct value \n",
    "- Since we have both the distance and distance group column, it is redundant or DEP_TIME_BLK vs. ARR_TIME_BLK"
   ]
  },
  {
   "cell_type": "code",
   "execution_count": 10,
   "metadata": {},
   "outputs": [
    {
     "name": "stdout",
     "output_type": "stream",
     "text": [
      "<class 'pandas.core.frame.DataFrame'>\n",
      "RangeIndex: 232584 entries, 0 to 232583\n",
      "Data columns (total 25 columns):\n",
      " #   Column              Non-Null Count   Dtype  \n",
      "---  ------              --------------   -----  \n",
      " 0   DAY_OF_MONTH        232584 non-null  int64  \n",
      " 1   DAY_OF_WEEK         232584 non-null  int64  \n",
      " 2   OP_UNIQUE_CARRIER   232584 non-null  object \n",
      " 3   TAIL_NUM            232584 non-null  object \n",
      " 4   ORIGIN_AIRPORT_ID   232584 non-null  int64  \n",
      " 5   ORIGIN              232584 non-null  object \n",
      " 6   DEST                232584 non-null  object \n",
      " 7   DEP_DEL15           232584 non-null  float64\n",
      " 8   DEP_TIME_BLK        232584 non-null  object \n",
      " 9   ARR_TIME_BLK        232584 non-null  object \n",
      " 10  CANCELLED           232584 non-null  float64\n",
      " 11  CRS_ELAPSED_TIME    232584 non-null  float64\n",
      " 12  DISTANCE            232584 non-null  float64\n",
      " 13  DISTANCE_GROUP      232584 non-null  int64  \n",
      " 14  AIRLINE_ID          232584 non-null  int64  \n",
      " 15  CARRIER_NAME        232584 non-null  object \n",
      " 16  PILOTS_COPILOTS     232584 non-null  int64  \n",
      " 17  PASSENGER_HANDLING  232584 non-null  int64  \n",
      " 18  PASS_GEN_SVC_ADMIN  232584 non-null  int64  \n",
      " 19  MAINTENANCE         232584 non-null  int64  \n",
      " 20  PRCP                232584 non-null  float64\n",
      " 21  SNOW                232584 non-null  float64\n",
      " 22  SNWD                232584 non-null  float64\n",
      " 23  TMAX                232584 non-null  float64\n",
      " 24  AWND                232584 non-null  float64\n",
      "dtypes: float64(9), int64(9), object(7)\n",
      "memory usage: 44.4+ MB\n"
     ]
    }
   ],
   "source": [
    "df_balanced.info()"
   ]
  },
  {
   "cell_type": "code",
   "execution_count": 11,
   "metadata": {},
   "outputs": [
    {
     "data": {
      "text/html": [
       "<div>\n",
       "<style scoped>\n",
       "    .dataframe tbody tr th:only-of-type {\n",
       "        vertical-align: middle;\n",
       "    }\n",
       "\n",
       "    .dataframe tbody tr th {\n",
       "        vertical-align: top;\n",
       "    }\n",
       "\n",
       "    .dataframe thead th {\n",
       "        text-align: right;\n",
       "    }\n",
       "</style>\n",
       "<table border=\"1\" class=\"dataframe\">\n",
       "  <thead>\n",
       "    <tr style=\"text-align: right;\">\n",
       "      <th></th>\n",
       "      <th>DAY_OF_MONTH</th>\n",
       "      <th>DAY_OF_WEEK</th>\n",
       "      <th>OP_UNIQUE_CARRIER</th>\n",
       "      <th>ORIGIN</th>\n",
       "      <th>DEST</th>\n",
       "      <th>DEP_DEL15</th>\n",
       "      <th>DEP_TIME_BLK</th>\n",
       "      <th>CRS_ELAPSED_TIME</th>\n",
       "      <th>DISTANCE_GROUP</th>\n",
       "      <th>CARRIER_NAME</th>\n",
       "      <th>PILOTS_COPILOTS</th>\n",
       "      <th>PASSENGER_HANDLING</th>\n",
       "      <th>PASS_GEN_SVC_ADMIN</th>\n",
       "      <th>MAINTENANCE</th>\n",
       "      <th>PRCP</th>\n",
       "      <th>SNOW</th>\n",
       "      <th>SNWD</th>\n",
       "      <th>TMAX</th>\n",
       "      <th>AWND</th>\n",
       "    </tr>\n",
       "  </thead>\n",
       "  <tbody>\n",
       "    <tr>\n",
       "      <th>0</th>\n",
       "      <td>6</td>\n",
       "      <td>5</td>\n",
       "      <td>WN</td>\n",
       "      <td>HOU</td>\n",
       "      <td>DAL</td>\n",
       "      <td>0.0</td>\n",
       "      <td>0600-0659</td>\n",
       "      <td>60.0</td>\n",
       "      <td>1</td>\n",
       "      <td>Southwest Airlines Co.</td>\n",
       "      <td>8989</td>\n",
       "      <td>9668</td>\n",
       "      <td>15475</td>\n",
       "      <td>2482</td>\n",
       "      <td>0.00</td>\n",
       "      <td>0.0</td>\n",
       "      <td>0.0</td>\n",
       "      <td>75.0</td>\n",
       "      <td>9.62</td>\n",
       "    </tr>\n",
       "    <tr>\n",
       "      <th>1</th>\n",
       "      <td>26</td>\n",
       "      <td>4</td>\n",
       "      <td>OH</td>\n",
       "      <td>CLT</td>\n",
       "      <td>AVL</td>\n",
       "      <td>0.0</td>\n",
       "      <td>0900-0959</td>\n",
       "      <td>56.0</td>\n",
       "      <td>1</td>\n",
       "      <td>Comair Inc.</td>\n",
       "      <td>1729</td>\n",
       "      <td>0</td>\n",
       "      <td>1345</td>\n",
       "      <td>471</td>\n",
       "      <td>0.00</td>\n",
       "      <td>0.0</td>\n",
       "      <td>0.0</td>\n",
       "      <td>63.0</td>\n",
       "      <td>1.12</td>\n",
       "    </tr>\n",
       "    <tr>\n",
       "      <th>2</th>\n",
       "      <td>21</td>\n",
       "      <td>6</td>\n",
       "      <td>OH</td>\n",
       "      <td>ORF</td>\n",
       "      <td>PHL</td>\n",
       "      <td>0.0</td>\n",
       "      <td>1700-1759</td>\n",
       "      <td>68.0</td>\n",
       "      <td>1</td>\n",
       "      <td>Comair Inc.</td>\n",
       "      <td>1729</td>\n",
       "      <td>0</td>\n",
       "      <td>1345</td>\n",
       "      <td>471</td>\n",
       "      <td>0.00</td>\n",
       "      <td>0.0</td>\n",
       "      <td>0.0</td>\n",
       "      <td>46.0</td>\n",
       "      <td>5.14</td>\n",
       "    </tr>\n",
       "    <tr>\n",
       "      <th>3</th>\n",
       "      <td>8</td>\n",
       "      <td>7</td>\n",
       "      <td>NK</td>\n",
       "      <td>RDU</td>\n",
       "      <td>MCO</td>\n",
       "      <td>0.0</td>\n",
       "      <td>1100-1159</td>\n",
       "      <td>116.0</td>\n",
       "      <td>3</td>\n",
       "      <td>Spirit Air Lines</td>\n",
       "      <td>2126</td>\n",
       "      <td>264</td>\n",
       "      <td>3592</td>\n",
       "      <td>395</td>\n",
       "      <td>0.11</td>\n",
       "      <td>0.0</td>\n",
       "      <td>0.0</td>\n",
       "      <td>52.0</td>\n",
       "      <td>3.58</td>\n",
       "    </tr>\n",
       "    <tr>\n",
       "      <th>4</th>\n",
       "      <td>8</td>\n",
       "      <td>7</td>\n",
       "      <td>DL</td>\n",
       "      <td>SEA</td>\n",
       "      <td>MSP</td>\n",
       "      <td>0.0</td>\n",
       "      <td>0800-0859</td>\n",
       "      <td>200.0</td>\n",
       "      <td>6</td>\n",
       "      <td>Delta Air Lines Inc.</td>\n",
       "      <td>9293</td>\n",
       "      <td>15331</td>\n",
       "      <td>15809</td>\n",
       "      <td>6122</td>\n",
       "      <td>0.03</td>\n",
       "      <td>0.0</td>\n",
       "      <td>0.0</td>\n",
       "      <td>52.0</td>\n",
       "      <td>3.80</td>\n",
       "    </tr>\n",
       "  </tbody>\n",
       "</table>\n",
       "</div>"
      ],
      "text/plain": [
       "   DAY_OF_MONTH  DAY_OF_WEEK OP_UNIQUE_CARRIER ORIGIN DEST  DEP_DEL15 DEP_TIME_BLK  CRS_ELAPSED_TIME  DISTANCE_GROUP            CARRIER_NAME  PILOTS_COPILOTS  PASSENGER_HANDLING  PASS_GEN_SVC_ADMIN  MAINTENANCE  PRCP  SNOW  SNWD  TMAX  AWND\n",
       "0             6            5                WN    HOU  DAL        0.0    0600-0659              60.0               1  Southwest Airlines Co.             8989                9668               15475         2482  0.00   0.0   0.0  75.0  9.62\n",
       "1            26            4                OH    CLT  AVL        0.0    0900-0959              56.0               1             Comair Inc.             1729                   0                1345          471  0.00   0.0   0.0  63.0  1.12\n",
       "2            21            6                OH    ORF  PHL        0.0    1700-1759              68.0               1             Comair Inc.             1729                   0                1345          471  0.00   0.0   0.0  46.0  5.14\n",
       "3             8            7                NK    RDU  MCO        0.0    1100-1159             116.0               3        Spirit Air Lines             2126                 264                3592          395  0.11   0.0   0.0  52.0  3.58\n",
       "4             8            7                DL    SEA  MSP        0.0    0800-0859             200.0               6    Delta Air Lines Inc.             9293               15331               15809         6122  0.03   0.0   0.0  52.0  3.80"
      ]
     },
     "execution_count": 11,
     "metadata": {},
     "output_type": "execute_result"
    }
   ],
   "source": [
    "dropped = ['TAIL_NUM','ORIGIN_AIRPORT_ID', 'ARR_TIME_BLK','CANCELLED','AIRLINE_ID','DISTANCE']\n",
    "df_balanced.drop(dropped, inplace=True, axis=1)\n",
    "df_balanced.head()"
   ]
  },
  {
   "cell_type": "code",
   "execution_count": 12,
   "metadata": {},
   "outputs": [],
   "source": [
    "# independent features\n",
    "X = df_balanced.drop('DEP_DEL15', axis = 1)\n",
    "\n",
    "# Target/dependent feature\n",
    "y = df_balanced['DEP_DEL15']"
   ]
  },
  {
   "cell_type": "markdown",
   "metadata": {},
   "source": [
    "----\n",
    "## 2. Feature Creation \n",
    "- DAY_OF_MONTH\n",
    "        \n",
    "        1-7 = Week 1\n",
    "        8-14 = Week 2\n",
    "        15-21 = Week 3\n",
    "        22-28 = week 4\n",
    "        29-31 = last days of December\n",
    "        \n",
    "        \n",
    "        \n",
    "- CRS_ELAPSED_TIME\n",
    "    \n",
    "        Flight planned elapsed time in minutes \n",
    "        <= 180 mins is 3 hour or less\n",
    "        <= 360 mins = 6 hours or less\n",
    "        <= 540 mins = 9 hours or less  \n",
    "        <= 720 mins = 12 hours or less\n",
    "        \n",
    "\n",
    "- DEP_TIME_BLK\n",
    "\n",
    "         Night = 11:00 p.m. - 5:59 a.m \n",
    "         Morning = 6:00 a.m - 11:59 a.m. \n",
    "         Afternoon = 12:00 p.m. - 5:59 p.m \n",
    "         Evening = 6:00 p.m. - 10:00 p.m.\n",
    "         \n",
    "  \n",
    "\n",
    "---"
   ]
  },
  {
   "cell_type": "code",
   "execution_count": 13,
   "metadata": {},
   "outputs": [
    {
     "data": {
      "image/png": "[encoded data removed]",
      "text/plain": [
       "<Figure size 432x288 with 1 Axes>"
      ]
     },
     "metadata": {
      "image/png": {
       "height": 250,
       "width": 390
      }
     },
     "output_type": "display_data"
    }
   ],
   "source": [
    "# DAY_OF_MONTH\n",
    "X['DAY_OF_MONTH'].hist(bins=7)\n",
    "plt.show()"
   ]
  },
  {
   "cell_type": "code",
   "execution_count": 14,
   "metadata": {},
   "outputs": [
    {
     "data": {
      "text/plain": [
       "week 3        54309\n",
       "week 1        53760\n",
       "week 4        51917\n",
       "week 2        49998\n",
       "extra week    22600\n",
       "Name: DAY_OF_MONTH, dtype: int64"
      ]
     },
     "execution_count": 14,
     "metadata": {},
     "output_type": "execute_result"
    }
   ],
   "source": [
    "def month_weeks_range(x):\n",
    "    if x <= 7:\n",
    "        return 'week 1'\n",
    "    elif x <= 14:\n",
    "        return 'week 2'\n",
    "    elif x <= 21:\n",
    "        return 'week 3'\n",
    "    elif x <= 28:\n",
    "        return 'week 4'\n",
    "    else:\n",
    "        return 'extra week'\n",
    "\n",
    "X['DAY_OF_MONTH'] = X['DAY_OF_MONTH'].apply(lambda x: month_weeks_range(x))\n",
    "X['DAY_OF_MONTH'].value_counts()"
   ]
  },
  {
   "cell_type": "code",
   "execution_count": 15,
   "metadata": {},
   "outputs": [
    {
     "data": {
      "image/png": "[encoded data removed]",
      "text/plain": [
       "<Figure size 432x288 with 1 Axes>"
      ]
     },
     "metadata": {
      "image/png": {
       "height": 250,
       "width": 390
      }
     },
     "output_type": "display_data"
    }
   ],
   "source": [
    "# CRS_ELAPSED_TIME\n",
    "X['CRS_ELAPSED_TIME'].hist(bins=60)\n",
    "plt.show()"
   ]
  },
  {
   "cell_type": "code",
   "execution_count": 16,
   "metadata": {},
   "outputs": [
    {
     "data": {
      "text/plain": [
       "3 hours or less     175244\n",
       "6 hours or less      52674\n",
       "9 hours or less       4504\n",
       "12 hours or less       162\n",
       "Name: CRS_ELAPSED_TIME, dtype: int64"
      ]
     },
     "execution_count": 16,
     "metadata": {},
     "output_type": "execute_result"
    }
   ],
   "source": [
    "def crs_time_range(x):\n",
    "    if x <= 180:\n",
    "        return '3 hours or less'\n",
    "    elif x <= 360:\n",
    "        return '6 hours or less'\n",
    "    elif x <= 540:\n",
    "        return '9 hours or less'\n",
    "    else:\n",
    "        return '12 hours or less'\n",
    "\n",
    "X['CRS_ELAPSED_TIME'] = X['CRS_ELAPSED_TIME'].apply(lambda x: crs_time_range(x))\n",
    "X['CRS_ELAPSED_TIME'].value_counts()"
   ]
  },
  {
   "cell_type": "code",
   "execution_count": 17,
   "metadata": {},
   "outputs": [
    {
     "data": {
      "text/plain": [
       "1700-1759    16187\n",
       "1800-1859    14777\n",
       "1900-1959    14769\n",
       "1500-1559    14548\n",
       "1600-1659    14487\n",
       "1400-1459    14234\n",
       "1200-1259    14222\n",
       "1100-1159    13828\n",
       "2000-2059    13727\n",
       "1000-1059    13467\n",
       "0800-0859    13450\n",
       "1300-1359    13166\n",
       "0900-0959    12855\n",
       "0700-0759    12461\n",
       "0600-0659    12178\n",
       "2100-2159     9324\n",
       "2200-2259     7952\n",
       "0001-0559     4900\n",
       "2300-2359     2052\n",
       "Name: DEP_TIME_BLK, dtype: int64"
      ]
     },
     "execution_count": 17,
     "metadata": {},
     "output_type": "execute_result"
    }
   ],
   "source": [
    "# DEP_TIME_BLK\n",
    "X['DEP_TIME_BLK'].value_counts()"
   ]
  },
  {
   "cell_type": "code",
   "execution_count": 18,
   "metadata": {},
   "outputs": [
    {
     "data": {
      "text/plain": [
       "afternoon    86844\n",
       "morning      78239\n",
       "evening      52597\n",
       "night        14904\n",
       "Name: DEP_TIME_BLK, dtype: int64"
      ]
     },
     "execution_count": 18,
     "metadata": {},
     "output_type": "execute_result"
    }
   ],
   "source": [
    "dep_blk = {'0600-0659':'morning', '0700-0759':'morning', '0800-0859':'morning',\n",
    "           '0900-0959':'morning','1000-1059':'morning', '1100-1159':'morning',\n",
    "           '1200-1259':'afternoon', '1300-1359':'afternoon', '1400-1459':'afternoon',\n",
    "           '1500-1559':'afternoon', '1600-1659':'afternoon', '1700-1759':'afternoon',\n",
    "           '1800-1859':'evening', '1900-1959':'evening','2000-2059':'evening', \n",
    "           '2100-2159':'evening', '2200-2259':'evening', \n",
    "           '2200-2259':'night', '2300-2359':'night', '0001-0559':'night'}\n",
    "\n",
    "X['DEP_TIME_BLK'] = X['DEP_TIME_BLK'].replace(dep_blk)\n",
    "X['DEP_TIME_BLK'].value_counts()"
   ]
  },
  {
   "cell_type": "markdown",
   "metadata": {},
   "source": [
    "--------\n",
    "## 3. Feature Transformation \n",
    "\n",
    "- One-hot encoding categorical variables with over 10 distinct values \n",
    "- Ordinal encoding for variables such as date-time \n",
    "- Min-max scale numeric variables\n"
   ]
  },
  {
   "cell_type": "code",
   "execution_count": 19,
   "metadata": {},
   "outputs": [
    {
     "data": {
      "text/html": [
       "<div>\n",
       "<style scoped>\n",
       "    .dataframe tbody tr th:only-of-type {\n",
       "        vertical-align: middle;\n",
       "    }\n",
       "\n",
       "    .dataframe tbody tr th {\n",
       "        vertical-align: top;\n",
       "    }\n",
       "\n",
       "    .dataframe thead th {\n",
       "        text-align: right;\n",
       "    }\n",
       "</style>\n",
       "<table border=\"1\" class=\"dataframe\">\n",
       "  <thead>\n",
       "    <tr style=\"text-align: right;\">\n",
       "      <th></th>\n",
       "      <th>DAY_OF_MONTH</th>\n",
       "      <th>DAY_OF_WEEK</th>\n",
       "      <th>OP_UNIQUE_CARRIER</th>\n",
       "      <th>ORIGIN</th>\n",
       "      <th>DEST</th>\n",
       "      <th>DEP_TIME_BLK</th>\n",
       "      <th>CRS_ELAPSED_TIME</th>\n",
       "      <th>DISTANCE_GROUP</th>\n",
       "      <th>CARRIER_NAME</th>\n",
       "      <th>PILOTS_COPILOTS</th>\n",
       "      <th>PASSENGER_HANDLING</th>\n",
       "      <th>PASS_GEN_SVC_ADMIN</th>\n",
       "      <th>MAINTENANCE</th>\n",
       "      <th>PRCP</th>\n",
       "      <th>SNOW</th>\n",
       "      <th>SNWD</th>\n",
       "      <th>TMAX</th>\n",
       "      <th>AWND</th>\n",
       "    </tr>\n",
       "  </thead>\n",
       "  <tbody>\n",
       "    <tr>\n",
       "      <th>0</th>\n",
       "      <td>week 1</td>\n",
       "      <td>5</td>\n",
       "      <td>WN</td>\n",
       "      <td>HOU</td>\n",
       "      <td>DAL</td>\n",
       "      <td>morning</td>\n",
       "      <td>3 hours or less</td>\n",
       "      <td>1</td>\n",
       "      <td>Southwest Airlines Co.</td>\n",
       "      <td>8989</td>\n",
       "      <td>9668</td>\n",
       "      <td>15475</td>\n",
       "      <td>2482</td>\n",
       "      <td>0.00</td>\n",
       "      <td>0.0</td>\n",
       "      <td>0.0</td>\n",
       "      <td>75.0</td>\n",
       "      <td>9.62</td>\n",
       "    </tr>\n",
       "    <tr>\n",
       "      <th>1</th>\n",
       "      <td>week 4</td>\n",
       "      <td>4</td>\n",
       "      <td>OH</td>\n",
       "      <td>CLT</td>\n",
       "      <td>AVL</td>\n",
       "      <td>morning</td>\n",
       "      <td>3 hours or less</td>\n",
       "      <td>1</td>\n",
       "      <td>Comair Inc.</td>\n",
       "      <td>1729</td>\n",
       "      <td>0</td>\n",
       "      <td>1345</td>\n",
       "      <td>471</td>\n",
       "      <td>0.00</td>\n",
       "      <td>0.0</td>\n",
       "      <td>0.0</td>\n",
       "      <td>63.0</td>\n",
       "      <td>1.12</td>\n",
       "    </tr>\n",
       "    <tr>\n",
       "      <th>2</th>\n",
       "      <td>week 3</td>\n",
       "      <td>6</td>\n",
       "      <td>OH</td>\n",
       "      <td>ORF</td>\n",
       "      <td>PHL</td>\n",
       "      <td>afternoon</td>\n",
       "      <td>3 hours or less</td>\n",
       "      <td>1</td>\n",
       "      <td>Comair Inc.</td>\n",
       "      <td>1729</td>\n",
       "      <td>0</td>\n",
       "      <td>1345</td>\n",
       "      <td>471</td>\n",
       "      <td>0.00</td>\n",
       "      <td>0.0</td>\n",
       "      <td>0.0</td>\n",
       "      <td>46.0</td>\n",
       "      <td>5.14</td>\n",
       "    </tr>\n",
       "    <tr>\n",
       "      <th>3</th>\n",
       "      <td>week 2</td>\n",
       "      <td>7</td>\n",
       "      <td>NK</td>\n",
       "      <td>RDU</td>\n",
       "      <td>MCO</td>\n",
       "      <td>morning</td>\n",
       "      <td>3 hours or less</td>\n",
       "      <td>3</td>\n",
       "      <td>Spirit Air Lines</td>\n",
       "      <td>2126</td>\n",
       "      <td>264</td>\n",
       "      <td>3592</td>\n",
       "      <td>395</td>\n",
       "      <td>0.11</td>\n",
       "      <td>0.0</td>\n",
       "      <td>0.0</td>\n",
       "      <td>52.0</td>\n",
       "      <td>3.58</td>\n",
       "    </tr>\n",
       "    <tr>\n",
       "      <th>4</th>\n",
       "      <td>week 2</td>\n",
       "      <td>7</td>\n",
       "      <td>DL</td>\n",
       "      <td>SEA</td>\n",
       "      <td>MSP</td>\n",
       "      <td>morning</td>\n",
       "      <td>6 hours or less</td>\n",
       "      <td>6</td>\n",
       "      <td>Delta Air Lines Inc.</td>\n",
       "      <td>9293</td>\n",
       "      <td>15331</td>\n",
       "      <td>15809</td>\n",
       "      <td>6122</td>\n",
       "      <td>0.03</td>\n",
       "      <td>0.0</td>\n",
       "      <td>0.0</td>\n",
       "      <td>52.0</td>\n",
       "      <td>3.80</td>\n",
       "    </tr>\n",
       "  </tbody>\n",
       "</table>\n",
       "</div>"
      ],
      "text/plain": [
       "  DAY_OF_MONTH  DAY_OF_WEEK OP_UNIQUE_CARRIER ORIGIN DEST DEP_TIME_BLK CRS_ELAPSED_TIME  DISTANCE_GROUP            CARRIER_NAME  PILOTS_COPILOTS  PASSENGER_HANDLING  PASS_GEN_SVC_ADMIN  MAINTENANCE  PRCP  SNOW  SNWD  TMAX  AWND\n",
       "0       week 1            5                WN    HOU  DAL      morning  3 hours or less               1  Southwest Airlines Co.             8989                9668               15475         2482  0.00   0.0   0.0  75.0  9.62\n",
       "1       week 4            4                OH    CLT  AVL      morning  3 hours or less               1             Comair Inc.             1729                   0                1345          471  0.00   0.0   0.0  63.0  1.12\n",
       "2       week 3            6                OH    ORF  PHL    afternoon  3 hours or less               1             Comair Inc.             1729                   0                1345          471  0.00   0.0   0.0  46.0  5.14\n",
       "3       week 2            7                NK    RDU  MCO      morning  3 hours or less               3        Spirit Air Lines             2126                 264                3592          395  0.11   0.0   0.0  52.0  3.58\n",
       "4       week 2            7                DL    SEA  MSP      morning  6 hours or less               6    Delta Air Lines Inc.             9293               15331               15809         6122  0.03   0.0   0.0  52.0  3.80"
      ]
     },
     "execution_count": 19,
     "metadata": {},
     "output_type": "execute_result"
    }
   ],
   "source": [
    "X.head()"
   ]
  },
  {
   "cell_type": "markdown",
   "metadata": {},
   "source": [
    "### a. Categorical Variables\n",
    "\n",
    "- OP_UNIQUE_CARRIER (one-hot encode and drop last column)\n",
    "- ORIGIN (one-hot encode and drop last column)\n",
    "- DEST (one-hot encode and drop last column)\n",
    "- CARRIER_NAME (one-hot encode and drop last column)"
   ]
  },
  {
   "cell_type": "code",
   "execution_count": 20,
   "metadata": {},
   "outputs": [
    {
     "data": {
      "text/html": [
       "<div>\n",
       "<style scoped>\n",
       "    .dataframe tbody tr th:only-of-type {\n",
       "        vertical-align: middle;\n",
       "    }\n",
       "\n",
       "    .dataframe tbody tr th {\n",
       "        vertical-align: top;\n",
       "    }\n",
       "\n",
       "    .dataframe thead th {\n",
       "        text-align: right;\n",
       "    }\n",
       "</style>\n",
       "<table border=\"1\" class=\"dataframe\">\n",
       "  <thead>\n",
       "    <tr style=\"text-align: right;\">\n",
       "      <th></th>\n",
       "      <th>OP_UNIQUE_CARRIER</th>\n",
       "      <th>ORIGIN</th>\n",
       "      <th>DEST</th>\n",
       "      <th>CARRIER_NAME</th>\n",
       "    </tr>\n",
       "  </thead>\n",
       "  <tbody>\n",
       "    <tr>\n",
       "      <th>0</th>\n",
       "      <td>WN</td>\n",
       "      <td>HOU</td>\n",
       "      <td>DAL</td>\n",
       "      <td>Southwest Airlines Co.</td>\n",
       "    </tr>\n",
       "    <tr>\n",
       "      <th>1</th>\n",
       "      <td>OH</td>\n",
       "      <td>CLT</td>\n",
       "      <td>AVL</td>\n",
       "      <td>Comair Inc.</td>\n",
       "    </tr>\n",
       "    <tr>\n",
       "      <th>2</th>\n",
       "      <td>OH</td>\n",
       "      <td>ORF</td>\n",
       "      <td>PHL</td>\n",
       "      <td>Comair Inc.</td>\n",
       "    </tr>\n",
       "    <tr>\n",
       "      <th>3</th>\n",
       "      <td>NK</td>\n",
       "      <td>RDU</td>\n",
       "      <td>MCO</td>\n",
       "      <td>Spirit Air Lines</td>\n",
       "    </tr>\n",
       "    <tr>\n",
       "      <th>4</th>\n",
       "      <td>DL</td>\n",
       "      <td>SEA</td>\n",
       "      <td>MSP</td>\n",
       "      <td>Delta Air Lines Inc.</td>\n",
       "    </tr>\n",
       "  </tbody>\n",
       "</table>\n",
       "</div>"
      ],
      "text/plain": [
       "  OP_UNIQUE_CARRIER ORIGIN DEST            CARRIER_NAME\n",
       "0                WN    HOU  DAL  Southwest Airlines Co.\n",
       "1                OH    CLT  AVL             Comair Inc.\n",
       "2                OH    ORF  PHL             Comair Inc.\n",
       "3                NK    RDU  MCO        Spirit Air Lines\n",
       "4                DL    SEA  MSP    Delta Air Lines Inc."
      ]
     },
     "execution_count": 20,
     "metadata": {},
     "output_type": "execute_result"
    }
   ],
   "source": [
    "# Categorical columns\n",
    "categ_cols = ['OP_UNIQUE_CARRIER','ORIGIN', 'DEST', 'CARRIER_NAME']\n",
    "X[categ_cols].head()"
   ]
  },
  {
   "cell_type": "markdown",
   "metadata": {},
   "source": [
    "**High dimensionality problem** if we one hot encode these columns "
   ]
  },
  {
   "cell_type": "code",
   "execution_count": 21,
   "metadata": {},
   "outputs": [],
   "source": [
    "#X = pd.get_dummies(X[categ_cols])\n",
    "#X.head()"
   ]
  },
  {
   "cell_type": "markdown",
   "metadata": {},
   "source": [
    "### b. Ordinal Variables\n",
    "\n",
    "- DAY_OF_MONTH (convert to ordinal numbers)\n",
    "- DAY_OF_WEEK (already ordinal)\n",
    "- DISTANCE_GROUP (already ordinal)\n",
    "- DEP_TIME_BLK (convert to ordinal numbers)\n",
    "- CRS_ELAPSED_TIME (covert to ordinal numbers)\n"
   ]
  },
  {
   "cell_type": "code",
   "execution_count": 22,
   "metadata": {},
   "outputs": [
    {
     "data": {
      "text/html": [
       "<div>\n",
       "<style scoped>\n",
       "    .dataframe tbody tr th:only-of-type {\n",
       "        vertical-align: middle;\n",
       "    }\n",
       "\n",
       "    .dataframe tbody tr th {\n",
       "        vertical-align: top;\n",
       "    }\n",
       "\n",
       "    .dataframe thead th {\n",
       "        text-align: right;\n",
       "    }\n",
       "</style>\n",
       "<table border=\"1\" class=\"dataframe\">\n",
       "  <thead>\n",
       "    <tr style=\"text-align: right;\">\n",
       "      <th></th>\n",
       "      <th>DAY_OF_MONTH</th>\n",
       "      <th>DAY_OF_WEEK</th>\n",
       "      <th>DISTANCE_GROUP</th>\n",
       "      <th>DEP_TIME_BLK</th>\n",
       "      <th>CRS_ELAPSED_TIME</th>\n",
       "    </tr>\n",
       "  </thead>\n",
       "  <tbody>\n",
       "    <tr>\n",
       "      <th>0</th>\n",
       "      <td>week 1</td>\n",
       "      <td>5</td>\n",
       "      <td>1</td>\n",
       "      <td>morning</td>\n",
       "      <td>3 hours or less</td>\n",
       "    </tr>\n",
       "    <tr>\n",
       "      <th>1</th>\n",
       "      <td>week 4</td>\n",
       "      <td>4</td>\n",
       "      <td>1</td>\n",
       "      <td>morning</td>\n",
       "      <td>3 hours or less</td>\n",
       "    </tr>\n",
       "    <tr>\n",
       "      <th>2</th>\n",
       "      <td>week 3</td>\n",
       "      <td>6</td>\n",
       "      <td>1</td>\n",
       "      <td>afternoon</td>\n",
       "      <td>3 hours or less</td>\n",
       "    </tr>\n",
       "    <tr>\n",
       "      <th>3</th>\n",
       "      <td>week 2</td>\n",
       "      <td>7</td>\n",
       "      <td>3</td>\n",
       "      <td>morning</td>\n",
       "      <td>3 hours or less</td>\n",
       "    </tr>\n",
       "    <tr>\n",
       "      <th>4</th>\n",
       "      <td>week 2</td>\n",
       "      <td>7</td>\n",
       "      <td>6</td>\n",
       "      <td>morning</td>\n",
       "      <td>6 hours or less</td>\n",
       "    </tr>\n",
       "  </tbody>\n",
       "</table>\n",
       "</div>"
      ],
      "text/plain": [
       "  DAY_OF_MONTH  DAY_OF_WEEK  DISTANCE_GROUP DEP_TIME_BLK CRS_ELAPSED_TIME\n",
       "0       week 1            5               1      morning  3 hours or less\n",
       "1       week 4            4               1      morning  3 hours or less\n",
       "2       week 3            6               1    afternoon  3 hours or less\n",
       "3       week 2            7               3      morning  3 hours or less\n",
       "4       week 2            7               6      morning  6 hours or less"
      ]
     },
     "execution_count": 22,
     "metadata": {},
     "output_type": "execute_result"
    }
   ],
   "source": [
    "# Ordinal categorical columns\n",
    "ord_cols = ['DAY_OF_MONTH', 'DAY_OF_WEEK', 'DISTANCE_GROUP', 'DEP_TIME_BLK', 'CRS_ELAPSED_TIME']\n",
    "X[ord_cols].head()"
   ]
  },
  {
   "cell_type": "code",
   "execution_count": 23,
   "metadata": {},
   "outputs": [
    {
     "data": {
      "text/plain": [
       "3    54309\n",
       "1    53760\n",
       "4    51917\n",
       "2    49998\n",
       "5    22600\n",
       "Name: DAY_OF_MONTH, dtype: int64"
      ]
     },
     "execution_count": 23,
     "metadata": {},
     "output_type": "execute_result"
    }
   ],
   "source": [
    "# DAY_OF_MONTH\n",
    "week_month_ord = {'week 1': 1, 'week 2': 2,\n",
    "             'week 3': 3,'week 4': 4,\n",
    "             'extra week': 5}\n",
    "\n",
    "X['DAY_OF_MONTH'] = X['DAY_OF_MONTH'].replace(week_month_ord)\n",
    "X['DAY_OF_MONTH'].value_counts()"
   ]
  },
  {
   "cell_type": "code",
   "execution_count": 24,
   "metadata": {},
   "outputs": [
    {
     "data": {
      "text/plain": [
       "array([1, 2, 3, 4, 5, 6, 7])"
      ]
     },
     "execution_count": 24,
     "metadata": {},
     "output_type": "execute_result"
    }
   ],
   "source": [
    "# DISTANCE_GROUP\n",
    "X['DAY_OF_WEEK'].sort_values().unique()"
   ]
  },
  {
   "cell_type": "code",
   "execution_count": 25,
   "metadata": {},
   "outputs": [
    {
     "data": {
      "text/plain": [
       "array([ 1,  2,  3,  4,  5,  6,  7,  8,  9, 10, 11])"
      ]
     },
     "execution_count": 25,
     "metadata": {},
     "output_type": "execute_result"
    }
   ],
   "source": [
    "# DISTANCE_GROUP\n",
    "X['DISTANCE_GROUP'].sort_values().unique()"
   ]
  },
  {
   "cell_type": "code",
   "execution_count": 26,
   "metadata": {},
   "outputs": [
    {
     "data": {
      "text/plain": [
       "2    86844\n",
       "1    78239\n",
       "3    52597\n",
       "4    14904\n",
       "Name: DEP_TIME_BLK, dtype: int64"
      ]
     },
     "execution_count": 26,
     "metadata": {},
     "output_type": "execute_result"
    }
   ],
   "source": [
    "# DEP_TIME_BLK\n",
    "dep_blk_ord = {'morning': 1,\n",
    "             'afternoon': 2,\n",
    "             'evening':3,\n",
    "             'night':4}\n",
    "\n",
    "X['DEP_TIME_BLK'] = X['DEP_TIME_BLK'].replace(dep_blk_ord)\n",
    "X['DEP_TIME_BLK'].value_counts()"
   ]
  },
  {
   "cell_type": "code",
   "execution_count": 27,
   "metadata": {},
   "outputs": [
    {
     "data": {
      "text/plain": [
       "1    175244\n",
       "2     52674\n",
       "3      4504\n",
       "4       162\n",
       "Name: CRS_ELAPSED_TIME, dtype: int64"
      ]
     },
     "execution_count": 27,
     "metadata": {},
     "output_type": "execute_result"
    }
   ],
   "source": [
    "# CRS_ELAPSED_TIME\n",
    "crs_time_ord = {'3 hours or less': 1,\n",
    "             '6 hours or less': 2,\n",
    "             '9 hours or less':3,\n",
    "             '12 hours or less': 4}\n",
    "\n",
    "X['CRS_ELAPSED_TIME'] = X['CRS_ELAPSED_TIME'].replace(crs_time_ord)\n",
    "X['CRS_ELAPSED_TIME'].value_counts()"
   ]
  },
  {
   "cell_type": "markdown",
   "metadata": {},
   "source": [
    "### c. Numeric Variables\n",
    "Use min-max scaler to transform the data in these numeric columns\n",
    "\n",
    "- PILOTS_COPILOTS\n",
    "- PASSENGER_HANDLING\n",
    "- PASS_GEN_SVC_ADMIN\n",
    "- MAINTENANCE\n",
    "- PRCP\n",
    "- SNOW\n",
    "- SNWD\n",
    "- TMAX\n",
    "- AWND"
   ]
  },
  {
   "cell_type": "code",
   "execution_count": 28,
   "metadata": {},
   "outputs": [
    {
     "data": {
      "text/html": [
       "<div>\n",
       "<style scoped>\n",
       "    .dataframe tbody tr th:only-of-type {\n",
       "        vertical-align: middle;\n",
       "    }\n",
       "\n",
       "    .dataframe tbody tr th {\n",
       "        vertical-align: top;\n",
       "    }\n",
       "\n",
       "    .dataframe thead th {\n",
       "        text-align: right;\n",
       "    }\n",
       "</style>\n",
       "<table border=\"1\" class=\"dataframe\">\n",
       "  <thead>\n",
       "    <tr style=\"text-align: right;\">\n",
       "      <th></th>\n",
       "      <th>PILOTS_COPILOTS</th>\n",
       "      <th>PASSENGER_HANDLING</th>\n",
       "      <th>PASS_GEN_SVC_ADMIN</th>\n",
       "      <th>MAINTENANCE</th>\n",
       "      <th>PRCP</th>\n",
       "      <th>SNOW</th>\n",
       "      <th>SNWD</th>\n",
       "      <th>TMAX</th>\n",
       "      <th>AWND</th>\n",
       "    </tr>\n",
       "  </thead>\n",
       "  <tbody>\n",
       "    <tr>\n",
       "      <th>0</th>\n",
       "      <td>8989</td>\n",
       "      <td>9668</td>\n",
       "      <td>15475</td>\n",
       "      <td>2482</td>\n",
       "      <td>0.00</td>\n",
       "      <td>0.0</td>\n",
       "      <td>0.0</td>\n",
       "      <td>75.0</td>\n",
       "      <td>9.62</td>\n",
       "    </tr>\n",
       "    <tr>\n",
       "      <th>1</th>\n",
       "      <td>1729</td>\n",
       "      <td>0</td>\n",
       "      <td>1345</td>\n",
       "      <td>471</td>\n",
       "      <td>0.00</td>\n",
       "      <td>0.0</td>\n",
       "      <td>0.0</td>\n",
       "      <td>63.0</td>\n",
       "      <td>1.12</td>\n",
       "    </tr>\n",
       "    <tr>\n",
       "      <th>2</th>\n",
       "      <td>1729</td>\n",
       "      <td>0</td>\n",
       "      <td>1345</td>\n",
       "      <td>471</td>\n",
       "      <td>0.00</td>\n",
       "      <td>0.0</td>\n",
       "      <td>0.0</td>\n",
       "      <td>46.0</td>\n",
       "      <td>5.14</td>\n",
       "    </tr>\n",
       "    <tr>\n",
       "      <th>3</th>\n",
       "      <td>2126</td>\n",
       "      <td>264</td>\n",
       "      <td>3592</td>\n",
       "      <td>395</td>\n",
       "      <td>0.11</td>\n",
       "      <td>0.0</td>\n",
       "      <td>0.0</td>\n",
       "      <td>52.0</td>\n",
       "      <td>3.58</td>\n",
       "    </tr>\n",
       "    <tr>\n",
       "      <th>4</th>\n",
       "      <td>9293</td>\n",
       "      <td>15331</td>\n",
       "      <td>15809</td>\n",
       "      <td>6122</td>\n",
       "      <td>0.03</td>\n",
       "      <td>0.0</td>\n",
       "      <td>0.0</td>\n",
       "      <td>52.0</td>\n",
       "      <td>3.80</td>\n",
       "    </tr>\n",
       "  </tbody>\n",
       "</table>\n",
       "</div>"
      ],
      "text/plain": [
       "   PILOTS_COPILOTS  PASSENGER_HANDLING  PASS_GEN_SVC_ADMIN  MAINTENANCE  PRCP  SNOW  SNWD  TMAX  AWND\n",
       "0             8989                9668               15475         2482  0.00   0.0   0.0  75.0  9.62\n",
       "1             1729                   0                1345          471  0.00   0.0   0.0  63.0  1.12\n",
       "2             1729                   0                1345          471  0.00   0.0   0.0  46.0  5.14\n",
       "3             2126                 264                3592          395  0.11   0.0   0.0  52.0  3.58\n",
       "4             9293               15331               15809         6122  0.03   0.0   0.0  52.0  3.80"
      ]
     },
     "execution_count": 28,
     "metadata": {},
     "output_type": "execute_result"
    }
   ],
   "source": [
    "from sklearn.preprocessing import MinMaxScaler\n",
    "\n",
    "num_cols = ['PILOTS_COPILOTS', 'PASSENGER_HANDLING', 'PASS_GEN_SVC_ADMIN', 'MAINTENANCE', 'PRCP', 'SNOW', 'SNWD', 'TMAX', 'AWND']\n",
    "X[num_cols].head()\n"
   ]
  },
  {
   "cell_type": "code",
   "execution_count": 29,
   "metadata": {},
   "outputs": [
    {
     "data": {
      "text/html": [
       "<div>\n",
       "<style scoped>\n",
       "    .dataframe tbody tr th:only-of-type {\n",
       "        vertical-align: middle;\n",
       "    }\n",
       "\n",
       "    .dataframe tbody tr th {\n",
       "        vertical-align: top;\n",
       "    }\n",
       "\n",
       "    .dataframe thead th {\n",
       "        text-align: right;\n",
       "    }\n",
       "</style>\n",
       "<table border=\"1\" class=\"dataframe\">\n",
       "  <thead>\n",
       "    <tr style=\"text-align: right;\">\n",
       "      <th></th>\n",
       "      <th>DAY_OF_MONTH</th>\n",
       "      <th>DAY_OF_WEEK</th>\n",
       "      <th>OP_UNIQUE_CARRIER</th>\n",
       "      <th>ORIGIN</th>\n",
       "      <th>DEST</th>\n",
       "      <th>DEP_TIME_BLK</th>\n",
       "      <th>CRS_ELAPSED_TIME</th>\n",
       "      <th>DISTANCE_GROUP</th>\n",
       "      <th>CARRIER_NAME</th>\n",
       "      <th>PILOTS_COPILOTS</th>\n",
       "      <th>PASSENGER_HANDLING</th>\n",
       "      <th>PASS_GEN_SVC_ADMIN</th>\n",
       "      <th>MAINTENANCE</th>\n",
       "      <th>PRCP</th>\n",
       "      <th>SNOW</th>\n",
       "      <th>SNWD</th>\n",
       "      <th>TMAX</th>\n",
       "      <th>AWND</th>\n",
       "    </tr>\n",
       "  </thead>\n",
       "  <tbody>\n",
       "    <tr>\n",
       "      <th>0</th>\n",
       "      <td>1</td>\n",
       "      <td>5</td>\n",
       "      <td>WN</td>\n",
       "      <td>HOU</td>\n",
       "      <td>DAL</td>\n",
       "      <td>1</td>\n",
       "      <td>1</td>\n",
       "      <td>1</td>\n",
       "      <td>Southwest Airlines Co.</td>\n",
       "      <td>0.965086</td>\n",
       "      <td>0.572477</td>\n",
       "      <td>0.978665</td>\n",
       "      <td>0.253863</td>\n",
       "      <td>0.000000</td>\n",
       "      <td>0.0</td>\n",
       "      <td>0.0</td>\n",
       "      <td>0.848101</td>\n",
       "      <td>0.374028</td>\n",
       "    </tr>\n",
       "    <tr>\n",
       "      <th>1</th>\n",
       "      <td>4</td>\n",
       "      <td>4</td>\n",
       "      <td>OH</td>\n",
       "      <td>CLT</td>\n",
       "      <td>AVL</td>\n",
       "      <td>1</td>\n",
       "      <td>1</td>\n",
       "      <td>1</td>\n",
       "      <td>Comair Inc.</td>\n",
       "      <td>0.131274</td>\n",
       "      <td>0.000000</td>\n",
       "      <td>0.076078</td>\n",
       "      <td>0.045318</td>\n",
       "      <td>0.000000</td>\n",
       "      <td>0.0</td>\n",
       "      <td>0.0</td>\n",
       "      <td>0.696203</td>\n",
       "      <td>0.043546</td>\n",
       "    </tr>\n",
       "    <tr>\n",
       "      <th>2</th>\n",
       "      <td>3</td>\n",
       "      <td>6</td>\n",
       "      <td>OH</td>\n",
       "      <td>ORF</td>\n",
       "      <td>PHL</td>\n",
       "      <td>2</td>\n",
       "      <td>1</td>\n",
       "      <td>1</td>\n",
       "      <td>Comair Inc.</td>\n",
       "      <td>0.131274</td>\n",
       "      <td>0.000000</td>\n",
       "      <td>0.076078</td>\n",
       "      <td>0.045318</td>\n",
       "      <td>0.000000</td>\n",
       "      <td>0.0</td>\n",
       "      <td>0.0</td>\n",
       "      <td>0.481013</td>\n",
       "      <td>0.199844</td>\n",
       "    </tr>\n",
       "    <tr>\n",
       "      <th>3</th>\n",
       "      <td>2</td>\n",
       "      <td>7</td>\n",
       "      <td>NK</td>\n",
       "      <td>RDU</td>\n",
       "      <td>MCO</td>\n",
       "      <td>1</td>\n",
       "      <td>1</td>\n",
       "      <td>3</td>\n",
       "      <td>Spirit Air Lines</td>\n",
       "      <td>0.176869</td>\n",
       "      <td>0.015632</td>\n",
       "      <td>0.219610</td>\n",
       "      <td>0.037436</td>\n",
       "      <td>0.015428</td>\n",
       "      <td>0.0</td>\n",
       "      <td>0.0</td>\n",
       "      <td>0.556962</td>\n",
       "      <td>0.139191</td>\n",
       "    </tr>\n",
       "    <tr>\n",
       "      <th>4</th>\n",
       "      <td>2</td>\n",
       "      <td>7</td>\n",
       "      <td>DL</td>\n",
       "      <td>SEA</td>\n",
       "      <td>MSP</td>\n",
       "      <td>1</td>\n",
       "      <td>2</td>\n",
       "      <td>6</td>\n",
       "      <td>Delta Air Lines Inc.</td>\n",
       "      <td>1.000000</td>\n",
       "      <td>0.907804</td>\n",
       "      <td>1.000000</td>\n",
       "      <td>0.631339</td>\n",
       "      <td>0.004208</td>\n",
       "      <td>0.0</td>\n",
       "      <td>0.0</td>\n",
       "      <td>0.556962</td>\n",
       "      <td>0.147745</td>\n",
       "    </tr>\n",
       "  </tbody>\n",
       "</table>\n",
       "</div>"
      ],
      "text/plain": [
       "   DAY_OF_MONTH  DAY_OF_WEEK OP_UNIQUE_CARRIER ORIGIN DEST  DEP_TIME_BLK  CRS_ELAPSED_TIME  DISTANCE_GROUP            CARRIER_NAME  PILOTS_COPILOTS  PASSENGER_HANDLING  PASS_GEN_SVC_ADMIN  MAINTENANCE      PRCP  SNOW  SNWD      TMAX      AWND\n",
       "0             1            5                WN    HOU  DAL             1                 1               1  Southwest Airlines Co.         0.965086            0.572477            0.978665     0.253863  0.000000   0.0   0.0  0.848101  0.374028\n",
       "1             4            4                OH    CLT  AVL             1                 1               1             Comair Inc.         0.131274            0.000000            0.076078     0.045318  0.000000   0.0   0.0  0.696203  0.043546\n",
       "2             3            6                OH    ORF  PHL             2                 1               1             Comair Inc.         0.131274            0.000000            0.076078     0.045318  0.000000   0.0   0.0  0.481013  0.199844\n",
       "3             2            7                NK    RDU  MCO             1                 1               3        Spirit Air Lines         0.176869            0.015632            0.219610     0.037436  0.015428   0.0   0.0  0.556962  0.139191\n",
       "4             2            7                DL    SEA  MSP             1                 2               6    Delta Air Lines Inc.         1.000000            0.907804            1.000000     0.631339  0.004208   0.0   0.0  0.556962  0.147745"
      ]
     },
     "execution_count": 29,
     "metadata": {},
     "output_type": "execute_result"
    }
   ],
   "source": [
    "scaler = MinMaxScaler()\n",
    "X[num_cols] = scaler.fit_transform(X[num_cols])\n",
    "X[num.head()"
   ]
  },
  {
   "cell_type": "markdown",
   "metadata": {},
   "source": [
    "-----\n",
    "\n",
    "# Final Data for Training "
   ]
  },
  {
   "cell_type": "code",
   "execution_count": null,
   "metadata": {},
   "outputs": [],
   "source": [
    "X.head()"
   ]
  },
  {
   "cell_type": "markdown",
   "metadata": {},
   "source": [
    "# Save Transformed Data into Local Private Bucket "
   ]
  },
  {
   "cell_type": "code",
   "execution_count": 30,
   "metadata": {},
   "outputs": [
    {
     "data": {
      "text/plain": [
       "(232584, 18)"
      ]
     },
     "execution_count": 30,
     "metadata": {},
     "output_type": "execute_result"
    }
   ],
   "source": [
    "X.shape"
   ]
  },
  {
   "cell_type": "code",
   "execution_count": 31,
   "metadata": {},
   "outputs": [
    {
     "name": "stdout",
     "output_type": "stream",
     "text": [
      "upload: ../src/data/transformed_data/pretraining_data_X.csv to s3://sagemaker-us-east-1-229768475194/ads508/data/merged/pretraining_X/pretraining_data_X.csv\n",
      "2022-03-27 03:18:58   39130451 pretraining_data_X.csv\n"
     ]
    }
   ],
   "source": [
    "# independent variable\n",
    "file_path = Path('../src/data/transformed_data/pretraining_data_X.csv')\n",
    "\n",
    "if file_path.is_file():\n",
    "    None\n",
    "else:\n",
    "    X.to_csv('../src/data/transformed_data/pretraining_data_X.csv', index=False)\n",
    "\n",
    "s3_private_path_csv = \"s3://{}/ads508/data/merged/pretraining_X\".format(bucket)\n",
    "\n",
    "\n",
    "!aws s3 cp $file_path $s3_private_path_csv/\n",
    "!aws s3 ls $s3_private_path_csv/"
   ]
  },
  {
   "cell_type": "code",
   "execution_count": 32,
   "metadata": {},
   "outputs": [
    {
     "data": {
      "text/plain": [
       "(232584,)"
      ]
     },
     "execution_count": 32,
     "metadata": {},
     "output_type": "execute_result"
    }
   ],
   "source": [
    "y.shape"
   ]
  },
  {
   "cell_type": "code",
   "execution_count": 33,
   "metadata": {},
   "outputs": [
    {
     "name": "stdout",
     "output_type": "stream",
     "text": [
      "upload: ../src/data/transformed_data/pretraining_data_y.csv to s3://sagemaker-us-east-1-229768475194/ads508/data/merged/pretraining_y/pretraining_data_y.csv\n",
      "2022-03-27 03:19:00     930346 pretraining_data_y.csv\n"
     ]
    }
   ],
   "source": [
    "# Target variable\n",
    "file_path = Path('../src/data/transformed_data/pretraining_data_y.csv')\n",
    "\n",
    "if file_path.is_file():\n",
    "    None\n",
    "else:\n",
    "    y.to_csv('../src/data/transformed_data/pretraining_data_y.csv', index=False)\n",
    "\n",
    "s3_private_path_csv = \"s3://{}/ads508/data/merged/pretraining_y\".format(bucket)\n",
    "\n",
    "\n",
    "!aws s3 cp $file_path $s3_private_path_csv/\n",
    "!aws s3 ls $s3_private_path_csv/"
   ]
  },
  {
   "cell_type": "markdown",
   "metadata": {},
   "source": [
    "# Store Variables for the Next Notebooks"
   ]
  },
  {
   "cell_type": "code",
   "execution_count": 34,
   "metadata": {},
   "outputs": [
    {
     "name": "stdout",
     "output_type": "stream",
     "text": [
      "Stored variables and their in-db values:\n",
      "auto_ml_job_name                                      -> 'automl-dm-10-22-14-04'\n",
      "autopilot_endpoint_arn                                -> 'arn:aws:sagemaker:us-east-1:229768475194:endpoint\n",
      "autopilot_endpoint_name                               -> 'automl-dm-ep-10-22-58-33'\n",
      "autopilot_model_arn                                   -> 'arn:aws:sagemaker:us-east-1:229768475194:model/au\n",
      "autopilot_model_name                                  -> 'automl-dm-model-10-22-58-32'\n",
      "autopilot_train_s3_uri                                -> 's3://sagemaker-us-east-1-229768475194/data/amazon\n",
      "balanced_bias_data_jsonlines_s3_uri                   -> 's3://sagemaker-us-east-1-229768475194/bias-detect\n",
      "balanced_bias_data_s3_uri                             -> 's3://sagemaker-us-east-1-229768475194/bias-detect\n",
      "bias_data_s3_uri                                      -> 's3://sagemaker-us-east-1-229768475194/bias-detect\n",
      "comprehend_train_s3_uri                               -> 's3://sagemaker-us-east-1-229768475194/data/amazon\n",
      "ingest_create_athena_db_passed                        -> True\n",
      "ingest_create_athena_table_parquet_passed             -> True\n",
      "ingest_create_athena_table_tsv_passed                 -> True\n",
      "s3_private_path_csv                                   -> 's3://sagemaker-us-east-1-229768475194/ads508/data\n",
      "s3_private_path_tsv                                   -> 's3://sagemaker-us-east-1-229768475194/ads508/data\n",
      "s3_public_path_csv                                    -> 's3://ads-508-airline/transformed'\n",
      "s3_public_path_tsv                                    -> 's3://amazon-reviews-pds/tsv'\n",
      "setup_dependencies_passed                             -> True\n",
      "setup_iam_roles_passed                                -> True\n",
      "setup_s3_bucket_passed                                -> False\n"
     ]
    }
   ],
   "source": [
    "%store"
   ]
  },
  {
   "cell_type": "markdown",
   "metadata": {},
   "source": [
    "# Release Resources"
   ]
  },
  {
   "cell_type": "code",
   "execution_count": 35,
   "metadata": {},
   "outputs": [
    {
     "data": {
      "text/html": [
       "\n",
       "<p><b>Shutting down your kernel for this notebook to release resources.</b></p>\n",
       "<button class=\"sm-command-button\" data-commandlinker-command=\"kernelmenu:shutdown\" style=\"display:none;\">Shutdown Kernel</button>\n",
       "        \n",
       "<script>\n",
       "try {\n",
       "    els = document.getElementsByClassName(\"sm-command-button\");\n",
       "    els[0].click();\n",
       "}\n",
       "catch(err) {\n",
       "    // NoOp\n",
       "}    \n",
       "</script>\n"
      ],
      "text/plain": [
       "<IPython.core.display.HTML object>"
      ]
     },
     "metadata": {},
     "output_type": "display_data"
    }
   ],
   "source": [
    "%%html\n",
    "\n",
    "<p><b>Shutting down your kernel for this notebook to release resources.</b></p>\n",
    "<button class=\"sm-command-button\" data-commandlinker-command=\"kernelmenu:shutdown\" style=\"display:none;\">Shutdown Kernel</button>\n",
    "        \n",
    "<script>\n",
    "try {\n",
    "    els = document.getElementsByClassName(\"sm-command-button\");\n",
    "    els[0].click();\n",
    "}\n",
    "catch(err) {\n",
    "    // NoOp\n",
    "}    \n",
    "</script>"
   ]
  },
  {
   "cell_type": "code",
   "execution_count": 36,
   "metadata": {},
   "outputs": [
    {
     "data": {
      "application/javascript": [
       "\n",
       "try {\n",
       "    Jupyter.notebook.save_checkpoint();\n",
       "    Jupyter.notebook.session.delete();\n",
       "}\n",
       "catch(err) {\n",
       "    // NoOp\n",
       "}\n"
      ],
      "text/plain": [
       "<IPython.core.display.Javascript object>"
      ]
     },
     "metadata": {},
     "output_type": "display_data"
    }
   ],
   "source": [
    "%%javascript\n",
    "\n",
    "try {\n",
    "    Jupyter.notebook.save_checkpoint();\n",
    "    Jupyter.notebook.session.delete();\n",
    "}\n",
    "catch(err) {\n",
    "    // NoOp\n",
    "}"
   ]
  }
 ],
 "metadata": {
  "kernelspec": {
   "display_name": "Python 3 (Data Science)",
   "language": "python",
   "name": "python3__SAGEMAKER_INTERNAL__arn:aws:sagemaker:us-east-1:081325390199:image/datascience-1.0"
  },
  "language_info": {
   "codemirror_mode": {
    "name": "ipython",
    "version": 3
   },
   "file_extension": ".py",
   "mimetype": "text/x-python",
   "name": "python",
   "nbconvert_exporter": "python",
   "pygments_lexer": "ipython3",
   "version": "3.7.10"
  }
 },
 "nbformat": 4,
 "nbformat_minor": 4
}
