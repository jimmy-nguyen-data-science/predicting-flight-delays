{
 "cells": [
  {
   "cell_type": "code",
   "execution_count": 25,
   "id": "78be721b",
   "metadata": {},
   "outputs": [],
   "source": [
    "import pandas as pd\n",
    "import numpy as np\n",
    "import matplotlib.pyplot as plt\n",
    "import seaborn as sns\n",
    "from sklearn.model_selection import train_test_split\n",
    "import random\n",
    "import statsmodels.api as sm\n",
    "from scipy import stats\n",
    "from sklearn.linear_model import LogisticRegression\n",
    "from sklearn.metrics import classification_report, confusion_matrix"
   ]
  },
  {
   "cell_type": "code",
   "execution_count": 3,
   "id": "89297b9a",
   "metadata": {},
   "outputs": [],
   "source": [
    "# Load the data\n",
    "Dec_modeling = pd.read_csv('C:\\\\maha\\\\508\\\\Dec_Modeling.csv') "
   ]
  },
  {
   "cell_type": "code",
   "execution_count": 4,
   "id": "e2229497",
   "metadata": {},
   "outputs": [
    {
     "data": {
      "text/plain": [
       "(558026, 25)"
      ]
     },
     "execution_count": 4,
     "metadata": {},
     "output_type": "execute_result"
    }
   ],
   "source": [
    "Dec_modeling.shape"
   ]
  },
  {
   "cell_type": "code",
   "execution_count": 27,
   "id": "0152d415",
   "metadata": {},
   "outputs": [],
   "source": [
    "Dec_train, Dec_test = train_test_split(Dec_modeling, test_size = 0.25, random_state = 7)"
   ]
  },
  {
   "cell_type": "code",
   "execution_count": 28,
   "id": "ff35ce51",
   "metadata": {},
   "outputs": [
    {
     "name": "stdout",
     "output_type": "stream",
     "text": [
      "(558026, 25)\n",
      "(418519, 25)\n"
     ]
    },
    {
     "data": {
      "text/plain": [
       "(139507, 25)"
      ]
     },
     "execution_count": 28,
     "metadata": {},
     "output_type": "execute_result"
    }
   ],
   "source": [
    "print(Dec_modeling.shape)\n",
    "print(Dec_train.shape)\n",
    "Dec_test.shape"
   ]
  },
  {
   "cell_type": "code",
   "execution_count": 10,
   "id": "a977798e",
   "metadata": {},
   "outputs": [
    {
     "data": {
      "text/plain": [
       "0.0    331253\n",
       "1.0     87266\n",
       "Name: DEP_DEL15, dtype: int64"
      ]
     },
     "execution_count": 10,
     "metadata": {},
     "output_type": "execute_result"
    }
   ],
   "source": [
    "Dec_train['DEP_DEL15'].value_counts()"
   ]
  },
  {
   "cell_type": "code",
   "execution_count": 11,
   "id": "40568eca",
   "metadata": {},
   "outputs": [
    {
     "data": {
      "text/plain": [
       "DAY_OF_MONTH            int64\n",
       "DAY_OF_WEEK             int64\n",
       "OP_UNIQUE_CARRIER      object\n",
       "TAIL_NUM               object\n",
       "ORIGIN_AIRPORT_ID       int64\n",
       "ORIGIN                 object\n",
       "DEST                   object\n",
       "DEP_DEL15             float64\n",
       "DEP_TIME_BLK           object\n",
       "ARR_TIME_BLK           object\n",
       "CANCELLED             float64\n",
       "CRS_ELAPSED_TIME      float64\n",
       "DISTANCE              float64\n",
       "DISTANCE_GROUP          int64\n",
       "AIRLINE_ID              int64\n",
       "CARRIER_NAME           object\n",
       "PILOTS_COPILOTS         int64\n",
       "PASSENGER_HANDLING      int64\n",
       "PASS_GEN_SVC_ADMIN      int64\n",
       "MAINTENANCE             int64\n",
       "PRCP                  float64\n",
       "SNOW                  float64\n",
       "SNWD                  float64\n",
       "TMAX                  float64\n",
       "AWND                  float64\n",
       "dtype: object"
      ]
     },
     "execution_count": 11,
     "metadata": {},
     "output_type": "execute_result"
    }
   ],
   "source": [
    "Dec_modeling.dtypes"
   ]
  },
  {
   "cell_type": "code",
   "execution_count": 12,
   "id": "0cd50258",
   "metadata": {},
   "outputs": [
    {
     "data": {
      "text/plain": [
       "0800-0859    37771\n",
       "0600-0659    37750\n",
       "0700-0759    36579\n",
       "1700-1759    35506\n",
       "1200-1259    34040\n",
       "1100-1159    34007\n",
       "0900-0959    33849\n",
       "1000-1059    33836\n",
       "1500-1559    32647\n",
       "1400-1459    32413\n",
       "1600-1659    32155\n",
       "1800-1859    31536\n",
       "1300-1359    30632\n",
       "1900-1959    30388\n",
       "2000-2059    28981\n",
       "2100-2159    19209\n",
       "2200-2259    17105\n",
       "0001-0559    14903\n",
       "2300-2359     4719\n",
       "Name: DEP_TIME_BLK, dtype: int64"
      ]
     },
     "execution_count": 12,
     "metadata": {},
     "output_type": "execute_result"
    }
   ],
   "source": [
    "Dec_modeling['DEP_TIME_BLK'].value_counts()"
   ]
  },
  {
   "cell_type": "code",
   "execution_count": null,
   "id": "8037ecbe",
   "metadata": {},
   "outputs": [],
   "source": [
    "#cleanup_nums = {\"num_doors\":     {\"four\": 4, \"two\": 2},\n",
    "#                \"num_cylinders\": {\"four\": 4, \"six\": 6, \"five\": 5, \"eight\": 8,\n",
    "#                                  \"two\": 2, \"twelve\": 12, \"three\":3 }}"
   ]
  },
  {
   "cell_type": "code",
   "execution_count": 14,
   "id": "209ca81c",
   "metadata": {},
   "outputs": [],
   "source": [
    "num_values = {\"DEP_TIME_BLK\": {\"0001-0559\":1, \"0600-0659\":6, \"0700-0759\":7, \"0800-0859\":8, \"0900-0959\":9, \"1000-1059\":10,\n",
    "                              \"1100-1159\":11, \"1200-1259\":12, \"1300-1359\":13, \"1400-1459\":14, \"1500-1559\":15,\"1600-1659\":16,\n",
    "                               \"1700-1759\":17,\"1800-1859\":18, \"1900-1959\":19, \"2000-2059\":20, \"2100-2159\":21, \"2200-2259\":22,\n",
    "                              \"2300-2359\":23}}"
   ]
  },
  {
   "cell_type": "code",
   "execution_count": 15,
   "id": "fdcbc655",
   "metadata": {},
   "outputs": [
    {
     "data": {
      "text/html": [
       "<div>\n",
       "<style scoped>\n",
       "    .dataframe tbody tr th:only-of-type {\n",
       "        vertical-align: middle;\n",
       "    }\n",
       "\n",
       "    .dataframe tbody tr th {\n",
       "        vertical-align: top;\n",
       "    }\n",
       "\n",
       "    .dataframe thead th {\n",
       "        text-align: right;\n",
       "    }\n",
       "</style>\n",
       "<table border=\"1\" class=\"dataframe\">\n",
       "  <thead>\n",
       "    <tr style=\"text-align: right;\">\n",
       "      <th></th>\n",
       "      <th>DAY_OF_MONTH</th>\n",
       "      <th>DAY_OF_WEEK</th>\n",
       "      <th>OP_UNIQUE_CARRIER</th>\n",
       "      <th>TAIL_NUM</th>\n",
       "      <th>ORIGIN_AIRPORT_ID</th>\n",
       "      <th>ORIGIN</th>\n",
       "      <th>DEST</th>\n",
       "      <th>DEP_DEL15</th>\n",
       "      <th>DEP_TIME_BLK</th>\n",
       "      <th>ARR_TIME_BLK</th>\n",
       "      <th>...</th>\n",
       "      <th>CARRIER_NAME</th>\n",
       "      <th>PILOTS_COPILOTS</th>\n",
       "      <th>PASSENGER_HANDLING</th>\n",
       "      <th>PASS_GEN_SVC_ADMIN</th>\n",
       "      <th>MAINTENANCE</th>\n",
       "      <th>PRCP</th>\n",
       "      <th>SNOW</th>\n",
       "      <th>SNWD</th>\n",
       "      <th>TMAX</th>\n",
       "      <th>AWND</th>\n",
       "    </tr>\n",
       "  </thead>\n",
       "  <tbody>\n",
       "    <tr>\n",
       "      <th>0</th>\n",
       "      <td>8</td>\n",
       "      <td>7</td>\n",
       "      <td>WN</td>\n",
       "      <td>N8651A</td>\n",
       "      <td>15016</td>\n",
       "      <td>STL</td>\n",
       "      <td>SAN</td>\n",
       "      <td>0.0</td>\n",
       "      <td>11</td>\n",
       "      <td>1300-1359</td>\n",
       "      <td>...</td>\n",
       "      <td>Southwest Airlines Co.</td>\n",
       "      <td>8989</td>\n",
       "      <td>9668</td>\n",
       "      <td>15475</td>\n",
       "      <td>2482</td>\n",
       "      <td>0.02</td>\n",
       "      <td>0.0</td>\n",
       "      <td>0.0</td>\n",
       "      <td>58.0</td>\n",
       "      <td>9.84</td>\n",
       "    </tr>\n",
       "    <tr>\n",
       "      <th>1</th>\n",
       "      <td>8</td>\n",
       "      <td>7</td>\n",
       "      <td>WN</td>\n",
       "      <td>N939WN</td>\n",
       "      <td>15016</td>\n",
       "      <td>STL</td>\n",
       "      <td>SAT</td>\n",
       "      <td>0.0</td>\n",
       "      <td>12</td>\n",
       "      <td>1400-1459</td>\n",
       "      <td>...</td>\n",
       "      <td>Southwest Airlines Co.</td>\n",
       "      <td>8989</td>\n",
       "      <td>9668</td>\n",
       "      <td>15475</td>\n",
       "      <td>2482</td>\n",
       "      <td>0.02</td>\n",
       "      <td>0.0</td>\n",
       "      <td>0.0</td>\n",
       "      <td>58.0</td>\n",
       "      <td>9.84</td>\n",
       "    </tr>\n",
       "    <tr>\n",
       "      <th>2</th>\n",
       "      <td>8</td>\n",
       "      <td>7</td>\n",
       "      <td>WN</td>\n",
       "      <td>N7741C</td>\n",
       "      <td>15016</td>\n",
       "      <td>STL</td>\n",
       "      <td>SAT</td>\n",
       "      <td>0.0</td>\n",
       "      <td>21</td>\n",
       "      <td>0001-0559</td>\n",
       "      <td>...</td>\n",
       "      <td>Southwest Airlines Co.</td>\n",
       "      <td>8989</td>\n",
       "      <td>9668</td>\n",
       "      <td>15475</td>\n",
       "      <td>2482</td>\n",
       "      <td>0.02</td>\n",
       "      <td>0.0</td>\n",
       "      <td>0.0</td>\n",
       "      <td>58.0</td>\n",
       "      <td>9.84</td>\n",
       "    </tr>\n",
       "    <tr>\n",
       "      <th>3</th>\n",
       "      <td>8</td>\n",
       "      <td>7</td>\n",
       "      <td>WN</td>\n",
       "      <td>N550WN</td>\n",
       "      <td>15016</td>\n",
       "      <td>STL</td>\n",
       "      <td>SEA</td>\n",
       "      <td>0.0</td>\n",
       "      <td>9</td>\n",
       "      <td>1200-1259</td>\n",
       "      <td>...</td>\n",
       "      <td>Southwest Airlines Co.</td>\n",
       "      <td>8989</td>\n",
       "      <td>9668</td>\n",
       "      <td>15475</td>\n",
       "      <td>2482</td>\n",
       "      <td>0.02</td>\n",
       "      <td>0.0</td>\n",
       "      <td>0.0</td>\n",
       "      <td>58.0</td>\n",
       "      <td>9.84</td>\n",
       "    </tr>\n",
       "    <tr>\n",
       "      <th>4</th>\n",
       "      <td>8</td>\n",
       "      <td>7</td>\n",
       "      <td>WN</td>\n",
       "      <td>N8319F</td>\n",
       "      <td>15016</td>\n",
       "      <td>STL</td>\n",
       "      <td>SFO</td>\n",
       "      <td>1.0</td>\n",
       "      <td>18</td>\n",
       "      <td>2000-2059</td>\n",
       "      <td>...</td>\n",
       "      <td>Southwest Airlines Co.</td>\n",
       "      <td>8989</td>\n",
       "      <td>9668</td>\n",
       "      <td>15475</td>\n",
       "      <td>2482</td>\n",
       "      <td>0.02</td>\n",
       "      <td>0.0</td>\n",
       "      <td>0.0</td>\n",
       "      <td>58.0</td>\n",
       "      <td>9.84</td>\n",
       "    </tr>\n",
       "  </tbody>\n",
       "</table>\n",
       "<p>5 rows × 25 columns</p>\n",
       "</div>"
      ],
      "text/plain": [
       "   DAY_OF_MONTH  DAY_OF_WEEK OP_UNIQUE_CARRIER TAIL_NUM  ORIGIN_AIRPORT_ID  \\\n",
       "0             8            7                WN   N8651A              15016   \n",
       "1             8            7                WN   N939WN              15016   \n",
       "2             8            7                WN   N7741C              15016   \n",
       "3             8            7                WN   N550WN              15016   \n",
       "4             8            7                WN   N8319F              15016   \n",
       "\n",
       "  ORIGIN DEST  DEP_DEL15  DEP_TIME_BLK ARR_TIME_BLK  ...  \\\n",
       "0    STL  SAN        0.0            11    1300-1359  ...   \n",
       "1    STL  SAT        0.0            12    1400-1459  ...   \n",
       "2    STL  SAT        0.0            21    0001-0559  ...   \n",
       "3    STL  SEA        0.0             9    1200-1259  ...   \n",
       "4    STL  SFO        1.0            18    2000-2059  ...   \n",
       "\n",
       "             CARRIER_NAME  PILOTS_COPILOTS  PASSENGER_HANDLING  \\\n",
       "0  Southwest Airlines Co.             8989                9668   \n",
       "1  Southwest Airlines Co.             8989                9668   \n",
       "2  Southwest Airlines Co.             8989                9668   \n",
       "3  Southwest Airlines Co.             8989                9668   \n",
       "4  Southwest Airlines Co.             8989                9668   \n",
       "\n",
       "   PASS_GEN_SVC_ADMIN  MAINTENANCE  PRCP  SNOW  SNWD  TMAX  AWND  \n",
       "0               15475         2482  0.02   0.0   0.0  58.0  9.84  \n",
       "1               15475         2482  0.02   0.0   0.0  58.0  9.84  \n",
       "2               15475         2482  0.02   0.0   0.0  58.0  9.84  \n",
       "3               15475         2482  0.02   0.0   0.0  58.0  9.84  \n",
       "4               15475         2482  0.02   0.0   0.0  58.0  9.84  \n",
       "\n",
       "[5 rows x 25 columns]"
      ]
     },
     "execution_count": 15,
     "metadata": {},
     "output_type": "execute_result"
    }
   ],
   "source": [
    "Dec_modeling = Dec_modeling.replace(num_values)\n",
    "Dec_modeling.head()"
   ]
  },
  {
   "cell_type": "code",
   "execution_count": 16,
   "id": "de64f651",
   "metadata": {},
   "outputs": [
    {
     "data": {
      "text/plain": [
       "8     37771\n",
       "6     37750\n",
       "7     36579\n",
       "17    35506\n",
       "12    34040\n",
       "11    34007\n",
       "9     33849\n",
       "10    33836\n",
       "15    32647\n",
       "14    32413\n",
       "16    32155\n",
       "18    31536\n",
       "13    30632\n",
       "19    30388\n",
       "20    28981\n",
       "21    19209\n",
       "22    17105\n",
       "1     14903\n",
       "23     4719\n",
       "Name: DEP_TIME_BLK, dtype: int64"
      ]
     },
     "execution_count": 16,
     "metadata": {},
     "output_type": "execute_result"
    }
   ],
   "source": [
    "Dec_modeling['DEP_TIME_BLK'].value_counts()"
   ]
  },
  {
   "cell_type": "code",
   "execution_count": 17,
   "id": "10b8ccde",
   "metadata": {},
   "outputs": [
    {
     "data": {
      "text/plain": [
       "DAY_OF_MONTH            int64\n",
       "DAY_OF_WEEK             int64\n",
       "OP_UNIQUE_CARRIER      object\n",
       "TAIL_NUM               object\n",
       "ORIGIN_AIRPORT_ID       int64\n",
       "ORIGIN                 object\n",
       "DEST                   object\n",
       "DEP_DEL15             float64\n",
       "DEP_TIME_BLK            int64\n",
       "ARR_TIME_BLK           object\n",
       "CANCELLED             float64\n",
       "CRS_ELAPSED_TIME      float64\n",
       "DISTANCE              float64\n",
       "DISTANCE_GROUP          int64\n",
       "AIRLINE_ID              int64\n",
       "CARRIER_NAME           object\n",
       "PILOTS_COPILOTS         int64\n",
       "PASSENGER_HANDLING      int64\n",
       "PASS_GEN_SVC_ADMIN      int64\n",
       "MAINTENANCE             int64\n",
       "PRCP                  float64\n",
       "SNOW                  float64\n",
       "SNWD                  float64\n",
       "TMAX                  float64\n",
       "AWND                  float64\n",
       "dtype: object"
      ]
     },
     "execution_count": 17,
     "metadata": {},
     "output_type": "execute_result"
    }
   ],
   "source": [
    "Dec_modeling.dtypes"
   ]
  },
  {
   "cell_type": "code",
   "execution_count": 29,
   "id": "51001814",
   "metadata": {},
   "outputs": [],
   "source": [
    "#predictor = Dec_train[['DAY_OF_WEEK', 'DEP_TIME_BLK', 'DISTANCE_GROUP', 'ORIGIN_AIRPORT_ID', 'PRCP','SNOW','SNWD']]\n",
    "X = pd.DataFrame(Dec_train[['DAY_OF_WEEK', 'DEP_TIME_BLK', 'DISTANCE_GROUP', 'ORIGIN_AIRPORT_ID', 'PRCP','SNOW','SNWD']])\n",
    "X = sm.add_constant(X)\n",
    "y = pd.DataFrame(Dec_train[['DEP_DEL15']])"
   ]
  },
  {
   "cell_type": "code",
   "execution_count": 30,
   "id": "80d98282",
   "metadata": {},
   "outputs": [
    {
     "name": "stdout",
     "output_type": "stream",
     "text": [
      "Optimization terminated successfully.\n",
      "         Current function value: 0.492569\n",
      "         Iterations 6\n"
     ]
    },
    {
     "data": {
      "text/html": [
       "<table class=\"simpletable\">\n",
       "<caption>Logit Regression Results</caption>\n",
       "<tr>\n",
       "  <th>Dep. Variable:</th>       <td>DEP_DEL15</td>    <th>  No. Observations:  </th>   <td>418519</td>   \n",
       "</tr>\n",
       "<tr>\n",
       "  <th>Model:</th>                 <td>Logit</td>      <th>  Df Residuals:      </th>   <td>418511</td>   \n",
       "</tr>\n",
       "<tr>\n",
       "  <th>Method:</th>                 <td>MLE</td>       <th>  Df Model:          </th>   <td>     7</td>   \n",
       "</tr>\n",
       "<tr>\n",
       "  <th>Date:</th>            <td>Sun, 27 Mar 2022</td> <th>  Pseudo R-squ.:     </th>   <td>0.03791</td>  \n",
       "</tr>\n",
       "<tr>\n",
       "  <th>Time:</th>                <td>18:59:23</td>     <th>  Log-Likelihood:    </th> <td>-2.0615e+05</td>\n",
       "</tr>\n",
       "<tr>\n",
       "  <th>converged:</th>             <td>True</td>       <th>  LL-Null:           </th> <td>-2.1427e+05</td>\n",
       "</tr>\n",
       "<tr>\n",
       "  <th>Covariance Type:</th>     <td>nonrobust</td>    <th>  LLR p-value:       </th>   <td> 0.000</td>   \n",
       "</tr>\n",
       "</table>\n",
       "<table class=\"simpletable\">\n",
       "<tr>\n",
       "          <td></td>             <th>coef</th>     <th>std err</th>      <th>z</th>      <th>P>|z|</th>  <th>[0.025</th>    <th>0.975]</th>  \n",
       "</tr>\n",
       "<tr>\n",
       "  <th>const</th>             <td>   -2.8766</td> <td>    0.036</td> <td>  -79.480</td> <td> 0.000</td> <td>   -2.948</td> <td>   -2.806</td>\n",
       "</tr>\n",
       "<tr>\n",
       "  <th>DAY_OF_WEEK</th>       <td>   -0.0187</td> <td>    0.002</td> <td>  -10.059</td> <td> 0.000</td> <td>   -0.022</td> <td>   -0.015</td>\n",
       "</tr>\n",
       "<tr>\n",
       "  <th>DEP_TIME_BLK</th>      <td>    0.0826</td> <td>    0.001</td> <td>  104.794</td> <td> 0.000</td> <td>    0.081</td> <td>    0.084</td>\n",
       "</tr>\n",
       "<tr>\n",
       "  <th>DISTANCE_GROUP</th>    <td>    0.0202</td> <td>    0.002</td> <td>   12.556</td> <td> 0.000</td> <td>    0.017</td> <td>    0.023</td>\n",
       "</tr>\n",
       "<tr>\n",
       "  <th>ORIGIN_AIRPORT_ID</th> <td> 2.437e-05</td> <td> 2.59e-06</td> <td>    9.421</td> <td> 0.000</td> <td> 1.93e-05</td> <td> 2.94e-05</td>\n",
       "</tr>\n",
       "<tr>\n",
       "  <th>PRCP</th>              <td>    0.5525</td> <td>    0.010</td> <td>   52.707</td> <td> 0.000</td> <td>    0.532</td> <td>    0.573</td>\n",
       "</tr>\n",
       "<tr>\n",
       "  <th>SNOW</th>              <td>    0.3655</td> <td>    0.011</td> <td>   34.610</td> <td> 0.000</td> <td>    0.345</td> <td>    0.386</td>\n",
       "</tr>\n",
       "<tr>\n",
       "  <th>SNWD</th>              <td>    0.0360</td> <td>    0.005</td> <td>    7.723</td> <td> 0.000</td> <td>    0.027</td> <td>    0.045</td>\n",
       "</tr>\n",
       "</table>"
      ],
      "text/plain": [
       "<class 'statsmodels.iolib.summary.Summary'>\n",
       "\"\"\"\n",
       "                           Logit Regression Results                           \n",
       "==============================================================================\n",
       "Dep. Variable:              DEP_DEL15   No. Observations:               418519\n",
       "Model:                          Logit   Df Residuals:                   418511\n",
       "Method:                           MLE   Df Model:                            7\n",
       "Date:                Sun, 27 Mar 2022   Pseudo R-squ.:                 0.03791\n",
       "Time:                        18:59:23   Log-Likelihood:            -2.0615e+05\n",
       "converged:                       True   LL-Null:                   -2.1427e+05\n",
       "Covariance Type:            nonrobust   LLR p-value:                     0.000\n",
       "=====================================================================================\n",
       "                        coef    std err          z      P>|z|      [0.025      0.975]\n",
       "-------------------------------------------------------------------------------------\n",
       "const                -2.8766      0.036    -79.480      0.000      -2.948      -2.806\n",
       "DAY_OF_WEEK          -0.0187      0.002    -10.059      0.000      -0.022      -0.015\n",
       "DEP_TIME_BLK          0.0826      0.001    104.794      0.000       0.081       0.084\n",
       "DISTANCE_GROUP        0.0202      0.002     12.556      0.000       0.017       0.023\n",
       "ORIGIN_AIRPORT_ID  2.437e-05   2.59e-06      9.421      0.000    1.93e-05    2.94e-05\n",
       "PRCP                  0.5525      0.010     52.707      0.000       0.532       0.573\n",
       "SNOW                  0.3655      0.011     34.610      0.000       0.345       0.386\n",
       "SNWD                  0.0360      0.005      7.723      0.000       0.027       0.045\n",
       "=====================================================================================\n",
       "\"\"\""
      ]
     },
     "execution_count": 30,
     "metadata": {},
     "output_type": "execute_result"
    }
   ],
   "source": [
    "logreg01 = sm.Logit(y,X).fit()\n",
    "logreg01.summary()"
   ]
  },
  {
   "cell_type": "code",
   "execution_count": 33,
   "id": "001922c0",
   "metadata": {},
   "outputs": [],
   "source": [
    "X_test = pd.DataFrame(Dec_test[['DAY_OF_WEEK', 'DEP_TIME_BLK', 'DISTANCE_GROUP', 'ORIGIN_AIRPORT_ID', 'PRCP','SNOW','SNWD']])\n",
    "X_test = sm.add_constant(X_test)\n",
    "y_test = pd.DataFrame(Dec_test[['DEP_DEL15']])"
   ]
  },
  {
   "cell_type": "code",
   "execution_count": 34,
   "id": "4c41d04e",
   "metadata": {},
   "outputs": [
    {
     "name": "stdout",
     "output_type": "stream",
     "text": [
      "Optimization terminated successfully.\n",
      "         Current function value: 0.492329\n",
      "         Iterations 6\n"
     ]
    },
    {
     "data": {
      "text/html": [
       "<table class=\"simpletable\">\n",
       "<caption>Logit Regression Results</caption>\n",
       "<tr>\n",
       "  <th>Dep. Variable:</th>       <td>DEP_DEL15</td>    <th>  No. Observations:  </th>  <td>139507</td> \n",
       "</tr>\n",
       "<tr>\n",
       "  <th>Model:</th>                 <td>Logit</td>      <th>  Df Residuals:      </th>  <td>139499</td> \n",
       "</tr>\n",
       "<tr>\n",
       "  <th>Method:</th>                 <td>MLE</td>       <th>  Df Model:          </th>  <td>     7</td> \n",
       "</tr>\n",
       "<tr>\n",
       "  <th>Date:</th>            <td>Sun, 27 Mar 2022</td> <th>  Pseudo R-squ.:     </th>  <td>0.03725</td>\n",
       "</tr>\n",
       "<tr>\n",
       "  <th>Time:</th>                <td>19:05:46</td>     <th>  Log-Likelihood:    </th> <td> -68683.</td>\n",
       "</tr>\n",
       "<tr>\n",
       "  <th>converged:</th>             <td>True</td>       <th>  LL-Null:           </th> <td> -71341.</td>\n",
       "</tr>\n",
       "<tr>\n",
       "  <th>Covariance Type:</th>     <td>nonrobust</td>    <th>  LLR p-value:       </th>  <td> 0.000</td> \n",
       "</tr>\n",
       "</table>\n",
       "<table class=\"simpletable\">\n",
       "<tr>\n",
       "          <td></td>             <th>coef</th>     <th>std err</th>      <th>z</th>      <th>P>|z|</th>  <th>[0.025</th>    <th>0.975]</th>  \n",
       "</tr>\n",
       "<tr>\n",
       "  <th>const</th>             <td>   -2.9224</td> <td>    0.063</td> <td>  -46.550</td> <td> 0.000</td> <td>   -3.045</td> <td>   -2.799</td>\n",
       "</tr>\n",
       "<tr>\n",
       "  <th>DAY_OF_WEEK</th>       <td>   -0.0225</td> <td>    0.003</td> <td>   -6.974</td> <td> 0.000</td> <td>   -0.029</td> <td>   -0.016</td>\n",
       "</tr>\n",
       "<tr>\n",
       "  <th>DEP_TIME_BLK</th>      <td>    0.0805</td> <td>    0.001</td> <td>   59.232</td> <td> 0.000</td> <td>    0.078</td> <td>    0.083</td>\n",
       "</tr>\n",
       "<tr>\n",
       "  <th>DISTANCE_GROUP</th>    <td>    0.0223</td> <td>    0.003</td> <td>    8.042</td> <td> 0.000</td> <td>    0.017</td> <td>    0.028</td>\n",
       "</tr>\n",
       "<tr>\n",
       "  <th>ORIGIN_AIRPORT_ID</th> <td> 3.027e-05</td> <td> 4.48e-06</td> <td>    6.760</td> <td> 0.000</td> <td> 2.15e-05</td> <td>  3.9e-05</td>\n",
       "</tr>\n",
       "<tr>\n",
       "  <th>PRCP</th>              <td>    0.5686</td> <td>    0.018</td> <td>   31.274</td> <td> 0.000</td> <td>    0.533</td> <td>    0.604</td>\n",
       "</tr>\n",
       "<tr>\n",
       "  <th>SNOW</th>              <td>    0.3501</td> <td>    0.019</td> <td>   18.888</td> <td> 0.000</td> <td>    0.314</td> <td>    0.386</td>\n",
       "</tr>\n",
       "<tr>\n",
       "  <th>SNWD</th>              <td>    0.0528</td> <td>    0.008</td> <td>    7.024</td> <td> 0.000</td> <td>    0.038</td> <td>    0.068</td>\n",
       "</tr>\n",
       "</table>"
      ],
      "text/plain": [
       "<class 'statsmodels.iolib.summary.Summary'>\n",
       "\"\"\"\n",
       "                           Logit Regression Results                           \n",
       "==============================================================================\n",
       "Dep. Variable:              DEP_DEL15   No. Observations:               139507\n",
       "Model:                          Logit   Df Residuals:                   139499\n",
       "Method:                           MLE   Df Model:                            7\n",
       "Date:                Sun, 27 Mar 2022   Pseudo R-squ.:                 0.03725\n",
       "Time:                        19:05:46   Log-Likelihood:                -68683.\n",
       "converged:                       True   LL-Null:                       -71341.\n",
       "Covariance Type:            nonrobust   LLR p-value:                     0.000\n",
       "=====================================================================================\n",
       "                        coef    std err          z      P>|z|      [0.025      0.975]\n",
       "-------------------------------------------------------------------------------------\n",
       "const                -2.9224      0.063    -46.550      0.000      -3.045      -2.799\n",
       "DAY_OF_WEEK          -0.0225      0.003     -6.974      0.000      -0.029      -0.016\n",
       "DEP_TIME_BLK          0.0805      0.001     59.232      0.000       0.078       0.083\n",
       "DISTANCE_GROUP        0.0223      0.003      8.042      0.000       0.017       0.028\n",
       "ORIGIN_AIRPORT_ID  3.027e-05   4.48e-06      6.760      0.000    2.15e-05     3.9e-05\n",
       "PRCP                  0.5686      0.018     31.274      0.000       0.533       0.604\n",
       "SNOW                  0.3501      0.019     18.888      0.000       0.314       0.386\n",
       "SNWD                  0.0528      0.008      7.024      0.000       0.038       0.068\n",
       "=====================================================================================\n",
       "\"\"\""
      ]
     },
     "execution_count": 34,
     "metadata": {},
     "output_type": "execute_result"
    }
   ],
   "source": [
    "logreg01_test = sm.Logit(y_test,X_test).fit()\n",
    "logreg01_test.summary()"
   ]
  },
  {
   "cell_type": "code",
   "execution_count": null,
   "id": "cdb55051",
   "metadata": {},
   "outputs": [],
   "source": []
  }
 ],
 "metadata": {
  "kernelspec": {
   "display_name": "Python 3",
   "language": "python",
   "name": "python3"
  },
  "language_info": {
   "codemirror_mode": {
    "name": "ipython",
    "version": 3
   },
   "file_extension": ".py",
   "mimetype": "text/x-python",
   "name": "python",
   "nbconvert_exporter": "python",
   "pygments_lexer": "ipython3",
   "version": "3.8.8"
  }
 },
 "nbformat": 4,
 "nbformat_minor": 5
}
