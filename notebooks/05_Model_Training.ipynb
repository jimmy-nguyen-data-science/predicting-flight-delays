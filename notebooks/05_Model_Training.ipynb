{
 "cells": [
  {
   "cell_type": "markdown",
   "metadata": {},
   "source": [
    "## Predicting Airline Delays<br>\n",
    "\n",
    "Notebook: Data Modeling\n",
    "  \n",
    "Team: Jimmy Nguyen, Maha Jayapal, Roberto Cancel<br>"
   ]
  },
  {
   "cell_type": "markdown",
   "metadata": {},
   "source": [
    "## Packages "
   ]
  },
  {
   "cell_type": "code",
   "execution_count": 1,
   "metadata": {},
   "outputs": [
    {
     "name": "stdout",
     "output_type": "stream",
     "text": [
      "/opt/conda/lib/python3.7/site-packages/secretstorage/dhcrypto.py:16: CryptographyDeprecationWarning: int_from_bytes is deprecated, use int.from_bytes instead\n",
      "  from cryptography.utils import int_from_bytes\n",
      "/opt/conda/lib/python3.7/site-packages/secretstorage/util.py:25: CryptographyDeprecationWarning: int_from_bytes is deprecated, use int.from_bytes instead\n",
      "  from cryptography.utils import int_from_bytes\n",
      "Requirement already satisfied: xgboost in /opt/conda/lib/python3.7/site-packages (1.5.2)\n",
      "Requirement already satisfied: numpy in /opt/conda/lib/python3.7/site-packages (from xgboost) (1.20.3)\n",
      "Requirement already satisfied: scipy in /opt/conda/lib/python3.7/site-packages (from xgboost) (1.4.1)\n",
      "\u001b[33mWARNING: Running pip as the 'root' user can result in broken permissions and conflicting behaviour with the system package manager. It is recommended to use a virtual environment instead: https://pip.pypa.io/warnings/venv\u001b[0m\n",
      "\u001b[33mWARNING: You are using pip version 21.3.1; however, version 22.0.4 is available.\n",
      "You should consider upgrading via the '/opt/conda/bin/python -m pip install --upgrade pip' command.\u001b[0m\n"
     ]
    }
   ],
   "source": [
    "#!pip install --upgrade numpy #ensure numpy and pandas are upgraded to same versions for easier exploration (avoiding errors)\n",
    "#!pip install --upgrade pandas #ensure numpy and pandas are upgraded to same versions for easier exploration (avoiding errors)\n",
    "!pip install xgboost\n",
    "\n",
    "import tarfile\n",
    "import pickle as pkl\n",
    "import boto3\n",
    "import sagemaker\n",
    "from sagemaker import image_uris\n",
    "from sagemaker.session import Session\n",
    "from sagemaker.inputs import TrainingInput\n",
    "import io # for encoding issues with raw data sets\n",
    "from io import StringIO # converting dataframe to csv and uploading to s3 bucket /tranformed folder\n",
    "\n",
    "import pandas as pd\n",
    "import numpy as np\n",
    "import xgboost\n",
    "from xgboost import plot_tree\n",
    "import matplotlib.pyplot as plt\n",
    "import seaborn as sns\n",
    "import os\n",
    "import datetime as dt\n",
    "import pickle as pkl\n",
    "from sklearn import metrics\n",
    "from sklearn.metrics import confusion_matrix\n",
    "from sklearn.metrics import accuracy_score\n",
    "from sklearn.metrics import roc_auc_score"
   ]
  },
  {
   "cell_type": "markdown",
   "metadata": {},
   "source": [
    "## Set-up "
   ]
  },
  {
   "cell_type": "code",
   "execution_count": 2,
   "metadata": {},
   "outputs": [],
   "source": [
    "sess = sagemaker.Session()\n",
    "bucket = sess.default_bucket()\n",
    "role = sagemaker.get_execution_role()\n",
    "region = boto3.Session().region_name"
   ]
  },
  {
   "cell_type": "code",
   "execution_count": 3,
   "metadata": {},
   "outputs": [
    {
     "name": "stdout",
     "output_type": "stream",
     "text": [
      "Default bucket: sagemaker-us-east-1-957093009964\n"
     ]
    }
   ],
   "source": [
    "print(\"Default bucket: {}\".format(bucket))"
   ]
  },
  {
   "cell_type": "markdown",
   "metadata": {},
   "source": [
    "## Train, Validation, and Test Data "
   ]
  },
  {
   "cell_type": "code",
   "execution_count": 4,
   "metadata": {},
   "outputs": [
    {
     "data": {
      "text/html": [
       "<div>\n",
       "<style scoped>\n",
       "    .dataframe tbody tr th:only-of-type {\n",
       "        vertical-align: middle;\n",
       "    }\n",
       "\n",
       "    .dataframe tbody tr th {\n",
       "        vertical-align: top;\n",
       "    }\n",
       "\n",
       "    .dataframe thead th {\n",
       "        text-align: right;\n",
       "    }\n",
       "</style>\n",
       "<table border=\"1\" class=\"dataframe\">\n",
       "  <thead>\n",
       "    <tr style=\"text-align: right;\">\n",
       "      <th></th>\n",
       "      <th>DEP_DEL15</th>\n",
       "      <th>DAY_OF_WEEK</th>\n",
       "      <th>DEP_TIME_BLK</th>\n",
       "      <th>DISTANCE_GROUP</th>\n",
       "      <th>PILOTS_COPILOTS</th>\n",
       "      <th>PASSENGER_HANDLING</th>\n",
       "      <th>PASS_GEN_SVC_ADMIN</th>\n",
       "      <th>MAINTENANCE</th>\n",
       "      <th>PRCP</th>\n",
       "      <th>SNOW</th>\n",
       "      <th>SNWD</th>\n",
       "      <th>TMAX</th>\n",
       "      <th>AWND</th>\n",
       "      <th>WEEK_OF_MONTH</th>\n",
       "    </tr>\n",
       "  </thead>\n",
       "  <tbody>\n",
       "    <tr>\n",
       "      <th>0</th>\n",
       "      <td>1.0</td>\n",
       "      <td>3</td>\n",
       "      <td>3</td>\n",
       "      <td>4</td>\n",
       "      <td>2840</td>\n",
       "      <td>4905</td>\n",
       "      <td>3888</td>\n",
       "      <td>726</td>\n",
       "      <td>0.00</td>\n",
       "      <td>0.0</td>\n",
       "      <td>0.0</td>\n",
       "      <td>50.0</td>\n",
       "      <td>1.57</td>\n",
       "      <td>4</td>\n",
       "    </tr>\n",
       "    <tr>\n",
       "      <th>1</th>\n",
       "      <td>1.0</td>\n",
       "      <td>3</td>\n",
       "      <td>3</td>\n",
       "      <td>4</td>\n",
       "      <td>2444</td>\n",
       "      <td>23</td>\n",
       "      <td>2273</td>\n",
       "      <td>787</td>\n",
       "      <td>0.29</td>\n",
       "      <td>0.9</td>\n",
       "      <td>1.2</td>\n",
       "      <td>41.0</td>\n",
       "      <td>12.30</td>\n",
       "      <td>2</td>\n",
       "    </tr>\n",
       "    <tr>\n",
       "      <th>2</th>\n",
       "      <td>1.0</td>\n",
       "      <td>4</td>\n",
       "      <td>4</td>\n",
       "      <td>7</td>\n",
       "      <td>7637</td>\n",
       "      <td>16888</td>\n",
       "      <td>15237</td>\n",
       "      <td>4991</td>\n",
       "      <td>0.00</td>\n",
       "      <td>0.0</td>\n",
       "      <td>1.2</td>\n",
       "      <td>27.0</td>\n",
       "      <td>14.99</td>\n",
       "      <td>3</td>\n",
       "    </tr>\n",
       "    <tr>\n",
       "      <th>3</th>\n",
       "      <td>1.0</td>\n",
       "      <td>7</td>\n",
       "      <td>4</td>\n",
       "      <td>5</td>\n",
       "      <td>5175</td>\n",
       "      <td>1407</td>\n",
       "      <td>4076</td>\n",
       "      <td>2145</td>\n",
       "      <td>0.04</td>\n",
       "      <td>0.0</td>\n",
       "      <td>0.0</td>\n",
       "      <td>67.0</td>\n",
       "      <td>16.11</td>\n",
       "      <td>1</td>\n",
       "    </tr>\n",
       "    <tr>\n",
       "      <th>4</th>\n",
       "      <td>0.0</td>\n",
       "      <td>5</td>\n",
       "      <td>2</td>\n",
       "      <td>4</td>\n",
       "      <td>7637</td>\n",
       "      <td>16888</td>\n",
       "      <td>15237</td>\n",
       "      <td>4991</td>\n",
       "      <td>0.00</td>\n",
       "      <td>0.0</td>\n",
       "      <td>0.0</td>\n",
       "      <td>57.0</td>\n",
       "      <td>2.01</td>\n",
       "      <td>4</td>\n",
       "    </tr>\n",
       "  </tbody>\n",
       "</table>\n",
       "</div>"
      ],
      "text/plain": [
       "   DEP_DEL15  DAY_OF_WEEK  DEP_TIME_BLK  DISTANCE_GROUP  PILOTS_COPILOTS  \\\n",
       "0        1.0            3             3               4             2840   \n",
       "1        1.0            3             3               4             2444   \n",
       "2        1.0            4             4               7             7637   \n",
       "3        1.0            7             4               5             5175   \n",
       "4        0.0            5             2               4             7637   \n",
       "\n",
       "   PASSENGER_HANDLING  PASS_GEN_SVC_ADMIN  MAINTENANCE  PRCP  SNOW  SNWD  \\\n",
       "0                4905                3888          726  0.00   0.0   0.0   \n",
       "1                  23                2273          787  0.29   0.9   1.2   \n",
       "2               16888               15237         4991  0.00   0.0   1.2   \n",
       "3                1407                4076         2145  0.04   0.0   0.0   \n",
       "4               16888               15237         4991  0.00   0.0   0.0   \n",
       "\n",
       "   TMAX   AWND  WEEK_OF_MONTH  \n",
       "0  50.0   1.57              4  \n",
       "1  41.0  12.30              2  \n",
       "2  27.0  14.99              3  \n",
       "3  67.0  16.11              1  \n",
       "4  57.0   2.01              4  "
      ]
     },
     "execution_count": 4,
     "metadata": {},
     "output_type": "execute_result"
    }
   ],
   "source": [
    "s3_client = boto3.resource('s3')\n",
    "\n",
    "# training data\n",
    "BUCKET = 'ads-508-airline'\n",
    "KEY = \"model_data/df_train.csv\"\n",
    "\n",
    "response = s3_client.Object(BUCKET, KEY)\n",
    "train = pd.read_csv(response.get()['Body'])\n",
    "train.head()"
   ]
  },
  {
   "cell_type": "code",
   "execution_count": 5,
   "metadata": {},
   "outputs": [
    {
     "data": {
      "text/html": [
       "<div>\n",
       "<style scoped>\n",
       "    .dataframe tbody tr th:only-of-type {\n",
       "        vertical-align: middle;\n",
       "    }\n",
       "\n",
       "    .dataframe tbody tr th {\n",
       "        vertical-align: top;\n",
       "    }\n",
       "\n",
       "    .dataframe thead th {\n",
       "        text-align: right;\n",
       "    }\n",
       "</style>\n",
       "<table border=\"1\" class=\"dataframe\">\n",
       "  <thead>\n",
       "    <tr style=\"text-align: right;\">\n",
       "      <th></th>\n",
       "      <th>DEP_DEL15</th>\n",
       "      <th>DAY_OF_WEEK</th>\n",
       "      <th>DEP_TIME_BLK</th>\n",
       "      <th>DISTANCE_GROUP</th>\n",
       "      <th>PILOTS_COPILOTS</th>\n",
       "      <th>PASSENGER_HANDLING</th>\n",
       "      <th>PASS_GEN_SVC_ADMIN</th>\n",
       "      <th>MAINTENANCE</th>\n",
       "      <th>PRCP</th>\n",
       "      <th>SNOW</th>\n",
       "      <th>SNWD</th>\n",
       "      <th>TMAX</th>\n",
       "      <th>AWND</th>\n",
       "      <th>WEEK_OF_MONTH</th>\n",
       "    </tr>\n",
       "  </thead>\n",
       "  <tbody>\n",
       "    <tr>\n",
       "      <th>0</th>\n",
       "      <td>0.0</td>\n",
       "      <td>1</td>\n",
       "      <td>2</td>\n",
       "      <td>4</td>\n",
       "      <td>8989</td>\n",
       "      <td>9668</td>\n",
       "      <td>15475</td>\n",
       "      <td>2482</td>\n",
       "      <td>0.0</td>\n",
       "      <td>0.0</td>\n",
       "      <td>0.0</td>\n",
       "      <td>42.0</td>\n",
       "      <td>8.05</td>\n",
       "      <td>1</td>\n",
       "    </tr>\n",
       "    <tr>\n",
       "      <th>1</th>\n",
       "      <td>1.0</td>\n",
       "      <td>4</td>\n",
       "      <td>3</td>\n",
       "      <td>4</td>\n",
       "      <td>8989</td>\n",
       "      <td>9668</td>\n",
       "      <td>15475</td>\n",
       "      <td>2482</td>\n",
       "      <td>0.0</td>\n",
       "      <td>0.0</td>\n",
       "      <td>0.0</td>\n",
       "      <td>60.0</td>\n",
       "      <td>5.82</td>\n",
       "      <td>3</td>\n",
       "    </tr>\n",
       "    <tr>\n",
       "      <th>2</th>\n",
       "      <td>0.0</td>\n",
       "      <td>5</td>\n",
       "      <td>4</td>\n",
       "      <td>3</td>\n",
       "      <td>8989</td>\n",
       "      <td>9668</td>\n",
       "      <td>15475</td>\n",
       "      <td>2482</td>\n",
       "      <td>0.0</td>\n",
       "      <td>0.0</td>\n",
       "      <td>0.0</td>\n",
       "      <td>61.0</td>\n",
       "      <td>2.68</td>\n",
       "      <td>1</td>\n",
       "    </tr>\n",
       "    <tr>\n",
       "      <th>3</th>\n",
       "      <td>1.0</td>\n",
       "      <td>2</td>\n",
       "      <td>3</td>\n",
       "      <td>8</td>\n",
       "      <td>8989</td>\n",
       "      <td>9668</td>\n",
       "      <td>15475</td>\n",
       "      <td>2482</td>\n",
       "      <td>0.0</td>\n",
       "      <td>0.0</td>\n",
       "      <td>0.0</td>\n",
       "      <td>55.0</td>\n",
       "      <td>2.91</td>\n",
       "      <td>4</td>\n",
       "    </tr>\n",
       "    <tr>\n",
       "      <th>4</th>\n",
       "      <td>0.0</td>\n",
       "      <td>7</td>\n",
       "      <td>2</td>\n",
       "      <td>2</td>\n",
       "      <td>8989</td>\n",
       "      <td>9668</td>\n",
       "      <td>15475</td>\n",
       "      <td>2482</td>\n",
       "      <td>0.0</td>\n",
       "      <td>0.0</td>\n",
       "      <td>0.0</td>\n",
       "      <td>52.0</td>\n",
       "      <td>9.84</td>\n",
       "      <td>4</td>\n",
       "    </tr>\n",
       "  </tbody>\n",
       "</table>\n",
       "</div>"
      ],
      "text/plain": [
       "   DEP_DEL15  DAY_OF_WEEK  DEP_TIME_BLK  DISTANCE_GROUP  PILOTS_COPILOTS  \\\n",
       "0        0.0            1             2               4             8989   \n",
       "1        1.0            4             3               4             8989   \n",
       "2        0.0            5             4               3             8989   \n",
       "3        1.0            2             3               8             8989   \n",
       "4        0.0            7             2               2             8989   \n",
       "\n",
       "   PASSENGER_HANDLING  PASS_GEN_SVC_ADMIN  MAINTENANCE  PRCP  SNOW  SNWD  \\\n",
       "0                9668               15475         2482   0.0   0.0   0.0   \n",
       "1                9668               15475         2482   0.0   0.0   0.0   \n",
       "2                9668               15475         2482   0.0   0.0   0.0   \n",
       "3                9668               15475         2482   0.0   0.0   0.0   \n",
       "4                9668               15475         2482   0.0   0.0   0.0   \n",
       "\n",
       "   TMAX  AWND  WEEK_OF_MONTH  \n",
       "0  42.0  8.05              1  \n",
       "1  60.0  5.82              3  \n",
       "2  61.0  2.68              1  \n",
       "3  55.0  2.91              4  \n",
       "4  52.0  9.84              4  "
      ]
     },
     "execution_count": 5,
     "metadata": {},
     "output_type": "execute_result"
    }
   ],
   "source": [
    "# validation data\n",
    "KEY = \"model_data/df_val.csv\"\n",
    "\n",
    "response = s3_client.Object(BUCKET, KEY)\n",
    "valid = pd.read_csv(response.get()['Body'])\n",
    "valid.head()"
   ]
  },
  {
   "cell_type": "code",
   "execution_count": 6,
   "metadata": {},
   "outputs": [
    {
     "data": {
      "text/html": [
       "<div>\n",
       "<style scoped>\n",
       "    .dataframe tbody tr th:only-of-type {\n",
       "        vertical-align: middle;\n",
       "    }\n",
       "\n",
       "    .dataframe tbody tr th {\n",
       "        vertical-align: top;\n",
       "    }\n",
       "\n",
       "    .dataframe thead th {\n",
       "        text-align: right;\n",
       "    }\n",
       "</style>\n",
       "<table border=\"1\" class=\"dataframe\">\n",
       "  <thead>\n",
       "    <tr style=\"text-align: right;\">\n",
       "      <th></th>\n",
       "      <th>DEP_DEL15</th>\n",
       "      <th>DAY_OF_WEEK</th>\n",
       "      <th>DEP_TIME_BLK</th>\n",
       "      <th>DISTANCE_GROUP</th>\n",
       "      <th>PILOTS_COPILOTS</th>\n",
       "      <th>PASSENGER_HANDLING</th>\n",
       "      <th>PASS_GEN_SVC_ADMIN</th>\n",
       "      <th>MAINTENANCE</th>\n",
       "      <th>PRCP</th>\n",
       "      <th>SNOW</th>\n",
       "      <th>SNWD</th>\n",
       "      <th>TMAX</th>\n",
       "      <th>AWND</th>\n",
       "      <th>WEEK_OF_MONTH</th>\n",
       "    </tr>\n",
       "  </thead>\n",
       "  <tbody>\n",
       "    <tr>\n",
       "      <th>0</th>\n",
       "      <td>1.0</td>\n",
       "      <td>1</td>\n",
       "      <td>2</td>\n",
       "      <td>5</td>\n",
       "      <td>8989</td>\n",
       "      <td>9668</td>\n",
       "      <td>15475</td>\n",
       "      <td>2482</td>\n",
       "      <td>0.0</td>\n",
       "      <td>0.0</td>\n",
       "      <td>0.0</td>\n",
       "      <td>53.0</td>\n",
       "      <td>3.36</td>\n",
       "      <td>5</td>\n",
       "    </tr>\n",
       "    <tr>\n",
       "      <th>1</th>\n",
       "      <td>0.0</td>\n",
       "      <td>4</td>\n",
       "      <td>3</td>\n",
       "      <td>6</td>\n",
       "      <td>7637</td>\n",
       "      <td>16888</td>\n",
       "      <td>15237</td>\n",
       "      <td>4991</td>\n",
       "      <td>0.0</td>\n",
       "      <td>0.0</td>\n",
       "      <td>0.0</td>\n",
       "      <td>68.0</td>\n",
       "      <td>4.70</td>\n",
       "      <td>4</td>\n",
       "    </tr>\n",
       "    <tr>\n",
       "      <th>2</th>\n",
       "      <td>1.0</td>\n",
       "      <td>4</td>\n",
       "      <td>4</td>\n",
       "      <td>4</td>\n",
       "      <td>8989</td>\n",
       "      <td>9668</td>\n",
       "      <td>15475</td>\n",
       "      <td>2482</td>\n",
       "      <td>0.0</td>\n",
       "      <td>0.0</td>\n",
       "      <td>0.0</td>\n",
       "      <td>80.0</td>\n",
       "      <td>9.40</td>\n",
       "      <td>4</td>\n",
       "    </tr>\n",
       "    <tr>\n",
       "      <th>3</th>\n",
       "      <td>1.0</td>\n",
       "      <td>6</td>\n",
       "      <td>3</td>\n",
       "      <td>3</td>\n",
       "      <td>8989</td>\n",
       "      <td>9668</td>\n",
       "      <td>15475</td>\n",
       "      <td>2482</td>\n",
       "      <td>0.0</td>\n",
       "      <td>0.0</td>\n",
       "      <td>0.0</td>\n",
       "      <td>41.0</td>\n",
       "      <td>7.61</td>\n",
       "      <td>1</td>\n",
       "    </tr>\n",
       "    <tr>\n",
       "      <th>4</th>\n",
       "      <td>0.0</td>\n",
       "      <td>2</td>\n",
       "      <td>2</td>\n",
       "      <td>5</td>\n",
       "      <td>8586</td>\n",
       "      <td>8586</td>\n",
       "      <td>15502</td>\n",
       "      <td>9677</td>\n",
       "      <td>0.0</td>\n",
       "      <td>0.0</td>\n",
       "      <td>0.0</td>\n",
       "      <td>50.0</td>\n",
       "      <td>9.17</td>\n",
       "      <td>3</td>\n",
       "    </tr>\n",
       "  </tbody>\n",
       "</table>\n",
       "</div>"
      ],
      "text/plain": [
       "   DEP_DEL15  DAY_OF_WEEK  DEP_TIME_BLK  DISTANCE_GROUP  PILOTS_COPILOTS  \\\n",
       "0        1.0            1             2               5             8989   \n",
       "1        0.0            4             3               6             7637   \n",
       "2        1.0            4             4               4             8989   \n",
       "3        1.0            6             3               3             8989   \n",
       "4        0.0            2             2               5             8586   \n",
       "\n",
       "   PASSENGER_HANDLING  PASS_GEN_SVC_ADMIN  MAINTENANCE  PRCP  SNOW  SNWD  \\\n",
       "0                9668               15475         2482   0.0   0.0   0.0   \n",
       "1               16888               15237         4991   0.0   0.0   0.0   \n",
       "2                9668               15475         2482   0.0   0.0   0.0   \n",
       "3                9668               15475         2482   0.0   0.0   0.0   \n",
       "4                8586               15502         9677   0.0   0.0   0.0   \n",
       "\n",
       "   TMAX  AWND  WEEK_OF_MONTH  \n",
       "0  53.0  3.36              5  \n",
       "1  68.0  4.70              4  \n",
       "2  80.0  9.40              4  \n",
       "3  41.0  7.61              1  \n",
       "4  50.0  9.17              3  "
      ]
     },
     "execution_count": 6,
     "metadata": {},
     "output_type": "execute_result"
    }
   ],
   "source": [
    "# Test data\n",
    "KEY = \"model_data/df_test.csv\"\n",
    "\n",
    "response = s3_client.Object(BUCKET, KEY)\n",
    "test = pd.read_csv(response.get()['Body'])\n",
    "test.head()"
   ]
  },
  {
   "cell_type": "markdown",
   "metadata": {},
   "source": [
    "## S3 Data Inputs for Modeling "
   ]
  },
  {
   "cell_type": "code",
   "execution_count": 7,
   "metadata": {},
   "outputs": [
    {
     "data": {
      "text/plain": [
       "<sagemaker.inputs.TrainingInput at 0x7f3917e39910>"
      ]
     },
     "execution_count": 7,
     "metadata": {},
     "output_type": "execute_result"
    }
   ],
   "source": [
    "# Training data\n",
    "KEY = \"model_data/df_train.csv\"\n",
    "s3_input_train = sagemaker.TrainingInput(s3_data='s3://{}/{}'.format(BUCKET, KEY), content_type='csv')\n",
    "s3_input_train"
   ]
  },
  {
   "cell_type": "code",
   "execution_count": 8,
   "metadata": {},
   "outputs": [],
   "source": [
    "# Validation data\n",
    "KEY = \"model_data/df_val.csv\"\n",
    "s3_input_valid = sagemaker.TrainingInput(s3_data='s3://{}/{}'.format(BUCKET,KEY), content_type='csv')"
   ]
  },
  {
   "cell_type": "code",
   "execution_count": 9,
   "metadata": {},
   "outputs": [],
   "source": [
    "# Test data\n",
    "KEY = \"model_data/df_test.csv\"\n",
    "s3_input_test = sagemaker.TrainingInput(s3_data='s3://{}/{}'.format(BUCKET, KEY), content_type='csv')"
   ]
  },
  {
   "cell_type": "markdown",
   "metadata": {},
   "source": [
    "## Modeling - XGBOOST"
   ]
  },
  {
   "cell_type": "code",
   "execution_count": 10,
   "metadata": {},
   "outputs": [
    {
     "name": "stdout",
     "output_type": "stream",
     "text": [
      "2022-04-01 17:29:58 Starting - Starting the training job...ProfilerReport-1648834197: InProgress\n",
      "......\n",
      "2022-04-01 17:31:18 Starting - Preparing the instances for training.........\n",
      "2022-04-01 17:32:58 Downloading - Downloading input data...\n",
      "2022-04-01 17:33:18 Training - Downloading the training image.........\n",
      "2022-04-01 17:34:59 Training - Training image download completed. Training in progress.\u001b[34m[2022-04-01 17:34:52.616 ip-10-0-126-225.ec2.internal:1 INFO utils.py:27] RULE_JOB_STOP_SIGNAL_FILENAME: None\u001b[0m\n",
      "\u001b[34m[2022-04-01:17:34:52:INFO] Imported framework sagemaker_xgboost_container.training\u001b[0m\n",
      "\u001b[34m[2022-04-01:17:34:52:INFO] Failed to parse hyperparameter eval_metric value auc to Json.\u001b[0m\n",
      "\u001b[34mReturning the value itself\u001b[0m\n",
      "\u001b[34m[2022-04-01:17:34:52:INFO] Failed to parse hyperparameter objective value binary:logistic to Json.\u001b[0m\n",
      "\u001b[34mReturning the value itself\u001b[0m\n",
      "\u001b[34m[2022-04-01:17:34:52:INFO] No GPUs detected (normal if no gpus installed)\u001b[0m\n",
      "\u001b[34m[2022-04-01:17:34:52:INFO] Running XGBoost Sagemaker in algorithm mode\u001b[0m\n",
      "\u001b[34m[2022-04-01:17:34:52:INFO] Determined delimiter of CSV input is ','\u001b[0m\n",
      "\u001b[34m[2022-04-01:17:34:52:INFO] Determined delimiter of CSV input is ','\u001b[0m\n",
      "\u001b[34m[2022-04-01:17:34:52:INFO] Determined delimiter of CSV input is ','\u001b[0m\n",
      "\u001b[34m[2022-04-01:17:34:53:INFO] Determined delimiter of CSV input is ','\u001b[0m\n",
      "\u001b[34m[2022-04-01:17:34:53:INFO] Single node training.\u001b[0m\n",
      "\u001b[34m[2022-04-01:17:34:53:INFO] Train matrix has 209326 rows and 13 columns\u001b[0m\n",
      "\u001b[34m[2022-04-01:17:34:53:INFO] Validation matrix has 11630 rows\u001b[0m\n",
      "\u001b[34m[0]#011train-auc:0.64973#011validation-auc:0.64065\u001b[0m\n",
      "\u001b[34m[1]#011train-auc:0.65718#011validation-auc:0.65037\u001b[0m\n",
      "\u001b[34m[2]#011train-auc:0.66172#011validation-auc:0.65481\u001b[0m\n",
      "\u001b[34m[3]#011train-auc:0.66745#011validation-auc:0.66141\u001b[0m\n",
      "\u001b[34m[4]#011train-auc:0.67051#011validation-auc:0.66413\u001b[0m\n",
      "\u001b[34m[5]#011train-auc:0.67244#011validation-auc:0.66561\u001b[0m\n",
      "\u001b[34m[6]#011train-auc:0.67637#011validation-auc:0.66941\u001b[0m\n",
      "\u001b[34m[7]#011train-auc:0.68021#011validation-auc:0.67297\u001b[0m\n",
      "\u001b[34m[8]#011train-auc:0.68166#011validation-auc:0.67414\u001b[0m\n",
      "\u001b[34m[9]#011train-auc:0.68343#011validation-auc:0.67495\u001b[0m\n",
      "\u001b[34m[10]#011train-auc:0.68646#011validation-auc:0.67753\u001b[0m\n",
      "\u001b[34m[11]#011train-auc:0.68904#011validation-auc:0.68070\u001b[0m\n",
      "\u001b[34m[12]#011train-auc:0.68951#011validation-auc:0.68183\u001b[0m\n",
      "\u001b[34m[13]#011train-auc:0.69003#011validation-auc:0.68222\u001b[0m\n",
      "\u001b[34m[14]#011train-auc:0.69106#011validation-auc:0.68284\u001b[0m\n",
      "\u001b[34m[15]#011train-auc:0.69228#011validation-auc:0.68357\u001b[0m\n",
      "\u001b[34m[16]#011train-auc:0.69312#011validation-auc:0.68438\u001b[0m\n",
      "\u001b[34m[17]#011train-auc:0.69404#011validation-auc:0.68559\u001b[0m\n",
      "\u001b[34m[18]#011train-auc:0.69459#011validation-auc:0.68622\u001b[0m\n",
      "\u001b[34m[19]#011train-auc:0.69485#011validation-auc:0.68652\u001b[0m\n",
      "\u001b[34m[20]#011train-auc:0.69603#011validation-auc:0.68786\u001b[0m\n",
      "\u001b[34m[21]#011train-auc:0.69659#011validation-auc:0.68850\u001b[0m\n",
      "\u001b[34m[22]#011train-auc:0.69663#011validation-auc:0.68859\u001b[0m\n",
      "\u001b[34m[23]#011train-auc:0.69757#011validation-auc:0.68926\u001b[0m\n",
      "\u001b[34m[24]#011train-auc:0.69959#011validation-auc:0.69153\u001b[0m\n",
      "\u001b[34m[25]#011train-auc:0.70033#011validation-auc:0.69199\u001b[0m\n",
      "\u001b[34m[26]#011train-auc:0.70101#011validation-auc:0.69269\u001b[0m\n",
      "\u001b[34m[27]#011train-auc:0.70116#011validation-auc:0.69278\u001b[0m\n",
      "\u001b[34m[28]#011train-auc:0.70192#011validation-auc:0.69355\u001b[0m\n",
      "\u001b[34m[29]#011train-auc:0.70274#011validation-auc:0.69456\u001b[0m\n",
      "\u001b[34m[30]#011train-auc:0.70326#011validation-auc:0.69442\u001b[0m\n",
      "\u001b[34m[31]#011train-auc:0.70352#011validation-auc:0.69468\u001b[0m\n",
      "\u001b[34m[32]#011train-auc:0.70418#011validation-auc:0.69493\u001b[0m\n",
      "\u001b[34m[33]#011train-auc:0.70503#011validation-auc:0.69561\u001b[0m\n",
      "\u001b[34m[34]#011train-auc:0.70553#011validation-auc:0.69566\u001b[0m\n",
      "\u001b[34m[35]#011train-auc:0.70578#011validation-auc:0.69587\u001b[0m\n",
      "\u001b[34m[36]#011train-auc:0.70635#011validation-auc:0.69598\u001b[0m\n",
      "\u001b[34m[37]#011train-auc:0.70688#011validation-auc:0.69615\u001b[0m\n",
      "\u001b[34m[38]#011train-auc:0.70735#011validation-auc:0.69638\u001b[0m\n",
      "\u001b[34m[39]#011train-auc:0.70794#011validation-auc:0.69683\u001b[0m\n",
      "\u001b[34m[40]#011train-auc:0.70844#011validation-auc:0.69691\u001b[0m\n",
      "\u001b[34m[41]#011train-auc:0.70894#011validation-auc:0.69701\u001b[0m\n",
      "\u001b[34m[42]#011train-auc:0.70934#011validation-auc:0.69739\u001b[0m\n",
      "\n",
      "2022-04-01 17:35:29 Uploading - Uploading generated training model\u001b[34m[43]#011train-auc:0.70957#011validation-auc:0.69737\u001b[0m\n",
      "\u001b[34m[44]#011train-auc:0.70981#011validation-auc:0.69730\u001b[0m\n",
      "\u001b[34m[45]#011train-auc:0.71026#011validation-auc:0.69789\u001b[0m\n",
      "\u001b[34m[46]#011train-auc:0.71033#011validation-auc:0.69788\u001b[0m\n",
      "\u001b[34m[47]#011train-auc:0.71054#011validation-auc:0.69831\u001b[0m\n",
      "\u001b[34m[48]#011train-auc:0.71083#011validation-auc:0.69832\u001b[0m\n",
      "\u001b[34m[49]#011train-auc:0.71113#011validation-auc:0.69857\u001b[0m\n",
      "\n",
      "2022-04-01 17:35:59 Completed - Training job completed\n",
      "ProfilerReport-1648834197: NoIssuesFound\n",
      "Training seconds: 188\n",
      "Billable seconds: 188\n"
     ]
    }
   ],
   "source": [
    "# initialize hyperparameters\n",
    "hyperparameters = {\n",
    "        \"max_depth\":\"5\", #default 6 - reduced to reduce complexity and overfitting\n",
    "        \"eta\":\"0.3\", #default\n",
    "        \"gamma\":\"0\", #default\n",
    "        \"min_child_weight\":\"1\", #default\n",
    "        \"subsample\":\"0.5\", #optimized to prevent overfitting\n",
    "        \"lambda\":\"1\", #default\n",
    "        \"objective\":\"binary:logistic\",\n",
    "        \"num_round\":\"50\", \"eval_metric\":\"auc\"}\n",
    "\n",
    "# set an output path where the trained model will be saved\n",
    "bucket = sagemaker.Session().default_bucket()\n",
    "prefix = 'baseline_model'\n",
    "output_path = 's3://{}/{}/{}/output'.format(bucket, prefix, 'xgb-built-in-algo')\n",
    "\n",
    "# this line automatically looks for the XGBoost image URI and builds an XGBoost container.\n",
    "# specify the repo_version depending on your preference.\n",
    "xgboost_container = sagemaker.image_uris.retrieve(\"xgboost\", region, \"1.2-2\")\n",
    "\n",
    "# construct a SageMaker estimator that calls the xgboost-container\n",
    "estimator = sagemaker.estimator.Estimator(image_uri=xgboost_container, \n",
    "                                          hyperparameters=hyperparameters,\n",
    "                                          role=sagemaker.get_execution_role(),\n",
    "                                          instance_count=1, \n",
    "                                          instance_type='ml.m5.large', \n",
    "                                          volume_size=5, # 5 GB \n",
    "                                          output_path=output_path)\n",
    "\n",
    "# define the data type and paths to the training and validation datasets\n",
    "content_type = \"libsvm\"\n",
    "\n",
    "# execute the XGBoost training job\n",
    "estimator.fit({'train': s3_input_train, 'validation': s3_input_valid})"
   ]
  },
  {
   "cell_type": "markdown",
   "metadata": {},
   "source": [
    "## Evaluation "
   ]
  },
  {
   "cell_type": "code",
   "execution_count": 11,
   "metadata": {},
   "outputs": [
    {
     "name": "stdout",
     "output_type": "stream",
     "text": [
      "download: s3://sagemaker-us-east-1-957093009964/baseline_model/xgb-built-in-algo/output/sagemaker-xgboost-2022-03-31-00-49-48-555/output/model.tar.gz to ./model.tar.gz\n"
     ]
    }
   ],
   "source": [
    "\n",
    "# download the model artifact from AWS S3\n",
    "!aws s3 cp s3://sagemaker-us-east-1-957093009964/baseline_model/xgb-built-in-algo/output/sagemaker-xgboost-2022-03-31-00-49-48-555/output/model.tar.gz .\n",
    "    \n",
    "#opens the downloaded model artifcat and loads it as 'model' variable\n",
    "tar = tarfile.open('model.tar.gz')\n",
    "tar.extractall()\n",
    "tar.close()\n",
    "model = pkl.load(open('xgboost-model', 'rb'))"
   ]
  },
  {
   "cell_type": "markdown",
   "metadata": {},
   "source": [
    "### Feature Importance:\n",
    "\n",
    "Feature importance is evaluated using weight (the number of times a feature is used to split the data across all trees), cover (the number of times a feature is used to split the data cross all trees weighted by the number of training data points that go through those splits), and gain (the average training loss reduction when using a feature for splitting)."
   ]
  },
  {
   "cell_type": "code",
   "execution_count": 12,
   "metadata": {},
   "outputs": [],
   "source": [
    "cols_input = ['DAY_OF_WEEK', 'DEP_TIME_BLK', 'DISTANCE_GROUP',\n",
    "       'PILOTS_COPILOTS', 'PASSENGER_HANDLING', 'PASS_GEN_SVC_ADMIN',\n",
    "       'MAINTENANCE', 'PRCP', 'SNOW', 'SNWD', 'TMAX', 'AWND', 'WEEK_OF_MONTH']\n",
    "cols_target = ['DEP_DEL15']\n",
    "\n",
    "# Match up with feature names \n",
    "map_names = dict(zip(list(model.get_fscore().keys()), train[cols_input].columns))\n",
    "model.feature_names = list(map_names.values())\n",
    "\n",
    "map_names2 = dict(zip(list(model.get_fscore().keys()), train[cols_target].columns))\n",
    "model.target_names = list(map_names2.values())\n"
   ]
  },
  {
   "cell_type": "code",
   "execution_count": 13,
   "metadata": {},
   "outputs": [
    {
     "data": {
      "image/png": "[encoded data removed]",
      "text/plain": [
       "<Figure size 864x864 with 1 Axes>"
      ]
     },
     "metadata": {
      "needs_background": "light"
     },
     "output_type": "display_data"
    }
   ],
   "source": [
    "#plot feature importance with weight\n",
    "fig, ax = plt.subplots(figsize=(12,12))\n",
    "xgboost.plot_importance(model, importance_type='weight', max_num_features=30, height=0.8, ax=ax, show_values = True)\n",
    "plt.title('Feature Importance by Weight')\n",
    "plt.show()"
   ]
  },
  {
   "cell_type": "markdown",
   "metadata": {},
   "source": [
    "Feature importance by weight ranks features based on the number of times a feature is used to split the data across all trees, we see that the 8 most frequently used features across all trees are: TMAX, AWND, DAY_OF_WEEK, PRCP, DISTANCE_GROUP, WEEK_OF_MONTH, PILOTS_COPILOTS, and DEPT_TIME_BLK. <br>\n",
    "\n",
    "Summary: Weather conditions, date/time-oriented features, flight length, and staffing levels (pilots/copilots) are the most influential features across all trees at a high-level. <br>\n",
    "\n",
    "Preliminary Interpretations: While weather conditions aren't features that can be changed by the airline, understanding the interactions of these features with the remaining features would be beneficial. DAY_OF_WEEK, WEEK_OF_MONTH, and DEP_TIME_BLK indicate airport activity and staffing levels are important factors in predicting departure delays.<br>"
   ]
  },
  {
   "cell_type": "code",
   "execution_count": 14,
   "metadata": {},
   "outputs": [
    {
     "data": {
      "image/png": "[encoded data removed]",
      "text/plain": [
       "<Figure size 864x864 with 1 Axes>"
      ]
     },
     "metadata": {
      "needs_background": "light"
     },
     "output_type": "display_data"
    }
   ],
   "source": [
    "#plot feature importance with cover\n",
    "fig, ax = plt.subplots(figsize=(12,12))\n",
    "xgboost.plot_importance(model, importance_type='cover', max_num_features=30, height=0.8, ax=ax, show_values = True)\n",
    "plt.title('Feature Importance by Cover')\n",
    "plt.show()"
   ]
  },
  {
   "cell_type": "markdown",
   "metadata": {},
   "source": [
    "Feature importance by cover ranks features based on the number of times a feature is used to split the data cross all trees weighted by the number of training data points that go through those splits,  we see that the 8 most frequently used features are: SNOW, SNWD, MAINTENANCE, DEPT_TIME_BLK, AWND, PRCP, WEEK_OF_MONTH, and TMAX.<br>\n",
    "  \n",
    "Summary: Once again, weather conditions, date/time-oriented features, and staffing levels (maintenance) are the most influential features for splitting trees with respect to the number of training points passed through those splits.<br>\n",
    "\n",
    "Preliminary Interpretations: We see a similar pattern of features when evaluating by cover. <br>"
   ]
  },
  {
   "cell_type": "code",
   "execution_count": 15,
   "metadata": {},
   "outputs": [
    {
     "data": {
      "image/png": "[encoded data removed]",
      "text/plain": [
       "<Figure size 864x864 with 1 Axes>"
      ]
     },
     "metadata": {
      "needs_background": "light"
     },
     "output_type": "display_data"
    }
   ],
   "source": [
    "#plot feature importance with gain\n",
    "fig, ax = plt.subplots(figsize=(12,12))\n",
    "xgboost.plot_importance(model, importance_type='gain', max_num_features=30, height=0.8, ax=ax, show_values = True)\n",
    "plt.title('Feature Importance by Gain')\n",
    "plt.show()"
   ]
  },
  {
   "cell_type": "markdown",
   "metadata": {},
   "source": [
    "Feature importance by gain ranks features based on the average training loss reduction when using a feature for splitting, we see that the 8 most frequently used features are: DEP_TIME_BLK, PILOTS_COPILOTS, PRCP, SNOW, WEEK_OF_MONTH, PASS_GEN_SVC_ADMIN, MAINTENANCE, and DAY_OF_WEEK.<br>\n",
    "\n",
    "Summary: Once again, weather conditions, date/time-oriented features, and staffing levels (maintenance) are the most influential features for splitting trees with respect to the number of training points passed through those splits.<br>\n"
   ]
  },
  {
   "cell_type": "markdown",
   "metadata": {},
   "source": [
    "## Future Enhancements"
   ]
  },
  {
   "cell_type": "code",
   "execution_count": null,
   "metadata": {},
   "outputs": [],
   "source": []
  }
 ],
 "metadata": {
  "instance_type": "ml.t3.medium",
  "kernelspec": {
   "display_name": "Python 3 (Data Science)",
   "language": "python",
   "name": "python3__SAGEMAKER_INTERNAL__arn:aws:sagemaker:us-east-1:081325390199:image/datascience-1.0"
  },
  "language_info": {
   "codemirror_mode": {
    "name": "ipython",
    "version": 3
   },
   "file_extension": ".py",
   "mimetype": "text/x-python",
   "name": "python",
   "nbconvert_exporter": "python",
   "pygments_lexer": "ipython3",
   "version": "3.7.10"
  }
 },
 "nbformat": 4,
 "nbformat_minor": 4
}
