{
 "cells": [
  {
   "cell_type": "markdown",
   "metadata": {},
   "source": [
    "**Predicting Airline Delays**<br>\n",
    "  \n",
    "Team: Jimmy Nguyen, Maha Jayapal, Roberto Cancel<br>"
   ]
  },
  {
   "cell_type": "code",
   "execution_count": 1,
   "metadata": {},
   "outputs": [
    {
     "name": "stdout",
     "output_type": "stream",
     "text": [
      "/opt/conda/lib/python3.7/site-packages/secretstorage/dhcrypto.py:16: CryptographyDeprecationWarning: int_from_bytes is deprecated, use int.from_bytes instead\n",
      "  from cryptography.utils import int_from_bytes\n",
      "/opt/conda/lib/python3.7/site-packages/secretstorage/util.py:25: CryptographyDeprecationWarning: int_from_bytes is deprecated, use int.from_bytes instead\n",
      "  from cryptography.utils import int_from_bytes\n",
      "Requirement already satisfied: numpy in /opt/conda/lib/python3.7/site-packages (1.21.5)\n",
      "\u001b[33mWARNING: Running pip as the 'root' user can result in broken permissions and conflicting behaviour with the system package manager. It is recommended to use a virtual environment instead: https://pip.pypa.io/warnings/venv\u001b[0m\n",
      "\u001b[33mWARNING: You are using pip version 21.3.1; however, version 22.0.4 is available.\n",
      "You should consider upgrading via the '/opt/conda/bin/python -m pip install --upgrade pip' command.\u001b[0m\n",
      "/opt/conda/lib/python3.7/site-packages/secretstorage/dhcrypto.py:16: CryptographyDeprecationWarning: int_from_bytes is deprecated, use int.from_bytes instead\n",
      "  from cryptography.utils import int_from_bytes\n",
      "/opt/conda/lib/python3.7/site-packages/secretstorage/util.py:25: CryptographyDeprecationWarning: int_from_bytes is deprecated, use int.from_bytes instead\n",
      "  from cryptography.utils import int_from_bytes\n",
      "Requirement already satisfied: pandas in /opt/conda/lib/python3.7/site-packages (1.3.5)\n",
      "Requirement already satisfied: numpy>=1.17.3 in /opt/conda/lib/python3.7/site-packages (from pandas) (1.21.5)\n",
      "Requirement already satisfied: pytz>=2017.3 in /opt/conda/lib/python3.7/site-packages (from pandas) (2019.3)\n",
      "Requirement already satisfied: python-dateutil>=2.7.3 in /opt/conda/lib/python3.7/site-packages (from pandas) (2.8.1)\n",
      "Requirement already satisfied: six>=1.5 in /opt/conda/lib/python3.7/site-packages (from python-dateutil>=2.7.3->pandas) (1.14.0)\n",
      "\u001b[33mWARNING: Running pip as the 'root' user can result in broken permissions and conflicting behaviour with the system package manager. It is recommended to use a virtual environment instead: https://pip.pypa.io/warnings/venv\u001b[0m\n",
      "\u001b[33mWARNING: You are using pip version 21.3.1; however, version 22.0.4 is available.\n",
      "You should consider upgrading via the '/opt/conda/bin/python -m pip install --upgrade pip' command.\u001b[0m\n"
     ]
    }
   ],
   "source": [
    "!pip install --upgrade numpy #ensure numpy and pandas are upgraded to same versions for easier exploration (avoiding errors)\n",
    "!pip install --upgrade pandas #ensure numpy and pandas are upgraded to same versions for easier exploration (avoiding errors)\n",
    "\n",
    "# IMPORT LIBRARIES REQUIRED THROUGHOUT THE NOTEBOOK\n",
    "import boto3 # AWS SDK for Python\n",
    "import pandas as pd # for importing and manipulating data\n",
    "import numpy as np\n",
    "import io # for encoding issues with raw data sets"
   ]
  },
  {
   "cell_type": "code",
   "execution_count": 2,
   "metadata": {},
   "outputs": [
    {
     "name": "stdout",
     "output_type": "stream",
     "text": [
      "raw/\n",
      "raw/B43_AIRCRAFT_INVENTORY.csv\n",
      "raw/CARRIER_DECODE.csv\n",
      "raw/ONTIME_REPORTING_12.csv\n",
      "raw/P10_EMPLOYEES.csv\n",
      "raw/airport_weather_dec_2019.csv\n",
      "raw/airports_list.csv\n",
      "transformed/\n",
      "transformed/B43_AIRCRAFT_INVENTORY.csv\n",
      "transformed/CARRIER_DECODE.csv\n",
      "transformed/ON_TIME_REPORTING_12.csv\n",
      "transformed/P10_EMPLOYEES.csv\n",
      "transformed/airport_weather_dec_2019.csv\n",
      "transformed/airports_list.csv\n"
     ]
    }
   ],
   "source": [
    "# IDENTIFY FILES IN S3 BUCKET\n",
    "session = boto3.Session()\n",
    "\n",
    "#Then use the session to get the resource\n",
    "s3 = session.resource('s3')\n",
    "\n",
    "my_bucket = s3.Bucket('ads-508-airline')\n",
    "\n",
    "for my_bucket_object in my_bucket.objects.all():\n",
    "    print(my_bucket_object.key)\n"
   ]
  },
  {
   "cell_type": "markdown",
   "metadata": {},
   "source": [
    "xxxxxxxxxxxxxxxxxxxxxxxxxxxxxxxxxxxxxxxxxxxxxxxxxxxxxxxxxxxxxxxxxxxxxxxxxxxxxxxxxxxxx<br>\n",
    "INGEST DATA SETS<br>\n",
    "xxxxxxxxxxxxxxxxxxxxxxxxxxxxxxxxxxxxxxxxxxxxxxxxxxxxxxxxxxxxxxxxxxxxxxxxxxxxxxxxxxxxx<br>"
   ]
  },
  {
   "cell_type": "code",
   "execution_count": 3,
   "metadata": {},
   "outputs": [
    {
     "data": {
      "text/html": [
       "<div>\n",
       "<style scoped>\n",
       "    .dataframe tbody tr th:only-of-type {\n",
       "        vertical-align: middle;\n",
       "    }\n",
       "\n",
       "    .dataframe tbody tr th {\n",
       "        vertical-align: top;\n",
       "    }\n",
       "\n",
       "    .dataframe thead th {\n",
       "        text-align: right;\n",
       "    }\n",
       "</style>\n",
       "<table border=\"1\" class=\"dataframe\">\n",
       "  <thead>\n",
       "    <tr style=\"text-align: right;\">\n",
       "      <th></th>\n",
       "      <th>DAY_OF_MONTH</th>\n",
       "      <th>DAY_OF_WEEK</th>\n",
       "      <th>OP_UNIQUE_CARRIER</th>\n",
       "      <th>TAIL_NUM</th>\n",
       "      <th>ORIGIN</th>\n",
       "      <th>DEST</th>\n",
       "      <th>DEP_DEL15</th>\n",
       "      <th>DEP_TIME_BLK</th>\n",
       "      <th>ARR_TIME_BLK</th>\n",
       "      <th>CANCELLED</th>\n",
       "      <th>CRS_ELAPSED_TIME</th>\n",
       "      <th>DISTANCE</th>\n",
       "      <th>DISTANCE_GROUP</th>\n",
       "      <th>CARRIER_DELAY</th>\n",
       "      <th>WEATHER_DELAY</th>\n",
       "      <th>NAS_DELAY</th>\n",
       "      <th>SECURITY_DELAY</th>\n",
       "      <th>LATE_AIRCRAFT_DELAY</th>\n",
       "    </tr>\n",
       "  </thead>\n",
       "  <tbody>\n",
       "    <tr>\n",
       "      <th>0</th>\n",
       "      <td>8</td>\n",
       "      <td>7</td>\n",
       "      <td>WN</td>\n",
       "      <td>N8651A</td>\n",
       "      <td>STL</td>\n",
       "      <td>SAN</td>\n",
       "      <td>0.0</td>\n",
       "      <td>1100-1159</td>\n",
       "      <td>1300-1359</td>\n",
       "      <td>0.0</td>\n",
       "      <td>245.0</td>\n",
       "      <td>1557.0</td>\n",
       "      <td>7</td>\n",
       "      <td>0.0</td>\n",
       "      <td>0.0</td>\n",
       "      <td>18.0</td>\n",
       "      <td>0.0</td>\n",
       "      <td>0.0</td>\n",
       "    </tr>\n",
       "    <tr>\n",
       "      <th>1</th>\n",
       "      <td>8</td>\n",
       "      <td>7</td>\n",
       "      <td>WN</td>\n",
       "      <td>N939WN</td>\n",
       "      <td>STL</td>\n",
       "      <td>SAT</td>\n",
       "      <td>0.0</td>\n",
       "      <td>1200-1259</td>\n",
       "      <td>1400-1459</td>\n",
       "      <td>0.0</td>\n",
       "      <td>145.0</td>\n",
       "      <td>786.0</td>\n",
       "      <td>4</td>\n",
       "      <td>NaN</td>\n",
       "      <td>NaN</td>\n",
       "      <td>NaN</td>\n",
       "      <td>NaN</td>\n",
       "      <td>NaN</td>\n",
       "    </tr>\n",
       "    <tr>\n",
       "      <th>2</th>\n",
       "      <td>8</td>\n",
       "      <td>7</td>\n",
       "      <td>WN</td>\n",
       "      <td>N7741C</td>\n",
       "      <td>STL</td>\n",
       "      <td>SAT</td>\n",
       "      <td>0.0</td>\n",
       "      <td>2100-2159</td>\n",
       "      <td>0001-0559</td>\n",
       "      <td>0.0</td>\n",
       "      <td>140.0</td>\n",
       "      <td>786.0</td>\n",
       "      <td>4</td>\n",
       "      <td>NaN</td>\n",
       "      <td>NaN</td>\n",
       "      <td>NaN</td>\n",
       "      <td>NaN</td>\n",
       "      <td>NaN</td>\n",
       "    </tr>\n",
       "    <tr>\n",
       "      <th>3</th>\n",
       "      <td>8</td>\n",
       "      <td>7</td>\n",
       "      <td>WN</td>\n",
       "      <td>N550WN</td>\n",
       "      <td>STL</td>\n",
       "      <td>SEA</td>\n",
       "      <td>0.0</td>\n",
       "      <td>0900-0959</td>\n",
       "      <td>1200-1259</td>\n",
       "      <td>0.0</td>\n",
       "      <td>275.0</td>\n",
       "      <td>1709.0</td>\n",
       "      <td>7</td>\n",
       "      <td>NaN</td>\n",
       "      <td>NaN</td>\n",
       "      <td>NaN</td>\n",
       "      <td>NaN</td>\n",
       "      <td>NaN</td>\n",
       "    </tr>\n",
       "    <tr>\n",
       "      <th>4</th>\n",
       "      <td>8</td>\n",
       "      <td>7</td>\n",
       "      <td>WN</td>\n",
       "      <td>N8319F</td>\n",
       "      <td>STL</td>\n",
       "      <td>SFO</td>\n",
       "      <td>1.0</td>\n",
       "      <td>1800-1859</td>\n",
       "      <td>2000-2059</td>\n",
       "      <td>0.0</td>\n",
       "      <td>270.0</td>\n",
       "      <td>1735.0</td>\n",
       "      <td>7</td>\n",
       "      <td>NaN</td>\n",
       "      <td>NaN</td>\n",
       "      <td>NaN</td>\n",
       "      <td>NaN</td>\n",
       "      <td>NaN</td>\n",
       "    </tr>\n",
       "  </tbody>\n",
       "</table>\n",
       "</div>"
      ],
      "text/plain": [
       "   DAY_OF_MONTH  DAY_OF_WEEK OP_UNIQUE_CARRIER TAIL_NUM ORIGIN DEST  \\\n",
       "0             8            7                WN   N8651A    STL  SAN   \n",
       "1             8            7                WN   N939WN    STL  SAT   \n",
       "2             8            7                WN   N7741C    STL  SAT   \n",
       "3             8            7                WN   N550WN    STL  SEA   \n",
       "4             8            7                WN   N8319F    STL  SFO   \n",
       "\n",
       "   DEP_DEL15 DEP_TIME_BLK ARR_TIME_BLK  CANCELLED  CRS_ELAPSED_TIME  DISTANCE  \\\n",
       "0        0.0    1100-1159    1300-1359        0.0             245.0    1557.0   \n",
       "1        0.0    1200-1259    1400-1459        0.0             145.0     786.0   \n",
       "2        0.0    2100-2159    0001-0559        0.0             140.0     786.0   \n",
       "3        0.0    0900-0959    1200-1259        0.0             275.0    1709.0   \n",
       "4        1.0    1800-1859    2000-2059        0.0             270.0    1735.0   \n",
       "\n",
       "   DISTANCE_GROUP  CARRIER_DELAY  WEATHER_DELAY  NAS_DELAY  SECURITY_DELAY  \\\n",
       "0               7            0.0            0.0       18.0             0.0   \n",
       "1               4            NaN            NaN        NaN             NaN   \n",
       "2               4            NaN            NaN        NaN             NaN   \n",
       "3               7            NaN            NaN        NaN             NaN   \n",
       "4               7            NaN            NaN        NaN             NaN   \n",
       "\n",
       "   LATE_AIRCRAFT_DELAY  \n",
       "0                  0.0  \n",
       "1                  NaN  \n",
       "2                  NaN  \n",
       "3                  NaN  \n",
       "4                  NaN  "
      ]
     },
     "execution_count": 3,
     "metadata": {},
     "output_type": "execute_result"
    }
   ],
   "source": [
    "# INGEST FLIGHT DATA\n",
    "\n",
    "s3_client = boto3.client(\"s3\")\n",
    "\n",
    "BUCKET='ads-508-airline'\n",
    "KEY='transformed/ON_TIME_REPORTING_12.csv'\n",
    "\n",
    "response = s3_client.get_object(Bucket=BUCKET, Key=KEY)\n",
    "dec_flight = pd.read_csv(response.get(\"Body\"))\n",
    "dec_flight.head()"
   ]
  },
  {
   "cell_type": "code",
   "execution_count": 4,
   "metadata": {},
   "outputs": [
    {
     "data": {
      "text/html": [
       "<div>\n",
       "<style scoped>\n",
       "    .dataframe tbody tr th:only-of-type {\n",
       "        vertical-align: middle;\n",
       "    }\n",
       "\n",
       "    .dataframe tbody tr th {\n",
       "        vertical-align: top;\n",
       "    }\n",
       "\n",
       "    .dataframe thead th {\n",
       "        text-align: right;\n",
       "    }\n",
       "</style>\n",
       "<table border=\"1\" class=\"dataframe\">\n",
       "  <thead>\n",
       "    <tr style=\"text-align: right;\">\n",
       "      <th></th>\n",
       "      <th>MANUFACTURE_YEAR</th>\n",
       "      <th>TAIL_NUM</th>\n",
       "      <th>NUMBER_OF_SEATS</th>\n",
       "    </tr>\n",
       "  </thead>\n",
       "  <tbody>\n",
       "    <tr>\n",
       "      <th>0</th>\n",
       "      <td>1944</td>\n",
       "      <td>N54514</td>\n",
       "      <td>0.0</td>\n",
       "    </tr>\n",
       "    <tr>\n",
       "      <th>1</th>\n",
       "      <td>1945</td>\n",
       "      <td>N1651M</td>\n",
       "      <td>0.0</td>\n",
       "    </tr>\n",
       "    <tr>\n",
       "      <th>2</th>\n",
       "      <td>1953</td>\n",
       "      <td>N100CE</td>\n",
       "      <td>0.0</td>\n",
       "    </tr>\n",
       "    <tr>\n",
       "      <th>3</th>\n",
       "      <td>1953</td>\n",
       "      <td>N141FL</td>\n",
       "      <td>0.0</td>\n",
       "    </tr>\n",
       "    <tr>\n",
       "      <th>4</th>\n",
       "      <td>1953</td>\n",
       "      <td>N151FL</td>\n",
       "      <td>0.0</td>\n",
       "    </tr>\n",
       "  </tbody>\n",
       "</table>\n",
       "</div>"
      ],
      "text/plain": [
       "   MANUFACTURE_YEAR TAIL_NUM  NUMBER_OF_SEATS\n",
       "0              1944   N54514              0.0\n",
       "1              1945   N1651M              0.0\n",
       "2              1953   N100CE              0.0\n",
       "3              1953   N141FL              0.0\n",
       "4              1953   N151FL              0.0"
      ]
     },
     "execution_count": 4,
     "metadata": {},
     "output_type": "execute_result"
    }
   ],
   "source": [
    "# INGEST AIRCRAFT DATA - raw data that requires encoding='latin1'\n",
    "\n",
    "KEY='transformed/B43_AIRCRAFT_INVENTORY.csv'\n",
    "\n",
    "response = s3_client.get_object(Bucket=BUCKET, Key=KEY)\n",
    "s3_data = io.BytesIO(response.get('Body').read())\n",
    "aircraft = pd.read_csv(s3_data, encoding='latin1')\n",
    "aircraft.head()"
   ]
  },
  {
   "cell_type": "code",
   "execution_count": 5,
   "metadata": {},
   "outputs": [
    {
     "data": {
      "text/html": [
       "<div>\n",
       "<style scoped>\n",
       "    .dataframe tbody tr th:only-of-type {\n",
       "        vertical-align: middle;\n",
       "    }\n",
       "\n",
       "    .dataframe tbody tr th {\n",
       "        vertical-align: top;\n",
       "    }\n",
       "\n",
       "    .dataframe thead th {\n",
       "        text-align: right;\n",
       "    }\n",
       "</style>\n",
       "<table border=\"1\" class=\"dataframe\">\n",
       "  <thead>\n",
       "    <tr style=\"text-align: right;\">\n",
       "      <th></th>\n",
       "      <th>AIRLINE_ID</th>\n",
       "      <th>OP_UNIQUE_CARRIER</th>\n",
       "      <th>CARRIER_NAME</th>\n",
       "    </tr>\n",
       "  </thead>\n",
       "  <tbody>\n",
       "    <tr>\n",
       "      <th>0</th>\n",
       "      <td>21754</td>\n",
       "      <td>2PQ</td>\n",
       "      <td>21 Air LLC</td>\n",
       "    </tr>\n",
       "    <tr>\n",
       "      <th>1</th>\n",
       "      <td>20342</td>\n",
       "      <td>Q5</td>\n",
       "      <td>40-Mile Air</td>\n",
       "    </tr>\n",
       "    <tr>\n",
       "      <th>2</th>\n",
       "      <td>20342</td>\n",
       "      <td>WRB</td>\n",
       "      <td>40-Mile Air</td>\n",
       "    </tr>\n",
       "    <tr>\n",
       "      <th>3</th>\n",
       "      <td>19627</td>\n",
       "      <td>CIQ</td>\n",
       "      <td>A/S Conair</td>\n",
       "    </tr>\n",
       "    <tr>\n",
       "      <th>4</th>\n",
       "      <td>19072</td>\n",
       "      <td>AAE</td>\n",
       "      <td>AAA Airlines</td>\n",
       "    </tr>\n",
       "  </tbody>\n",
       "</table>\n",
       "</div>"
      ],
      "text/plain": [
       "   AIRLINE_ID OP_UNIQUE_CARRIER  CARRIER_NAME\n",
       "0       21754               2PQ    21 Air LLC\n",
       "1       20342                Q5   40-Mile Air\n",
       "2       20342               WRB   40-Mile Air\n",
       "3       19627               CIQ    A/S Conair\n",
       "4       19072               AAE  AAA Airlines"
      ]
     },
     "execution_count": 5,
     "metadata": {},
     "output_type": "execute_result"
    }
   ],
   "source": [
    "# INGEST CARRIER NAMES DICTIONARY\n",
    "\n",
    "KEY='transformed/CARRIER_DECODE.csv'\n",
    "\n",
    "response = s3_client.get_object(Bucket=BUCKET, Key=KEY)\n",
    "names = pd.read_csv(response.get(\"Body\"))\n",
    "names.head()\n"
   ]
  },
  {
   "cell_type": "code",
   "execution_count": 6,
   "metadata": {},
   "outputs": [
    {
     "data": {
      "text/html": [
       "<div>\n",
       "<style scoped>\n",
       "    .dataframe tbody tr th:only-of-type {\n",
       "        vertical-align: middle;\n",
       "    }\n",
       "\n",
       "    .dataframe tbody tr th {\n",
       "        vertical-align: top;\n",
       "    }\n",
       "\n",
       "    .dataframe thead th {\n",
       "        text-align: right;\n",
       "    }\n",
       "</style>\n",
       "<table border=\"1\" class=\"dataframe\">\n",
       "  <thead>\n",
       "    <tr style=\"text-align: right;\">\n",
       "      <th></th>\n",
       "      <th>OP_UNIQUE_CARRIER</th>\n",
       "      <th>PILOTS_COPILOTS</th>\n",
       "      <th>PASSENGER_HANDLING</th>\n",
       "      <th>PASS_GEN_SVC_ADMIN</th>\n",
       "      <th>MAINTENANCE</th>\n",
       "    </tr>\n",
       "  </thead>\n",
       "  <tbody>\n",
       "    <tr>\n",
       "      <th>0</th>\n",
       "      <td>AA</td>\n",
       "      <td>8586</td>\n",
       "      <td>8586</td>\n",
       "      <td>15502</td>\n",
       "      <td>9677</td>\n",
       "    </tr>\n",
       "    <tr>\n",
       "      <th>1</th>\n",
       "      <td>AS</td>\n",
       "      <td>2893</td>\n",
       "      <td>1062</td>\n",
       "      <td>5737</td>\n",
       "      <td>898</td>\n",
       "    </tr>\n",
       "    <tr>\n",
       "      <th>2</th>\n",
       "      <td>B6</td>\n",
       "      <td>2840</td>\n",
       "      <td>4905</td>\n",
       "      <td>3888</td>\n",
       "      <td>726</td>\n",
       "    </tr>\n",
       "    <tr>\n",
       "      <th>3</th>\n",
       "      <td>DL</td>\n",
       "      <td>9293</td>\n",
       "      <td>15331</td>\n",
       "      <td>15809</td>\n",
       "      <td>6122</td>\n",
       "    </tr>\n",
       "    <tr>\n",
       "      <th>4</th>\n",
       "      <td>F9</td>\n",
       "      <td>1473</td>\n",
       "      <td>2496</td>\n",
       "      <td>154</td>\n",
       "      <td>237</td>\n",
       "    </tr>\n",
       "  </tbody>\n",
       "</table>\n",
       "</div>"
      ],
      "text/plain": [
       "  OP_UNIQUE_CARRIER  PILOTS_COPILOTS  PASSENGER_HANDLING  PASS_GEN_SVC_ADMIN  \\\n",
       "0                AA             8586                8586               15502   \n",
       "1                AS             2893                1062                5737   \n",
       "2                B6             2840                4905                3888   \n",
       "3                DL             9293               15331               15809   \n",
       "4                F9             1473                2496                 154   \n",
       "\n",
       "   MAINTENANCE  \n",
       "0         9677  \n",
       "1          898  \n",
       "2          726  \n",
       "3         6122  \n",
       "4          237  "
      ]
     },
     "execution_count": 6,
     "metadata": {},
     "output_type": "execute_result"
    }
   ],
   "source": [
    "# INGEST CARRIER EMPLOYEE / STAFFING DATA\n",
    "\n",
    "KEY='transformed/P10_EMPLOYEES.csv'\n",
    "\n",
    "response = s3_client.get_object(Bucket=BUCKET, Key=KEY)\n",
    "employees = pd.read_csv(response.get(\"Body\"))\n",
    "employees.head()"
   ]
  },
  {
   "cell_type": "code",
   "execution_count": 7,
   "metadata": {},
   "outputs": [
    {
     "data": {
      "text/html": [
       "<div>\n",
       "<style scoped>\n",
       "    .dataframe tbody tr th:only-of-type {\n",
       "        vertical-align: middle;\n",
       "    }\n",
       "\n",
       "    .dataframe tbody tr th {\n",
       "        vertical-align: top;\n",
       "    }\n",
       "\n",
       "    .dataframe thead th {\n",
       "        text-align: right;\n",
       "    }\n",
       "</style>\n",
       "<table border=\"1\" class=\"dataframe\">\n",
       "  <thead>\n",
       "    <tr style=\"text-align: right;\">\n",
       "      <th></th>\n",
       "      <th>DATE</th>\n",
       "      <th>NAME</th>\n",
       "      <th>PRCP</th>\n",
       "      <th>SNOW</th>\n",
       "      <th>SNWD</th>\n",
       "      <th>TMAX</th>\n",
       "      <th>AWND</th>\n",
       "    </tr>\n",
       "  </thead>\n",
       "  <tbody>\n",
       "    <tr>\n",
       "      <th>0</th>\n",
       "      <td>12/1/2019</td>\n",
       "      <td>ATLANTA HARTSFIELD JACKSON INTERNATIONAL AIRPO...</td>\n",
       "      <td>0.04</td>\n",
       "      <td>64.0</td>\n",
       "      <td>67.0</td>\n",
       "      <td>270.0</td>\n",
       "      <td>16.11</td>\n",
       "    </tr>\n",
       "    <tr>\n",
       "      <th>1</th>\n",
       "      <td>12/1/2019</td>\n",
       "      <td>AUSTIN BERGSTROM INTERNATIONAL AIRPORT, TX US</td>\n",
       "      <td>0.00</td>\n",
       "      <td>62.0</td>\n",
       "      <td>66.0</td>\n",
       "      <td>360.0</td>\n",
       "      <td>10.29</td>\n",
       "    </tr>\n",
       "    <tr>\n",
       "      <th>2</th>\n",
       "      <td>12/1/2019</td>\n",
       "      <td>BALTIMORE WASHINGTON INTERNATIONAL AIRPORT, MD US</td>\n",
       "      <td>0.62</td>\n",
       "      <td>41.0</td>\n",
       "      <td>45.0</td>\n",
       "      <td>70.0</td>\n",
       "      <td>8.05</td>\n",
       "    </tr>\n",
       "    <tr>\n",
       "      <th>3</th>\n",
       "      <td>12/1/2019</td>\n",
       "      <td>CHARLOTTE DOUGLAS AIRPORT, NC US</td>\n",
       "      <td>0.60</td>\n",
       "      <td>56.0</td>\n",
       "      <td>68.0</td>\n",
       "      <td>230.0</td>\n",
       "      <td>10.29</td>\n",
       "    </tr>\n",
       "    <tr>\n",
       "      <th>4</th>\n",
       "      <td>12/1/2019</td>\n",
       "      <td>CINCINNATI MUNICIPAL AIRPORT LUNKEN FIELD, OH US</td>\n",
       "      <td>0.09</td>\n",
       "      <td>NaN</td>\n",
       "      <td>60.0</td>\n",
       "      <td>250.0</td>\n",
       "      <td>11.41</td>\n",
       "    </tr>\n",
       "  </tbody>\n",
       "</table>\n",
       "</div>"
      ],
      "text/plain": [
       "        DATE                                               NAME  PRCP  SNOW  \\\n",
       "0  12/1/2019  ATLANTA HARTSFIELD JACKSON INTERNATIONAL AIRPO...  0.04  64.0   \n",
       "1  12/1/2019      AUSTIN BERGSTROM INTERNATIONAL AIRPORT, TX US  0.00  62.0   \n",
       "2  12/1/2019  BALTIMORE WASHINGTON INTERNATIONAL AIRPORT, MD US  0.62  41.0   \n",
       "3  12/1/2019                   CHARLOTTE DOUGLAS AIRPORT, NC US  0.60  56.0   \n",
       "4  12/1/2019   CINCINNATI MUNICIPAL AIRPORT LUNKEN FIELD, OH US  0.09   NaN   \n",
       "\n",
       "   SNWD   TMAX   AWND  \n",
       "0  67.0  270.0  16.11  \n",
       "1  66.0  360.0  10.29  \n",
       "2  45.0   70.0   8.05  \n",
       "3  68.0  230.0  10.29  \n",
       "4  60.0  250.0  11.41  "
      ]
     },
     "execution_count": 7,
     "metadata": {},
     "output_type": "execute_result"
    }
   ],
   "source": [
    "# INGEST DECEMBER 2019 DAILY WEATHER OBSERVATIONS\n",
    "\n",
    "KEY='transformed/airport_weather_dec_2019.csv'\n",
    "\n",
    "response = s3_client.get_object(Bucket=BUCKET, Key=KEY)\n",
    "weather_report = pd.read_csv(response.get(\"Body\"))\n",
    "weather_report.head()"
   ]
  },
  {
   "cell_type": "code",
   "execution_count": 8,
   "metadata": {},
   "outputs": [
    {
     "data": {
      "text/html": [
       "<div>\n",
       "<style scoped>\n",
       "    .dataframe tbody tr th:only-of-type {\n",
       "        vertical-align: middle;\n",
       "    }\n",
       "\n",
       "    .dataframe tbody tr th {\n",
       "        vertical-align: top;\n",
       "    }\n",
       "\n",
       "    .dataframe thead th {\n",
       "        text-align: right;\n",
       "    }\n",
       "</style>\n",
       "<table border=\"1\" class=\"dataframe\">\n",
       "  <thead>\n",
       "    <tr style=\"text-align: right;\">\n",
       "      <th></th>\n",
       "      <th>ORIGIN_AIRPORT_ID</th>\n",
       "      <th>DISPLAY_AIRPORT_NAME</th>\n",
       "      <th>ORIGIN_CITY_NAME</th>\n",
       "      <th>NAME</th>\n",
       "    </tr>\n",
       "  </thead>\n",
       "  <tbody>\n",
       "    <tr>\n",
       "      <th>0</th>\n",
       "      <td>12992</td>\n",
       "      <td>Adams Field</td>\n",
       "      <td>Little Rock, AR</td>\n",
       "      <td>NORTH LITTLE ROCK AIRPORT, AR US</td>\n",
       "    </tr>\n",
       "    <tr>\n",
       "      <th>1</th>\n",
       "      <td>10257</td>\n",
       "      <td>Albany International</td>\n",
       "      <td>Albany, NY</td>\n",
       "      <td>ALBANY INTERNATIONAL AIRPORT, NY US</td>\n",
       "    </tr>\n",
       "    <tr>\n",
       "      <th>2</th>\n",
       "      <td>10140</td>\n",
       "      <td>Albuquerque International Sunport</td>\n",
       "      <td>Albuquerque, NM</td>\n",
       "      <td>ALBUQUERQUE INTERNATIONAL AIRPORT, NM US</td>\n",
       "    </tr>\n",
       "    <tr>\n",
       "      <th>3</th>\n",
       "      <td>10299</td>\n",
       "      <td>Anchorage International</td>\n",
       "      <td>Anchorage, AK</td>\n",
       "      <td>ANCHORAGE TED STEVENS INTERNATIONAL AIRPORT, A...</td>\n",
       "    </tr>\n",
       "    <tr>\n",
       "      <th>4</th>\n",
       "      <td>10397</td>\n",
       "      <td>Atlanta Municipal</td>\n",
       "      <td>Atlanta, GA</td>\n",
       "      <td>ATLANTA HARTSFIELD JACKSON INTERNATIONAL AIRPO...</td>\n",
       "    </tr>\n",
       "  </tbody>\n",
       "</table>\n",
       "</div>"
      ],
      "text/plain": [
       "   ORIGIN_AIRPORT_ID               DISPLAY_AIRPORT_NAME ORIGIN_CITY_NAME  \\\n",
       "0              12992                        Adams Field  Little Rock, AR   \n",
       "1              10257               Albany International       Albany, NY   \n",
       "2              10140  Albuquerque International Sunport  Albuquerque, NM   \n",
       "3              10299            Anchorage International    Anchorage, AK   \n",
       "4              10397                  Atlanta Municipal      Atlanta, GA   \n",
       "\n",
       "                                                NAME  \n",
       "0                   NORTH LITTLE ROCK AIRPORT, AR US  \n",
       "1                ALBANY INTERNATIONAL AIRPORT, NY US  \n",
       "2           ALBUQUERQUE INTERNATIONAL AIRPORT, NM US  \n",
       "3  ANCHORAGE TED STEVENS INTERNATIONAL AIRPORT, A...  \n",
       "4  ATLANTA HARTSFIELD JACKSON INTERNATIONAL AIRPO...  "
      ]
     },
     "execution_count": 8,
     "metadata": {},
     "output_type": "execute_result"
    }
   ],
   "source": [
    "# INGEST CITY AND AIRPORT NAME DICTIONARY\n",
    "\n",
    "KEY='transformed/airports_list.csv'\n",
    "\n",
    "response = s3_client.get_object(Bucket=BUCKET, Key=KEY)\n",
    "cities = pd.read_csv(response.get(\"Body\"))\n",
    "cities.head()"
   ]
  },
  {
   "cell_type": "markdown",
   "metadata": {},
   "source": [
    "xxxxxxxxxxxxxxxxxxxxxxxxxxxxxxxxxxxxxxxxxxxxxxxxxxxxxxxxxxxxxxxxxxxxxxxxxxxxxxxxxxxxx<br>\n",
    "DESCRIBE DEC_FLIGHT DATA<br>\n",
    "xxxxxxxxxxxxxxxxxxxxxxxxxxxxxxxxxxxxxxxxxxxxxxxxxxxxxxxxxxxxxxxxxxxxxxxxxxxxxxxxxxxxx<br>"
   ]
  },
  {
   "cell_type": "code",
   "execution_count": 9,
   "metadata": {},
   "outputs": [
    {
     "data": {
      "text/plain": [
       "(625763, 18)"
      ]
     },
     "execution_count": 9,
     "metadata": {},
     "output_type": "execute_result"
    }
   ],
   "source": [
    "# DESCRIBE SHAPE\n",
    "dec_flight.shape"
   ]
  },
  {
   "cell_type": "code",
   "execution_count": 10,
   "metadata": {},
   "outputs": [
    {
     "name": "stdout",
     "output_type": "stream",
     "text": [
      "<class 'pandas.core.frame.DataFrame'>\n",
      "RangeIndex: 625763 entries, 0 to 625762\n",
      "Data columns (total 18 columns):\n",
      " #   Column               Non-Null Count   Dtype  \n",
      "---  ------               --------------   -----  \n",
      " 0   DAY_OF_MONTH         625763 non-null  int64  \n",
      " 1   DAY_OF_WEEK          625763 non-null  int64  \n",
      " 2   OP_UNIQUE_CARRIER    625763 non-null  object \n",
      " 3   TAIL_NUM             625306 non-null  object \n",
      " 4   ORIGIN               625763 non-null  object \n",
      " 5   DEST                 625763 non-null  object \n",
      " 6   DEP_DEL15            620253 non-null  float64\n",
      " 7   DEP_TIME_BLK         625763 non-null  object \n",
      " 8   ARR_TIME_BLK         625763 non-null  object \n",
      " 9   CANCELLED            625763 non-null  float64\n",
      " 10  CRS_ELAPSED_TIME     625763 non-null  float64\n",
      " 11  DISTANCE             625763 non-null  float64\n",
      " 12  DISTANCE_GROUP       625763 non-null  int64  \n",
      " 13  CARRIER_DELAY        126945 non-null  float64\n",
      " 14  WEATHER_DELAY        126945 non-null  float64\n",
      " 15  NAS_DELAY            126945 non-null  float64\n",
      " 16  SECURITY_DELAY       126945 non-null  float64\n",
      " 17  LATE_AIRCRAFT_DELAY  126945 non-null  float64\n",
      "dtypes: float64(9), int64(3), object(6)\n",
      "memory usage: 85.9+ MB\n"
     ]
    }
   ],
   "source": [
    "# DESCRIBE FEATURE TYPES (object = categorical string features)\n",
    "dec_flight.info()"
   ]
  },
  {
   "cell_type": "markdown",
   "metadata": {},
   "source": [
    "xxxxxxxxxxxxxxxxxxxxxxxxxxxxxxxxxxxxxxxxxxxxxxxxxxxxxxxxxxxxxxxxxxxxxxxxxxxxxxxxxxxxx<br>\n",
    "**DEC_FLIGHT FEATURES: NAME, DESCRIPTION, DROP RATIONALE (IF APPROPRIATE)**<br>\n",
    "xxxxxxxxxxxxxxxxxxxxxxxxxxxxxxxxxxxxxxxxxxxxxxxxxxxxxxxxxxxxxxxxxxxxxxxxxxxxxxxxxxxxx<br>\n",
    "DAY_OF_MONTH - Day of the Month  <br>\n",
    "DAY_OF_WEEK - Day of the Week  - 1= MON, 2=TUES, 3=WED, 4=THUR, 5=FRI, 6=SAT, 7=SUN, 9=UNKNOWN    <br>\n",
    "OP_UNIQUE_CARRIER - Unique Carrier Code (ID) - NEEDED TO MERGE WITH EMPLOYEES AND NAMES <br>\n",
    "TAIL_NUM - Aircraft Tail # (ID)  - NEEDED TO MERGE WITH AIRCRAFT <br>\n",
    "ORIGIN - Departure Airport ID (LINKS TO WEATHER STATIONS)  <br>\n",
    "DEST - Arrival Airport ID (LINKS TO WEATHER STATIONS)  <br>\n",
    "DEP_DEL15 - Departure Delay Indicator, 15 minutes or more(1=YES) - **TARGET FEATURE**  <br>\n",
    "DEP_TIME_BLK - Scheduled Departure Time block, Hourly interval  <br>\n",
    "ARR_TIME_BLK - Scheduled Arrival Time Block, HOURLY INTERVALS  <br>\n",
    "CANCELLED - Cancelled Flight Indicator (1=YES)  <br>\n",
    "CRS_ELAPSED_TIME - Scheduled Elapsed Time  <br>\n",
    "DISTANCE - Distance Traveled in Miles <br>\n",
    "DISTANCE_GROUP - Distance Traveled block in increments of 250 miles (1 < 250, 2 = 250-499, ..., 11=2500+ miles <br>\n",
    "CARRIER_DELAY - Carrier Delay in Minutes <br>\n",
    "WEATHER_DELAY - Extreme Weather Delay in Minutes  <br>\n",
    "NAS_DELAY - National Air System Delay in Minutes  <br> \n",
    "SECURITY_DELAY - Security Delay in Minutes <br>\n",
    "LATE_AIRCRAFT_DELAY - Late Arrival Delay in Minutes<br>"
   ]
  },
  {
   "cell_type": "code",
   "execution_count": 11,
   "metadata": {},
   "outputs": [
    {
     "data": {
      "text/plain": [
       "DAY_OF_MONTH                0\n",
       "DAY_OF_WEEK                 0\n",
       "OP_UNIQUE_CARRIER           0\n",
       "TAIL_NUM                  457\n",
       "ORIGIN                      0\n",
       "DEST                        0\n",
       "DEP_DEL15                5510\n",
       "DEP_TIME_BLK                0\n",
       "ARR_TIME_BLK                0\n",
       "CANCELLED                   0\n",
       "CRS_ELAPSED_TIME            0\n",
       "DISTANCE                    0\n",
       "DISTANCE_GROUP              0\n",
       "CARRIER_DELAY          498818\n",
       "WEATHER_DELAY          498818\n",
       "NAS_DELAY              498818\n",
       "SECURITY_DELAY         498818\n",
       "LATE_AIRCRAFT_DELAY    498818\n",
       "dtype: int64"
      ]
     },
     "execution_count": 11,
     "metadata": {},
     "output_type": "execute_result"
    }
   ],
   "source": [
    "# EXPLORE MISSINGNESS OF EACH FEATURE\n",
    "dec_flight.isna().sum()"
   ]
  },
  {
   "cell_type": "markdown",
   "metadata": {},
   "source": [
    "**FEATURE MISSINGNESS NOTES:**<br>\n",
    "\n",
    "1 - 457 observations with missing Tail Number.<br>\n",
    "2 - 5510 observations with missing target variables - drop observations in Module 4.<br>\n",
    "3 - 498,818 observations missing delay flags/minutes delayed info - likely on time departures.<br>"
   ]
  },
  {
   "cell_type": "markdown",
   "metadata": {},
   "source": [
    "xxxxxxxxxxxxxxxxxxxxxxxxxxxxxxxxxxxxxxxxxxxxxxxxxxxxxxxxxxxxxxxxxxxxxxxxxxxxxxxxxxxxx<br>\n",
    "**DEC_FLIGHT NUMERIC FEATURES DISTRIBUTION**<br>\n",
    "xxxxxxxxxxxxxxxxxxxxxxxxxxxxxxxxxxxxxxxxxxxxxxxxxxxxxxxxxxxxxxxxxxxxxxxxxxxxxxxxxxxxx<br>"
   ]
  },
  {
   "cell_type": "code",
   "execution_count": 12,
   "metadata": {},
   "outputs": [
    {
     "data": {
      "image/png": "[encoded data removed]",
      "text/plain": [
       "<Figure size 1440x1440 with 12 Axes>"
      ]
     },
     "metadata": {
      "needs_background": "light"
     },
     "output_type": "display_data"
    }
   ],
   "source": [
    "# Graph Distributions of numerical features\n",
    "histlist = dec_flight.hist(figsize = (20,20))"
   ]
  },
  {
   "cell_type": "markdown",
   "metadata": {},
   "source": [
    "**Interesting Numeric Feature distribution discussion:** <br> \n",
    "\n",
    "Day of Month - Small variations throughout the month with peak on 30th. <br>\n",
    "Day of Week - Sunday + Monday = Peak | Satuday = low | Tuesday - Friday Variation<br>\n",
    "Cancelled - Cancelled flights need to be removed b/c delay info is not available - Module 4<br>\n",
    "CRS (Scheduled) Elapsed time - Right-skewed - most flights are shorter in duration <br>\n",
    "Distance / Distance Group - VERY right-skewed with almost 50% of flights below 500 miles.<br>\n",
    "DEP_DELAY15 (Target Variable) - IMBALANCED DATA SET - will need to be balanced before ML <br>\n",
    "Delay codes disprortionally 0 = no delay - difficult to interpret. <br>"
   ]
  },
  {
   "cell_type": "markdown",
   "metadata": {},
   "source": [
    "## What days of the month are best and worst for departure delays?"
   ]
  },
  {
   "cell_type": "code",
   "execution_count": 13,
   "metadata": {},
   "outputs": [
    {
     "data": {
      "text/html": [
       "<div>\n",
       "<style scoped>\n",
       "    .dataframe tbody tr th:only-of-type {\n",
       "        vertical-align: middle;\n",
       "    }\n",
       "\n",
       "    .dataframe tbody tr th {\n",
       "        vertical-align: top;\n",
       "    }\n",
       "\n",
       "    .dataframe thead th {\n",
       "        text-align: right;\n",
       "    }\n",
       "</style>\n",
       "<table border=\"1\" class=\"dataframe\">\n",
       "  <thead>\n",
       "    <tr style=\"text-align: right;\">\n",
       "      <th>DEP_DEL15</th>\n",
       "      <th>0.0</th>\n",
       "      <th>1.0</th>\n",
       "      <th>Total</th>\n",
       "      <th>Percent_Delayed</th>\n",
       "    </tr>\n",
       "    <tr>\n",
       "      <th>DAY_OF_MONTH</th>\n",
       "      <th></th>\n",
       "      <th></th>\n",
       "      <th></th>\n",
       "      <th></th>\n",
       "    </tr>\n",
       "  </thead>\n",
       "  <tbody>\n",
       "    <tr>\n",
       "      <th>7</th>\n",
       "      <td>14303</td>\n",
       "      <td>1732</td>\n",
       "      <td>16035</td>\n",
       "      <td>0.108014</td>\n",
       "    </tr>\n",
       "    <tr>\n",
       "      <th>25</th>\n",
       "      <td>14579</td>\n",
       "      <td>1884</td>\n",
       "      <td>16463</td>\n",
       "      <td>0.114438</td>\n",
       "    </tr>\n",
       "    <tr>\n",
       "      <th>8</th>\n",
       "      <td>17762</td>\n",
       "      <td>2459</td>\n",
       "      <td>20221</td>\n",
       "      <td>0.121606</td>\n",
       "    </tr>\n",
       "    <tr>\n",
       "      <th>5</th>\n",
       "      <td>18275</td>\n",
       "      <td>2906</td>\n",
       "      <td>21181</td>\n",
       "      <td>0.137198</td>\n",
       "    </tr>\n",
       "    <tr>\n",
       "      <th>6</th>\n",
       "      <td>18070</td>\n",
       "      <td>3116</td>\n",
       "      <td>21186</td>\n",
       "      <td>0.147078</td>\n",
       "    </tr>\n",
       "    <tr>\n",
       "      <th>10</th>\n",
       "      <td>16760</td>\n",
       "      <td>2909</td>\n",
       "      <td>19669</td>\n",
       "      <td>0.147898</td>\n",
       "    </tr>\n",
       "    <tr>\n",
       "      <th>15</th>\n",
       "      <td>17126</td>\n",
       "      <td>3057</td>\n",
       "      <td>20183</td>\n",
       "      <td>0.151464</td>\n",
       "    </tr>\n",
       "    <tr>\n",
       "      <th>12</th>\n",
       "      <td>17992</td>\n",
       "      <td>3217</td>\n",
       "      <td>21209</td>\n",
       "      <td>0.151681</td>\n",
       "    </tr>\n",
       "    <tr>\n",
       "      <th>24</th>\n",
       "      <td>13902</td>\n",
       "      <td>2769</td>\n",
       "      <td>16671</td>\n",
       "      <td>0.166097</td>\n",
       "    </tr>\n",
       "    <tr>\n",
       "      <th>14</th>\n",
       "      <td>13307</td>\n",
       "      <td>2824</td>\n",
       "      <td>16131</td>\n",
       "      <td>0.175067</td>\n",
       "    </tr>\n",
       "    <tr>\n",
       "      <th>31</th>\n",
       "      <td>14214</td>\n",
       "      <td>3059</td>\n",
       "      <td>17273</td>\n",
       "      <td>0.177097</td>\n",
       "    </tr>\n",
       "    <tr>\n",
       "      <th>27</th>\n",
       "      <td>17091</td>\n",
       "      <td>3851</td>\n",
       "      <td>20942</td>\n",
       "      <td>0.183889</td>\n",
       "    </tr>\n",
       "    <tr>\n",
       "      <th>16</th>\n",
       "      <td>16932</td>\n",
       "      <td>3954</td>\n",
       "      <td>20886</td>\n",
       "      <td>0.189313</td>\n",
       "    </tr>\n",
       "    <tr>\n",
       "      <th>4</th>\n",
       "      <td>16227</td>\n",
       "      <td>3893</td>\n",
       "      <td>20120</td>\n",
       "      <td>0.193489</td>\n",
       "    </tr>\n",
       "    <tr>\n",
       "      <th>26</th>\n",
       "      <td>16736</td>\n",
       "      <td>4232</td>\n",
       "      <td>20968</td>\n",
       "      <td>0.201831</td>\n",
       "    </tr>\n",
       "    <tr>\n",
       "      <th>13</th>\n",
       "      <td>16839</td>\n",
       "      <td>4357</td>\n",
       "      <td>21196</td>\n",
       "      <td>0.205558</td>\n",
       "    </tr>\n",
       "    <tr>\n",
       "      <th>Total</th>\n",
       "      <td>492096</td>\n",
       "      <td>128157</td>\n",
       "      <td>620253</td>\n",
       "      <td>0.206621</td>\n",
       "    </tr>\n",
       "    <tr>\n",
       "      <th>20</th>\n",
       "      <td>16868</td>\n",
       "      <td>4483</td>\n",
       "      <td>21351</td>\n",
       "      <td>0.209967</td>\n",
       "    </tr>\n",
       "    <tr>\n",
       "      <th>21</th>\n",
       "      <td>15726</td>\n",
       "      <td>4212</td>\n",
       "      <td>19938</td>\n",
       "      <td>0.211255</td>\n",
       "    </tr>\n",
       "    <tr>\n",
       "      <th>11</th>\n",
       "      <td>15720</td>\n",
       "      <td>4410</td>\n",
       "      <td>20130</td>\n",
       "      <td>0.219076</td>\n",
       "    </tr>\n",
       "    <tr>\n",
       "      <th>19</th>\n",
       "      <td>16478</td>\n",
       "      <td>4771</td>\n",
       "      <td>21249</td>\n",
       "      <td>0.224528</td>\n",
       "    </tr>\n",
       "    <tr>\n",
       "      <th>18</th>\n",
       "      <td>15605</td>\n",
       "      <td>4790</td>\n",
       "      <td>20395</td>\n",
       "      <td>0.234861</td>\n",
       "    </tr>\n",
       "    <tr>\n",
       "      <th>9</th>\n",
       "      <td>15855</td>\n",
       "      <td>4907</td>\n",
       "      <td>20762</td>\n",
       "      <td>0.236345</td>\n",
       "    </tr>\n",
       "    <tr>\n",
       "      <th>3</th>\n",
       "      <td>15347</td>\n",
       "      <td>4769</td>\n",
       "      <td>20116</td>\n",
       "      <td>0.237075</td>\n",
       "    </tr>\n",
       "    <tr>\n",
       "      <th>30</th>\n",
       "      <td>15674</td>\n",
       "      <td>5119</td>\n",
       "      <td>20793</td>\n",
       "      <td>0.246189</td>\n",
       "    </tr>\n",
       "    <tr>\n",
       "      <th>29</th>\n",
       "      <td>15595</td>\n",
       "      <td>5144</td>\n",
       "      <td>20739</td>\n",
       "      <td>0.248035</td>\n",
       "    </tr>\n",
       "    <tr>\n",
       "      <th>17</th>\n",
       "      <td>14537</td>\n",
       "      <td>4943</td>\n",
       "      <td>19480</td>\n",
       "      <td>0.253747</td>\n",
       "    </tr>\n",
       "    <tr>\n",
       "      <th>22</th>\n",
       "      <td>15206</td>\n",
       "      <td>5730</td>\n",
       "      <td>20936</td>\n",
       "      <td>0.273691</td>\n",
       "    </tr>\n",
       "    <tr>\n",
       "      <th>23</th>\n",
       "      <td>15125</td>\n",
       "      <td>5795</td>\n",
       "      <td>20920</td>\n",
       "      <td>0.277008</td>\n",
       "    </tr>\n",
       "    <tr>\n",
       "      <th>28</th>\n",
       "      <td>14195</td>\n",
       "      <td>5449</td>\n",
       "      <td>19644</td>\n",
       "      <td>0.277387</td>\n",
       "    </tr>\n",
       "    <tr>\n",
       "      <th>2</th>\n",
       "      <td>14894</td>\n",
       "      <td>6402</td>\n",
       "      <td>21296</td>\n",
       "      <td>0.300620</td>\n",
       "    </tr>\n",
       "    <tr>\n",
       "      <th>1</th>\n",
       "      <td>15156</td>\n",
       "      <td>7014</td>\n",
       "      <td>22170</td>\n",
       "      <td>0.316373</td>\n",
       "    </tr>\n",
       "  </tbody>\n",
       "</table>\n",
       "</div>"
      ],
      "text/plain": [
       "DEP_DEL15        0.0     1.0   Total  Percent_Delayed\n",
       "DAY_OF_MONTH                                         \n",
       "7              14303    1732   16035         0.108014\n",
       "25             14579    1884   16463         0.114438\n",
       "8              17762    2459   20221         0.121606\n",
       "5              18275    2906   21181         0.137198\n",
       "6              18070    3116   21186         0.147078\n",
       "10             16760    2909   19669         0.147898\n",
       "15             17126    3057   20183         0.151464\n",
       "12             17992    3217   21209         0.151681\n",
       "24             13902    2769   16671         0.166097\n",
       "14             13307    2824   16131         0.175067\n",
       "31             14214    3059   17273         0.177097\n",
       "27             17091    3851   20942         0.183889\n",
       "16             16932    3954   20886         0.189313\n",
       "4              16227    3893   20120         0.193489\n",
       "26             16736    4232   20968         0.201831\n",
       "13             16839    4357   21196         0.205558\n",
       "Total         492096  128157  620253         0.206621\n",
       "20             16868    4483   21351         0.209967\n",
       "21             15726    4212   19938         0.211255\n",
       "11             15720    4410   20130         0.219076\n",
       "19             16478    4771   21249         0.224528\n",
       "18             15605    4790   20395         0.234861\n",
       "9              15855    4907   20762         0.236345\n",
       "3              15347    4769   20116         0.237075\n",
       "30             15674    5119   20793         0.246189\n",
       "29             15595    5144   20739         0.248035\n",
       "17             14537    4943   19480         0.253747\n",
       "22             15206    5730   20936         0.273691\n",
       "23             15125    5795   20920         0.277008\n",
       "28             14195    5449   19644         0.277387\n",
       "2              14894    6402   21296         0.300620\n",
       "1              15156    7014   22170         0.316373"
      ]
     },
     "execution_count": 13,
     "metadata": {},
     "output_type": "execute_result"
    }
   ],
   "source": [
    "# Explore DAY_OF_MONTH with DEP_DEL15\n",
    "month = pd.crosstab(dec_flight['DAY_OF_MONTH'], dec_flight['DEP_DEL15'])\n",
    "month['Total'] = month.sum(axis=1)\n",
    "month.loc['Total'] = month.sum()\n",
    "month['Percent_Delayed'] = ((month.iloc[:,1])/((month.iloc[:,0])+(month.iloc[:,1])))\n",
    "month = month.sort_values('Percent_Delayed')\n",
    "month"
   ]
  },
  {
   "cell_type": "markdown",
   "metadata": {},
   "source": [
    "**Summary:**<br>\n",
    "Days of the month show differences, but no obvious pattern - let's explore day of the week."
   ]
  },
  {
   "cell_type": "markdown",
   "metadata": {},
   "source": [
    "## What day of the week is the best and worst for departure delays?"
   ]
  },
  {
   "cell_type": "code",
   "execution_count": 14,
   "metadata": {},
   "outputs": [
    {
     "data": {
      "text/html": [
       "<div>\n",
       "<style scoped>\n",
       "    .dataframe tbody tr th:only-of-type {\n",
       "        vertical-align: middle;\n",
       "    }\n",
       "\n",
       "    .dataframe tbody tr th {\n",
       "        vertical-align: top;\n",
       "    }\n",
       "\n",
       "    .dataframe thead th {\n",
       "        text-align: right;\n",
       "    }\n",
       "</style>\n",
       "<table border=\"1\" class=\"dataframe\">\n",
       "  <thead>\n",
       "    <tr style=\"text-align: right;\">\n",
       "      <th>DEP_DEL15</th>\n",
       "      <th>0.0</th>\n",
       "      <th>1.0</th>\n",
       "      <th>Total</th>\n",
       "      <th>Percent_Delayed</th>\n",
       "    </tr>\n",
       "    <tr>\n",
       "      <th>DAY_OF_WEEK</th>\n",
       "      <th></th>\n",
       "      <th></th>\n",
       "      <th></th>\n",
       "      <th></th>\n",
       "    </tr>\n",
       "  </thead>\n",
       "  <tbody>\n",
       "    <tr>\n",
       "      <th>4</th>\n",
       "      <td>69481</td>\n",
       "      <td>15126</td>\n",
       "      <td>84607</td>\n",
       "      <td>0.178780</td>\n",
       "    </tr>\n",
       "    <tr>\n",
       "      <th>5</th>\n",
       "      <td>68868</td>\n",
       "      <td>15807</td>\n",
       "      <td>84675</td>\n",
       "      <td>0.186678</td>\n",
       "    </tr>\n",
       "    <tr>\n",
       "      <th>3</th>\n",
       "      <td>62131</td>\n",
       "      <td>14977</td>\n",
       "      <td>77108</td>\n",
       "      <td>0.194234</td>\n",
       "    </tr>\n",
       "    <tr>\n",
       "      <th>2</th>\n",
       "      <td>74760</td>\n",
       "      <td>18449</td>\n",
       "      <td>93209</td>\n",
       "      <td>0.197932</td>\n",
       "    </tr>\n",
       "    <tr>\n",
       "      <th>6</th>\n",
       "      <td>57531</td>\n",
       "      <td>14217</td>\n",
       "      <td>71748</td>\n",
       "      <td>0.198152</td>\n",
       "    </tr>\n",
       "    <tr>\n",
       "      <th>Total</th>\n",
       "      <td>492096</td>\n",
       "      <td>128157</td>\n",
       "      <td>620253</td>\n",
       "      <td>0.206621</td>\n",
       "    </tr>\n",
       "    <tr>\n",
       "      <th>7</th>\n",
       "      <td>80845</td>\n",
       "      <td>23404</td>\n",
       "      <td>104249</td>\n",
       "      <td>0.224501</td>\n",
       "    </tr>\n",
       "    <tr>\n",
       "      <th>1</th>\n",
       "      <td>78480</td>\n",
       "      <td>26177</td>\n",
       "      <td>104657</td>\n",
       "      <td>0.250122</td>\n",
       "    </tr>\n",
       "  </tbody>\n",
       "</table>\n",
       "</div>"
      ],
      "text/plain": [
       "DEP_DEL15       0.0     1.0   Total  Percent_Delayed\n",
       "DAY_OF_WEEK                                         \n",
       "4             69481   15126   84607         0.178780\n",
       "5             68868   15807   84675         0.186678\n",
       "3             62131   14977   77108         0.194234\n",
       "2             74760   18449   93209         0.197932\n",
       "6             57531   14217   71748         0.198152\n",
       "Total        492096  128157  620253         0.206621\n",
       "7             80845   23404  104249         0.224501\n",
       "1             78480   26177  104657         0.250122"
      ]
     },
     "execution_count": 14,
     "metadata": {},
     "output_type": "execute_result"
    }
   ],
   "source": [
    "# Explore DAY_OF_WEEK with DEP_DEL15\n",
    "week = pd.crosstab(dec_flight['DAY_OF_WEEK'], dec_flight['DEP_DEL15'])\n",
    "week['Total'] = week.sum(axis=1)\n",
    "week.loc['Total'] = week.sum()\n",
    "week['Percent_Delayed'] = ((week.iloc[:,1])/((week.iloc[:,0])+(week.iloc[:,1])))\n",
    "week = week.sort_values('Percent_Delayed')\n",
    "week"
   ]
  },
  {
   "cell_type": "markdown",
   "metadata": {},
   "source": [
    "**Summary:**<br>\n",
    "The best days of the week are 4 (Thursday) @ 17.9% and 5 (Friday) @ 18.7%.<br>\n",
    "The worst days of the week are 1 (Monday) @ 25% and 7 (Sunday) @ 22.5%.<br>"
   ]
  },
  {
   "cell_type": "markdown",
   "metadata": {},
   "source": [
    "## What distance groups perform best and worst for departure delays?"
   ]
  },
  {
   "cell_type": "code",
   "execution_count": 15,
   "metadata": {},
   "outputs": [
    {
     "data": {
      "text/html": [
       "<div>\n",
       "<style scoped>\n",
       "    .dataframe tbody tr th:only-of-type {\n",
       "        vertical-align: middle;\n",
       "    }\n",
       "\n",
       "    .dataframe tbody tr th {\n",
       "        vertical-align: top;\n",
       "    }\n",
       "\n",
       "    .dataframe thead th {\n",
       "        text-align: right;\n",
       "    }\n",
       "</style>\n",
       "<table border=\"1\" class=\"dataframe\">\n",
       "  <thead>\n",
       "    <tr style=\"text-align: right;\">\n",
       "      <th>DEP_DEL15</th>\n",
       "      <th>0.0</th>\n",
       "      <th>1.0</th>\n",
       "      <th>Total</th>\n",
       "      <th>Percent_Delayed</th>\n",
       "    </tr>\n",
       "    <tr>\n",
       "      <th>DISTANCE_GROUP</th>\n",
       "      <th></th>\n",
       "      <th></th>\n",
       "      <th></th>\n",
       "      <th></th>\n",
       "    </tr>\n",
       "  </thead>\n",
       "  <tbody>\n",
       "    <tr>\n",
       "      <th>1</th>\n",
       "      <td>63452</td>\n",
       "      <td>14152</td>\n",
       "      <td>77604</td>\n",
       "      <td>0.182362</td>\n",
       "    </tr>\n",
       "    <tr>\n",
       "      <th>3</th>\n",
       "      <td>98656</td>\n",
       "      <td>24926</td>\n",
       "      <td>123582</td>\n",
       "      <td>0.201696</td>\n",
       "    </tr>\n",
       "    <tr>\n",
       "      <th>Total</th>\n",
       "      <td>492096</td>\n",
       "      <td>128157</td>\n",
       "      <td>620253</td>\n",
       "      <td>0.206621</td>\n",
       "    </tr>\n",
       "    <tr>\n",
       "      <th>4</th>\n",
       "      <td>77200</td>\n",
       "      <td>20107</td>\n",
       "      <td>97307</td>\n",
       "      <td>0.206635</td>\n",
       "    </tr>\n",
       "    <tr>\n",
       "      <th>2</th>\n",
       "      <td>117550</td>\n",
       "      <td>30683</td>\n",
       "      <td>148233</td>\n",
       "      <td>0.206992</td>\n",
       "    </tr>\n",
       "    <tr>\n",
       "      <th>6</th>\n",
       "      <td>21412</td>\n",
       "      <td>5642</td>\n",
       "      <td>27054</td>\n",
       "      <td>0.208546</td>\n",
       "    </tr>\n",
       "    <tr>\n",
       "      <th>10</th>\n",
       "      <td>12621</td>\n",
       "      <td>3554</td>\n",
       "      <td>16175</td>\n",
       "      <td>0.219722</td>\n",
       "    </tr>\n",
       "    <tr>\n",
       "      <th>5</th>\n",
       "      <td>54398</td>\n",
       "      <td>15357</td>\n",
       "      <td>69755</td>\n",
       "      <td>0.220156</td>\n",
       "    </tr>\n",
       "    <tr>\n",
       "      <th>7</th>\n",
       "      <td>20416</td>\n",
       "      <td>5856</td>\n",
       "      <td>26272</td>\n",
       "      <td>0.222899</td>\n",
       "    </tr>\n",
       "    <tr>\n",
       "      <th>9</th>\n",
       "      <td>7205</td>\n",
       "      <td>2086</td>\n",
       "      <td>9291</td>\n",
       "      <td>0.224518</td>\n",
       "    </tr>\n",
       "    <tr>\n",
       "      <th>11</th>\n",
       "      <td>8931</td>\n",
       "      <td>2640</td>\n",
       "      <td>11571</td>\n",
       "      <td>0.228157</td>\n",
       "    </tr>\n",
       "    <tr>\n",
       "      <th>8</th>\n",
       "      <td>10255</td>\n",
       "      <td>3154</td>\n",
       "      <td>13409</td>\n",
       "      <td>0.235215</td>\n",
       "    </tr>\n",
       "  </tbody>\n",
       "</table>\n",
       "</div>"
      ],
      "text/plain": [
       "DEP_DEL15          0.0     1.0   Total  Percent_Delayed\n",
       "DISTANCE_GROUP                                         \n",
       "1                63452   14152   77604         0.182362\n",
       "3                98656   24926  123582         0.201696\n",
       "Total           492096  128157  620253         0.206621\n",
       "4                77200   20107   97307         0.206635\n",
       "2               117550   30683  148233         0.206992\n",
       "6                21412    5642   27054         0.208546\n",
       "10               12621    3554   16175         0.219722\n",
       "5                54398   15357   69755         0.220156\n",
       "7                20416    5856   26272         0.222899\n",
       "9                 7205    2086    9291         0.224518\n",
       "11                8931    2640   11571         0.228157\n",
       "8                10255    3154   13409         0.235215"
      ]
     },
     "execution_count": 15,
     "metadata": {},
     "output_type": "execute_result"
    }
   ],
   "source": [
    "# Explore DISTANCE_GROUP with DEP_DEL15\n",
    "Dist = pd.crosstab(dec_flight['DISTANCE_GROUP'], dec_flight['DEP_DEL15'])\n",
    "Dist['Total'] = Dist.sum(axis=1)\n",
    "Dist.loc['Total'] = Dist.sum()\n",
    "Dist['Percent_Delayed'] = ((Dist.iloc[:,1])/((Dist.iloc[:,0])+(Dist.iloc[:,1])))\n",
    "Dist = Dist.sort_values('Percent_Delayed')\n",
    "Dist"
   ]
  },
  {
   "cell_type": "markdown",
   "metadata": {},
   "source": [
    "**Summary:*<br>\n",
    "The best distance groups are 1 (<250 miles) @ 18.2% and 3 (500-749 miles) @ 21.2%.<br>\n",
    "The worst distance groups are 8 (1750-1999 Miles) @ 23.5% and 11 (>2500 Miles) @ 23.5%.<br>"
   ]
  },
  {
   "cell_type": "markdown",
   "metadata": {},
   "source": [
    "xxxxxxxxxxxxxxxxxxxxxxxxxxxxxxxxxxxxxxxxxxxxxxxxxxxxxxxxxxxxxxxxxxxxxxxxxxxxxxxxxxxxx<br>\n",
    "**DEC_FLIGHT OBJECT FEATURES DISTRIBUTION**<br>\n",
    "xxxxxxxxxxxxxxxxxxxxxxxxxxxxxxxxxxxxxxxxxxxxxxxxxxxxxxxxxxxxxxxxxxxxxxxxxxxxxxxxxxxxx<br>"
   ]
  },
  {
   "cell_type": "code",
   "execution_count": 16,
   "metadata": {},
   "outputs": [
    {
     "data": {
      "text/plain": [
       "OP_UNIQUE_CARRIER      17\n",
       "TAIL_NUM             5478\n",
       "ORIGIN                350\n",
       "DEST                  350\n",
       "DEP_TIME_BLK           19\n",
       "ARR_TIME_BLK           19\n",
       "dtype: int64"
      ]
     },
     "execution_count": 16,
     "metadata": {},
     "output_type": "execute_result"
    }
   ],
   "source": [
    "# Count the unique values of categorical/object-stored features\n",
    "dec_flight[['OP_UNIQUE_CARRIER', 'TAIL_NUM', 'ORIGIN', 'DEST','DEP_TIME_BLK', 'ARR_TIME_BLK']].nunique()"
   ]
  },
  {
   "cell_type": "markdown",
   "metadata": {},
   "source": [
    "**NOTE:**  \n",
    "High cardinality in Tail_Num, Origin, Dest make analysis difficult."
   ]
  },
  {
   "cell_type": "code",
   "execution_count": 17,
   "metadata": {},
   "outputs": [
    {
     "data": {
      "text/plain": [
       "<matplotlib.axes._subplots.AxesSubplot at 0x7f6d7b7c9ad0>"
      ]
     },
     "execution_count": 17,
     "metadata": {},
     "output_type": "execute_result"
    },
    {
     "data": {
      "image/png": "[encoded data removed]",
      "text/plain": [
       "<Figure size 432x288 with 1 Axes>"
      ]
     },
     "metadata": {
      "needs_background": "light"
     },
     "output_type": "display_data"
    }
   ],
   "source": [
    "# Carrier Distribution\n",
    "dec_flight.groupby('OP_UNIQUE_CARRIER').size().plot.bar()"
   ]
  },
  {
   "cell_type": "markdown",
   "metadata": {},
   "source": [
    "**Note:**<br>\n",
    "We see a significant variation in the number of flights per carrier. <br>\n",
    "\n",
    "Of the 17 carriers, AA (American Airlines), DL (Delta Airlines) , OO (Skywest - regional), WN (Southwest), and UA (United Airlines) are the leaders in terms of volume. <br>\n"
   ]
  },
  {
   "cell_type": "markdown",
   "metadata": {},
   "source": [
    "## What are the best and worst performing airlines for departure delays?"
   ]
  },
  {
   "cell_type": "code",
   "execution_count": 18,
   "metadata": {},
   "outputs": [
    {
     "name": "stdout",
     "output_type": "stream",
     "text": [
      "DEP_DEL15             0.0     1.0   Total  Percent_Delayed\n",
      "OP_UNIQUE_CARRIER                                         \n",
      "HA                   6618     651    7269         0.089558\n",
      "DL                  68764   12736   81500         0.156270\n",
      "9E                  19174    3960   23134         0.171177\n",
      "AA                  65242   14001   79243         0.176684\n",
      "MQ                  21869    4877   26746         0.182345\n",
      "NK                  14064    3146   17210         0.182801\n",
      "YX                  23081    5263   28344         0.185683\n",
      "UA                  41276    9889   51165         0.193277\n",
      "OO                  56526   14016   70542         0.198690\n",
      "Total              492096  128157  620253         0.206621\n",
      "OH                  18804    5218   24022         0.217218\n",
      "EV                   8569    2409   10978         0.219439\n",
      "AS                  16700    5073   21773         0.232995\n",
      "YV                  14221    4338   18559         0.233741\n",
      "G4                   7124    2191    9315         0.235212\n",
      "F9                   9135    3007   12142         0.247653\n",
      "WN                  83724   29540  113264         0.260807\n",
      "B6                  17205    7842   25047         0.313091\n"
     ]
    }
   ],
   "source": [
    "# Explore OP_UNIQUE_CARRIER with DEP_DEL15\n",
    "carrier = pd.crosstab(dec_flight['OP_UNIQUE_CARRIER'], dec_flight['DEP_DEL15'])\n",
    "carrier['Total'] = carrier.sum(axis=1)\n",
    "carrier.loc['Total'] = carrier.sum()\n",
    "carrier['Percent_Delayed'] = ((carrier.iloc[:,1])/((carrier.iloc[:,0])+(carrier.iloc[:,1])))\n",
    "carrier = carrier.sort_values('Percent_Delayed')\n",
    "print(carrier)"
   ]
  },
  {
   "cell_type": "markdown",
   "metadata": {},
   "source": [
    "**Summary:**<br>\n",
    "We note a wide range of percent of departures delayed by carrier. This could indicate that carrier-specific data (such as staffing) could be good indicators for predicting delays.<br>\n",
    "\n",
    "Mean % Delayed departures = 20.7% <br>\n",
    "Worst performaing carriers = B6 (JetBlue) @ 31.3% and WN (Southwest) @ 26.1%<br>\n",
    "Best performing carriers = HA (Hawaiian Airlines) @ 9% and DL (Delta Airlines) @ 15.6%<br>"
   ]
  },
  {
   "cell_type": "code",
   "execution_count": 19,
   "metadata": {},
   "outputs": [
    {
     "data": {
      "text/plain": [
       "<matplotlib.axes._subplots.AxesSubplot at 0x7f6d79ee4290>"
      ]
     },
     "execution_count": 19,
     "metadata": {},
     "output_type": "execute_result"
    },
    {
     "data": {
      "image/png": "[encoded data removed]",
      "text/plain": [
       "<Figure size 432x288 with 1 Axes>"
      ]
     },
     "metadata": {
      "needs_background": "light"
     },
     "output_type": "display_data"
    }
   ],
   "source": [
    "# Departure Time Block distribution\n",
    "dec_flight.groupby('DEP_TIME_BLK').size().plot.bar()"
   ]
  },
  {
   "cell_type": "markdown",
   "metadata": {},
   "source": [
    "**Summary:**<br>\n",
    "Highest number of departures from 6-659am, lowest from 11-1159pm.<br>\n",
    "Hourly variations exist as well<br>"
   ]
  },
  {
   "cell_type": "markdown",
   "metadata": {},
   "source": [
    "## What are the best and worst performing time blocks for departure delays?"
   ]
  },
  {
   "cell_type": "code",
   "execution_count": 20,
   "metadata": {},
   "outputs": [
    {
     "data": {
      "text/html": [
       "<div>\n",
       "<style scoped>\n",
       "    .dataframe tbody tr th:only-of-type {\n",
       "        vertical-align: middle;\n",
       "    }\n",
       "\n",
       "    .dataframe tbody tr th {\n",
       "        vertical-align: top;\n",
       "    }\n",
       "\n",
       "    .dataframe thead th {\n",
       "        text-align: right;\n",
       "    }\n",
       "</style>\n",
       "<table border=\"1\" class=\"dataframe\">\n",
       "  <thead>\n",
       "    <tr style=\"text-align: right;\">\n",
       "      <th>DEP_DEL15</th>\n",
       "      <th>0.0</th>\n",
       "      <th>1.0</th>\n",
       "      <th>Total</th>\n",
       "      <th>Percent_Delayed</th>\n",
       "    </tr>\n",
       "    <tr>\n",
       "      <th>DEP_TIME_BLK</th>\n",
       "      <th></th>\n",
       "      <th></th>\n",
       "      <th></th>\n",
       "      <th></th>\n",
       "    </tr>\n",
       "  </thead>\n",
       "  <tbody>\n",
       "    <tr>\n",
       "      <th>0600-0659</th>\n",
       "      <td>42566</td>\n",
       "      <td>3952</td>\n",
       "      <td>46518</td>\n",
       "      <td>0.084956</td>\n",
       "    </tr>\n",
       "    <tr>\n",
       "      <th>0001-0559</th>\n",
       "      <td>17565</td>\n",
       "      <td>1964</td>\n",
       "      <td>19529</td>\n",
       "      <td>0.100568</td>\n",
       "    </tr>\n",
       "    <tr>\n",
       "      <th>0700-0759</th>\n",
       "      <td>36653</td>\n",
       "      <td>4376</td>\n",
       "      <td>41029</td>\n",
       "      <td>0.106656</td>\n",
       "    </tr>\n",
       "    <tr>\n",
       "      <th>0800-0859</th>\n",
       "      <td>34384</td>\n",
       "      <td>5254</td>\n",
       "      <td>39638</td>\n",
       "      <td>0.132550</td>\n",
       "    </tr>\n",
       "    <tr>\n",
       "      <th>0900-0959</th>\n",
       "      <td>30593</td>\n",
       "      <td>5706</td>\n",
       "      <td>36299</td>\n",
       "      <td>0.157194</td>\n",
       "    </tr>\n",
       "    <tr>\n",
       "      <th>1000-1059</th>\n",
       "      <td>30423</td>\n",
       "      <td>6876</td>\n",
       "      <td>37299</td>\n",
       "      <td>0.184348</td>\n",
       "    </tr>\n",
       "    <tr>\n",
       "      <th>1100-1159</th>\n",
       "      <td>30424</td>\n",
       "      <td>7374</td>\n",
       "      <td>37798</td>\n",
       "      <td>0.195090</td>\n",
       "    </tr>\n",
       "    <tr>\n",
       "      <th>Total</th>\n",
       "      <td>492096</td>\n",
       "      <td>128157</td>\n",
       "      <td>620253</td>\n",
       "      <td>0.206621</td>\n",
       "    </tr>\n",
       "    <tr>\n",
       "      <th>1200-1259</th>\n",
       "      <td>30721</td>\n",
       "      <td>8133</td>\n",
       "      <td>38854</td>\n",
       "      <td>0.209322</td>\n",
       "    </tr>\n",
       "    <tr>\n",
       "      <th>1300-1359</th>\n",
       "      <td>27005</td>\n",
       "      <td>7768</td>\n",
       "      <td>34773</td>\n",
       "      <td>0.223392</td>\n",
       "    </tr>\n",
       "    <tr>\n",
       "      <th>2300-2359</th>\n",
       "      <td>3738</td>\n",
       "      <td>1098</td>\n",
       "      <td>4836</td>\n",
       "      <td>0.227047</td>\n",
       "    </tr>\n",
       "    <tr>\n",
       "      <th>1400-1459</th>\n",
       "      <td>28186</td>\n",
       "      <td>8609</td>\n",
       "      <td>36795</td>\n",
       "      <td>0.233972</td>\n",
       "    </tr>\n",
       "    <tr>\n",
       "      <th>1500-1559</th>\n",
       "      <td>27086</td>\n",
       "      <td>8999</td>\n",
       "      <td>36085</td>\n",
       "      <td>0.249383</td>\n",
       "    </tr>\n",
       "    <tr>\n",
       "      <th>1600-1659</th>\n",
       "      <td>27000</td>\n",
       "      <td>8989</td>\n",
       "      <td>35989</td>\n",
       "      <td>0.249771</td>\n",
       "    </tr>\n",
       "    <tr>\n",
       "      <th>1700-1759</th>\n",
       "      <td>29585</td>\n",
       "      <td>10279</td>\n",
       "      <td>39864</td>\n",
       "      <td>0.257852</td>\n",
       "    </tr>\n",
       "    <tr>\n",
       "      <th>2200-2259</th>\n",
       "      <td>12515</td>\n",
       "      <td>4737</td>\n",
       "      <td>17252</td>\n",
       "      <td>0.274577</td>\n",
       "    </tr>\n",
       "    <tr>\n",
       "      <th>1800-1859</th>\n",
       "      <td>25551</td>\n",
       "      <td>9795</td>\n",
       "      <td>35346</td>\n",
       "      <td>0.277118</td>\n",
       "    </tr>\n",
       "    <tr>\n",
       "      <th>2000-2059</th>\n",
       "      <td>21364</td>\n",
       "      <td>8626</td>\n",
       "      <td>29990</td>\n",
       "      <td>0.287629</td>\n",
       "    </tr>\n",
       "    <tr>\n",
       "      <th>2100-2159</th>\n",
       "      <td>13859</td>\n",
       "      <td>5864</td>\n",
       "      <td>19723</td>\n",
       "      <td>0.297318</td>\n",
       "    </tr>\n",
       "    <tr>\n",
       "      <th>1900-1959</th>\n",
       "      <td>22878</td>\n",
       "      <td>9758</td>\n",
       "      <td>32636</td>\n",
       "      <td>0.298995</td>\n",
       "    </tr>\n",
       "  </tbody>\n",
       "</table>\n",
       "</div>"
      ],
      "text/plain": [
       "DEP_DEL15        0.0     1.0   Total  Percent_Delayed\n",
       "DEP_TIME_BLK                                         \n",
       "0600-0659      42566    3952   46518         0.084956\n",
       "0001-0559      17565    1964   19529         0.100568\n",
       "0700-0759      36653    4376   41029         0.106656\n",
       "0800-0859      34384    5254   39638         0.132550\n",
       "0900-0959      30593    5706   36299         0.157194\n",
       "1000-1059      30423    6876   37299         0.184348\n",
       "1100-1159      30424    7374   37798         0.195090\n",
       "Total         492096  128157  620253         0.206621\n",
       "1200-1259      30721    8133   38854         0.209322\n",
       "1300-1359      27005    7768   34773         0.223392\n",
       "2300-2359       3738    1098    4836         0.227047\n",
       "1400-1459      28186    8609   36795         0.233972\n",
       "1500-1559      27086    8999   36085         0.249383\n",
       "1600-1659      27000    8989   35989         0.249771\n",
       "1700-1759      29585   10279   39864         0.257852\n",
       "2200-2259      12515    4737   17252         0.274577\n",
       "1800-1859      25551    9795   35346         0.277118\n",
       "2000-2059      21364    8626   29990         0.287629\n",
       "2100-2159      13859    5864   19723         0.297318\n",
       "1900-1959      22878    9758   32636         0.298995"
      ]
     },
     "execution_count": 20,
     "metadata": {},
     "output_type": "execute_result"
    }
   ],
   "source": [
    "# Explore DEPT_TIME_BULK with DEP_DEL15\n",
    "time_block = pd.crosstab(dec_flight['DEP_TIME_BLK'], dec_flight['DEP_DEL15'])\n",
    "time_block['Total'] = time_block.sum(axis=1)\n",
    "time_block.loc['Total'] = time_block.sum()\n",
    "time_block['Percent_Delayed'] = ((time_block.iloc[:,1])/((time_block.iloc[:,0])+(time_block.iloc[:,1])))\n",
    "time_block = time_block.sort_values('Percent_Delayed')\n",
    "time_block"
   ]
  },
  {
   "cell_type": "markdown",
   "metadata": {},
   "source": [
    "**Answer:**<br>\n",
    "Best times = 6-659am @ 8.5% and 1201am - 6am @ 10%<br>\n",
    "Worst times = 7-759pm @ 29.9% and 9-959pm @ 29.7%<br>"
   ]
  },
  {
   "cell_type": "markdown",
   "metadata": {},
   "source": [
    "xxxxxxxxxxxxxxxxxxxxxxxxxxxxxxxxxxxxxxxxxxxxxxxxxxxxxxxxxxxxxxxxxxxxxxxxxxxxxxxxxxxxx<br>\n",
    "DESCRIBE AIRCRAFT DATA<br>\n",
    "xxxxxxxxxxxxxxxxxxxxxxxxxxxxxxxxxxxxxxxxxxxxxxxxxxxxxxxxxxxxxxxxxxxxxxxxxxxxxxxxxxxxx<br>"
   ]
  },
  {
   "cell_type": "code",
   "execution_count": 21,
   "metadata": {},
   "outputs": [
    {
     "data": {
      "text/plain": [
       "(7383, 3)"
      ]
     },
     "execution_count": 21,
     "metadata": {},
     "output_type": "execute_result"
    }
   ],
   "source": [
    "# DESCRIBE SHAPE\n",
    "aircraft.shape"
   ]
  },
  {
   "cell_type": "code",
   "execution_count": 22,
   "metadata": {},
   "outputs": [
    {
     "name": "stdout",
     "output_type": "stream",
     "text": [
      "<class 'pandas.core.frame.DataFrame'>\n",
      "RangeIndex: 7383 entries, 0 to 7382\n",
      "Data columns (total 3 columns):\n",
      " #   Column            Non-Null Count  Dtype  \n",
      "---  ------            --------------  -----  \n",
      " 0   MANUFACTURE_YEAR  7383 non-null   int64  \n",
      " 1   TAIL_NUM          7383 non-null   object \n",
      " 2   NUMBER_OF_SEATS   7376 non-null   float64\n",
      "dtypes: float64(1), int64(1), object(1)\n",
      "memory usage: 173.2+ KB\n"
     ]
    }
   ],
   "source": [
    "# DESCRIBE FEATURE TYPES\n",
    "aircraft.info() "
   ]
  },
  {
   "cell_type": "markdown",
   "metadata": {},
   "source": [
    "xxxxxxxxxxxxxxxxxxxxxxxxxxxxxxxxxxxxxxxxxxxxxxxxxxxxxxxxxxxxxxxxxxxxxxxxxxxxxxxxxxxxx<br>\n",
    "AIRCRAFT FEATURES: NAME, DESCRIPTION  \n",
    "xxxxxxxxxxxxxxxxxxxxxxxxxxxxxxxxxxxxxxxxxxxxxxxxxxxxxxxxxxxxxxxxxxxxxxxxxxxxxxxxxxxxx<br>\n",
    "\n",
    "(LIST EACH FEATURE AND DESCRIPTOIN)"
   ]
  },
  {
   "cell_type": "code",
   "execution_count": 23,
   "metadata": {},
   "outputs": [
    {
     "data": {
      "text/plain": [
       "MANUFACTURE_YEAR      62\n",
       "TAIL_NUM            7361\n",
       "NUMBER_OF_SEATS      121\n",
       "dtype: int64"
      ]
     },
     "execution_count": 23,
     "metadata": {},
     "output_type": "execute_result"
    }
   ],
   "source": [
    "# Count the unique values per feature\n",
    "aircraft.nunique()"
   ]
  },
  {
   "cell_type": "code",
   "execution_count": 24,
   "metadata": {},
   "outputs": [
    {
     "data": {
      "text/plain": [
       "MANUFACTURE_YEAR    0\n",
       "TAIL_NUM            0\n",
       "NUMBER_OF_SEATS     7\n",
       "dtype: int64"
      ]
     },
     "execution_count": 24,
     "metadata": {},
     "output_type": "execute_result"
    }
   ],
   "source": [
    "# DESCRIBE MISSINGNESS OF FEATURES\n",
    "aircraft.isna().sum() "
   ]
  },
  {
   "cell_type": "markdown",
   "metadata": {},
   "source": [
    "xxxxxxxxxxxxxxxxxxxxxxxxxxxxxxxxxxxxxxxxxxxxxxxxxxxxxxxxxxxxxxxxxxxxxxxxxxxxxxxxxxxxx<br>\n",
    "DESCRIBE NAMES DATA<br>\n",
    "xxxxxxxxxxxxxxxxxxxxxxxxxxxxxxxxxxxxxxxxxxxxxxxxxxxxxxxxxxxxxxxxxxxxxxxxxxxxxxxxxxxxx<br>"
   ]
  },
  {
   "cell_type": "code",
   "execution_count": 25,
   "metadata": {},
   "outputs": [
    {
     "data": {
      "text/plain": [
       "(1744, 3)"
      ]
     },
     "execution_count": 25,
     "metadata": {},
     "output_type": "execute_result"
    }
   ],
   "source": [
    "# DESCRIBE SHAPE\n",
    "names.shape"
   ]
  },
  {
   "cell_type": "code",
   "execution_count": 26,
   "metadata": {},
   "outputs": [
    {
     "name": "stdout",
     "output_type": "stream",
     "text": [
      "<class 'pandas.core.frame.DataFrame'>\n",
      "RangeIndex: 1744 entries, 0 to 1743\n",
      "Data columns (total 3 columns):\n",
      " #   Column             Non-Null Count  Dtype \n",
      "---  ------             --------------  ----- \n",
      " 0   AIRLINE_ID         1744 non-null   int64 \n",
      " 1   OP_UNIQUE_CARRIER  1743 non-null   object\n",
      " 2   CARRIER_NAME       1744 non-null   object\n",
      "dtypes: int64(1), object(2)\n",
      "memory usage: 41.0+ KB\n"
     ]
    }
   ],
   "source": [
    "# DESCRIBE FEATURE TYPES\n",
    "names.info()"
   ]
  },
  {
   "cell_type": "markdown",
   "metadata": {},
   "source": [
    "xxxxxxxxxxxxxxxxxxxxxxxxxxxxxxxxxxxxxxxxxxxxxxxxxxxxxxxxxxxxxxxxxxxxxxxxxxxxxxxxxxxxx<br>\n",
    "NAMES FEATURES: NAME, DESCRIPTION<br>\n",
    "xxxxxxxxxxxxxxxxxxxxxxxxxxxxxxxxxxxxxxxxxxxxxxxxxxxxxxxxxxxxxxxxxxxxxxxxxxxxxxxxxxxxx<br>\n",
    "\n",
    "(LIST EACH FEATURE AND DESCRIPTION)"
   ]
  },
  {
   "cell_type": "code",
   "execution_count": 27,
   "metadata": {},
   "outputs": [
    {
     "data": {
      "text/plain": [
       "AIRLINE_ID           1597\n",
       "OP_UNIQUE_CARRIER    1743\n",
       "CARRIER_NAME         1606\n",
       "dtype: int64"
      ]
     },
     "execution_count": 27,
     "metadata": {},
     "output_type": "execute_result"
    }
   ],
   "source": [
    "# Count the unique values per feature\n",
    "names.nunique()"
   ]
  },
  {
   "cell_type": "code",
   "execution_count": 28,
   "metadata": {},
   "outputs": [
    {
     "data": {
      "text/plain": [
       "AIRLINE_ID           0\n",
       "OP_UNIQUE_CARRIER    1\n",
       "CARRIER_NAME         0\n",
       "dtype: int64"
      ]
     },
     "execution_count": 28,
     "metadata": {},
     "output_type": "execute_result"
    }
   ],
   "source": [
    "# DESCRIBE MISSINGNESS OF FEATURES\n",
    "names.isna().sum() "
   ]
  },
  {
   "cell_type": "markdown",
   "metadata": {},
   "source": [
    "xxxxxxxxxxxxxxxxxxxxxxxxxxxxxxxxxxxxxxxxxxxxxxxxxxxxxxxxxxxxxxxxxxxxxxxxxxxxxxxxxxxxx<br>\n",
    "DESCRIBE EMPLOYEES DATA<br>\n",
    "xxxxxxxxxxxxxxxxxxxxxxxxxxxxxxxxxxxxxxxxxxxxxxxxxxxxxxxxxxxxxxxxxxxxxxxxxxxxxxxxxxxxx<br>"
   ]
  },
  {
   "cell_type": "code",
   "execution_count": 29,
   "metadata": {},
   "outputs": [
    {
     "data": {
      "text/plain": [
       "(16, 5)"
      ]
     },
     "execution_count": 29,
     "metadata": {},
     "output_type": "execute_result"
    }
   ],
   "source": [
    "# DESCRIBE SHAPE\n",
    "employees.shape "
   ]
  },
  {
   "cell_type": "code",
   "execution_count": 30,
   "metadata": {},
   "outputs": [
    {
     "name": "stdout",
     "output_type": "stream",
     "text": [
      "<class 'pandas.core.frame.DataFrame'>\n",
      "RangeIndex: 16 entries, 0 to 15\n",
      "Data columns (total 5 columns):\n",
      " #   Column              Non-Null Count  Dtype \n",
      "---  ------              --------------  ----- \n",
      " 0   OP_UNIQUE_CARRIER   16 non-null     object\n",
      " 1   PILOTS_COPILOTS     16 non-null     int64 \n",
      " 2   PASSENGER_HANDLING  16 non-null     int64 \n",
      " 3   PASS_GEN_SVC_ADMIN  16 non-null     int64 \n",
      " 4   MAINTENANCE         16 non-null     int64 \n",
      "dtypes: int64(4), object(1)\n",
      "memory usage: 768.0+ bytes\n"
     ]
    }
   ],
   "source": [
    "# DESCRIBE FEATURE TYPES\n",
    "employees.info()"
   ]
  },
  {
   "cell_type": "markdown",
   "metadata": {},
   "source": [
    "xxxxxxxxxxxxxxxxxxxxxxxxxxxxxxxxxxxxxxxxxxxxxxxxxxxxxxxxxxxxxxxxxxxxxxxxxxxxxxxxxxxxx<br>\n",
    "EMPLOYEES FEATURES: NAME, DESCRIPTION<br>\n",
    "xxxxxxxxxxxxxxxxxxxxxxxxxxxxxxxxxxxxxxxxxxxxxxxxxxxxxxxxxxxxxxxxxxxxxxxxxxxxxxxxxxxxx<br>\n",
    "\n",
    "(LIST FEATURES AND DESCRIPTION)"
   ]
  },
  {
   "cell_type": "code",
   "execution_count": 31,
   "metadata": {},
   "outputs": [
    {
     "data": {
      "text/plain": [
       "OP_UNIQUE_CARRIER     16\n",
       "PILOTS_COPILOTS       16\n",
       "PASSENGER_HANDLING    16\n",
       "PASS_GEN_SVC_ADMIN    16\n",
       "MAINTENANCE           16\n",
       "dtype: int64"
      ]
     },
     "execution_count": 31,
     "metadata": {},
     "output_type": "execute_result"
    }
   ],
   "source": [
    "# Count the unique values per feature\n",
    "employees.nunique()"
   ]
  },
  {
   "cell_type": "markdown",
   "metadata": {},
   "source": [
    "xxxxxxxxxxxxxxxxxxxxxxxxxxxxxxxxxxxxxxxxxxxxxxxxxxxxxxxxxxxxxxxxxxxxxxxxxxxxxxxxxxxxx<br>\n",
    "EMPLOYEES FEATURES DISTRIBUTION<br>\n",
    "xxxxxxxxxxxxxxxxxxxxxxxxxxxxxxxxxxxxxxxxxxxxxxxxxxxxxxxxxxxxxxxxxxxxxxxxxxxxxxxxxxxxx<br>"
   ]
  },
  {
   "cell_type": "code",
   "execution_count": 32,
   "metadata": {},
   "outputs": [
    {
     "data": {
      "image/png": "[encoded data removed]",
      "text/plain": [
       "<Figure size 1440x1440 with 4 Axes>"
      ]
     },
     "metadata": {
      "needs_background": "light"
     },
     "output_type": "display_data"
    }
   ],
   "source": [
    "# Graph Distributions of numerical features\n",
    "histlist3 = employees.hist(figsize = (20, 20))"
   ]
  },
  {
   "cell_type": "code",
   "execution_count": 33,
   "metadata": {},
   "outputs": [
    {
     "data": {
      "text/plain": [
       "OP_UNIQUE_CARRIER     0\n",
       "PILOTS_COPILOTS       0\n",
       "PASSENGER_HANDLING    0\n",
       "PASS_GEN_SVC_ADMIN    0\n",
       "MAINTENANCE           0\n",
       "dtype: int64"
      ]
     },
     "execution_count": 33,
     "metadata": {},
     "output_type": "execute_result"
    }
   ],
   "source": [
    "# DESCRIBE MISSINGNESS OF FEATURES\n",
    "employees.isna().sum() "
   ]
  },
  {
   "cell_type": "markdown",
   "metadata": {},
   "source": [
    "xxxxxxxxxxxxxxxxxxxxxxxxxxxxxxxxxxxxxxxxxxxxxxxxxxxxxxxxxxxxxxxxxxxxxxxxxxxxxxxxxxxxx<br>\n",
    "DESCRIBE WEATHER_REPORT DATA<br>\n",
    "xxxxxxxxxxxxxxxxxxxxxxxxxxxxxxxxxxxxxxxxxxxxxxxxxxxxxxxxxxxxxxxxxxxxxxxxxxxxxxxxxxxxx<br>"
   ]
  },
  {
   "cell_type": "code",
   "execution_count": 34,
   "metadata": {},
   "outputs": [
    {
     "data": {
      "text/plain": [
       "(3286, 7)"
      ]
     },
     "execution_count": 34,
     "metadata": {},
     "output_type": "execute_result"
    }
   ],
   "source": [
    "# DESCRIBE SHAPE\n",
    "weather_report.shape "
   ]
  },
  {
   "cell_type": "code",
   "execution_count": 35,
   "metadata": {},
   "outputs": [
    {
     "name": "stdout",
     "output_type": "stream",
     "text": [
      "<class 'pandas.core.frame.DataFrame'>\n",
      "RangeIndex: 3286 entries, 0 to 3285\n",
      "Data columns (total 7 columns):\n",
      " #   Column  Non-Null Count  Dtype  \n",
      "---  ------  --------------  -----  \n",
      " 0   DATE    3286 non-null   object \n",
      " 1   NAME    3286 non-null   object \n",
      " 2   PRCP    3286 non-null   float64\n",
      " 3   SNOW    2418 non-null   float64\n",
      " 4   SNWD    3284 non-null   float64\n",
      " 5   TMAX    3244 non-null   float64\n",
      " 6   AWND    3255 non-null   float64\n",
      "dtypes: float64(5), object(2)\n",
      "memory usage: 179.8+ KB\n"
     ]
    }
   ],
   "source": [
    "# DESCRIBE FEATURE TYPES\n",
    "weather_report.info()"
   ]
  },
  {
   "cell_type": "markdown",
   "metadata": {},
   "source": [
    "xxxxxxxxxxxxxxxxxxxxxxxxxxxxxxxxxxxxxxxxxxxxxxxxxxxxxxxxxxxxxxxxxxxxxxxxxxxxxxxxxxxxx<br>\n",
    "WEATHER_REPORT FEATURES: NAME, DESCRIPTION<br>\n",
    "xxxxxxxxxxxxxxxxxxxxxxxxxxxxxxxxxxxxxxxxxxxxxxxxxxxxxxxxxxxxxxxxxxxxxxxxxxxxxxxxxxxxx<br>\n",
    "\n",
    "(LIST FEATURES AND DESCRIPTION)"
   ]
  },
  {
   "cell_type": "markdown",
   "metadata": {},
   "source": [
    "xxxxxxxxxxxxxxxxxxxxxxxxxxxxxxxxxxxxxxxxxxxxxxxxxxxxxxxxxxxxxxxxxxxxxxxxxxxxxxxxxxxxx<br>\n",
    "WEATHER_REPORT FEATURES DISTRIBUTION<br>\n",
    "xxxxxxxxxxxxxxxxxxxxxxxxxxxxxxxxxxxxxxxxxxxxxxxxxxxxxxxxxxxxxxxxxxxxxxxxxxxxxxxxxxxxx<br>"
   ]
  },
  {
   "cell_type": "code",
   "execution_count": 36,
   "metadata": {},
   "outputs": [
    {
     "data": {
      "image/png": "[encoded data removed]",
      "text/plain": [
       "<Figure size 1728x2160 with 6 Axes>"
      ]
     },
     "metadata": {
      "needs_background": "light"
     },
     "output_type": "display_data"
    }
   ],
   "source": [
    "# Graph Distributions of numerical features\n",
    "histlist3 = weather_report.hist(figsize = (24, 30))"
   ]
  },
  {
   "cell_type": "code",
   "execution_count": 37,
   "metadata": {},
   "outputs": [
    {
     "data": {
      "text/plain": [
       "DATE      0\n",
       "NAME      0\n",
       "PRCP      0\n",
       "SNOW    868\n",
       "SNWD      2\n",
       "TMAX     42\n",
       "AWND     31\n",
       "dtype: int64"
      ]
     },
     "execution_count": 37,
     "metadata": {},
     "output_type": "execute_result"
    }
   ],
   "source": [
    "# DESCRIBE MISSINGNESS OF FEATURES\n",
    "weather_report.isna().sum() "
   ]
  },
  {
   "cell_type": "markdown",
   "metadata": {},
   "source": [
    "xxxxxxxxxxxxxxxxxxxxxxxxxxxxxxxxxxxxxxxxxxxxxxxxxxxxxxxxxxxxxxxxxxxxxxxxxxxxxxxxxxxxx<br>\n",
    "DESCRIBE CITIES DATA<br>\n",
    "xxxxxxxxxxxxxxxxxxxxxxxxxxxxxxxxxxxxxxxxxxxxxxxxxxxxxxxxxxxxxxxxxxxxxxxxxxxxxxxxxxxxx<br>"
   ]
  },
  {
   "cell_type": "code",
   "execution_count": 38,
   "metadata": {},
   "outputs": [
    {
     "data": {
      "text/plain": [
       "(97, 4)"
      ]
     },
     "execution_count": 38,
     "metadata": {},
     "output_type": "execute_result"
    }
   ],
   "source": [
    "# DESCRIBE SHAPE\n",
    "cities.shape "
   ]
  },
  {
   "cell_type": "code",
   "execution_count": 39,
   "metadata": {},
   "outputs": [
    {
     "name": "stdout",
     "output_type": "stream",
     "text": [
      "<class 'pandas.core.frame.DataFrame'>\n",
      "RangeIndex: 97 entries, 0 to 96\n",
      "Data columns (total 4 columns):\n",
      " #   Column                Non-Null Count  Dtype \n",
      "---  ------                --------------  ----- \n",
      " 0   ORIGIN_AIRPORT_ID     97 non-null     int64 \n",
      " 1   DISPLAY_AIRPORT_NAME  97 non-null     object\n",
      " 2   ORIGIN_CITY_NAME      97 non-null     object\n",
      " 3   NAME                  97 non-null     object\n",
      "dtypes: int64(1), object(3)\n",
      "memory usage: 3.2+ KB\n"
     ]
    }
   ],
   "source": [
    "# DESCRIBE FEATURE TYPES\n",
    "cities.info()"
   ]
  },
  {
   "cell_type": "markdown",
   "metadata": {},
   "source": [
    "xxxxxxxxxxxxxxxxxxxxxxxxxxxxxxxxxxxxxxxxxxxxxxxxxxxxxxxxxxxxxxxxxxxxxxxxxxxxxxxxxxxxx<br>\n",
    "CITIES FEATURES: NAME, DESCRIPTION<br>\n",
    "xxxxxxxxxxxxxxxxxxxxxxxxxxxxxxxxxxxxxxxxxxxxxxxxxxxxxxxxxxxxxxxxxxxxxxxxxxxxxxxxxxxxx<br>\n",
    "\n",
    "(LIST CITY FEATURES AND DESCRIPTIONS)"
   ]
  },
  {
   "cell_type": "code",
   "execution_count": 40,
   "metadata": {},
   "outputs": [
    {
     "data": {
      "text/plain": [
       "ORIGIN_AIRPORT_ID       97\n",
       "DISPLAY_AIRPORT_NAME    97\n",
       "ORIGIN_CITY_NAME        94\n",
       "NAME                    86\n",
       "dtype: int64"
      ]
     },
     "execution_count": 40,
     "metadata": {},
     "output_type": "execute_result"
    }
   ],
   "source": [
    "# Count the unique values per feature\n",
    "cities.nunique()"
   ]
  },
  {
   "cell_type": "code",
   "execution_count": 41,
   "metadata": {},
   "outputs": [
    {
     "data": {
      "text/plain": [
       "ORIGIN_AIRPORT_ID       0\n",
       "DISPLAY_AIRPORT_NAME    0\n",
       "ORIGIN_CITY_NAME        0\n",
       "NAME                    0\n",
       "dtype: int64"
      ]
     },
     "execution_count": 41,
     "metadata": {},
     "output_type": "execute_result"
    }
   ],
   "source": [
    "# DESCRIBE MISSINGNESS OF FEATURES\n",
    "cities.isna().sum() "
   ]
  },
  {
   "cell_type": "code",
   "execution_count": null,
   "metadata": {},
   "outputs": [],
   "source": []
  }
 ],
 "metadata": {
  "instance_type": "ml.t3.medium",
  "kernelspec": {
   "display_name": "Python 3 (Data Science)",
   "language": "python",
   "name": "python3__SAGEMAKER_INTERNAL__arn:aws:sagemaker:us-east-1:081325390199:image/datascience-1.0"
  },
  "language_info": {
   "codemirror_mode": {
    "name": "ipython",
    "version": 3
   },
   "file_extension": ".py",
   "mimetype": "text/x-python",
   "name": "python",
   "nbconvert_exporter": "python",
   "pygments_lexer": "ipython3",
   "version": "3.7.10"
  }
 },
 "nbformat": 4,
 "nbformat_minor": 4
}
